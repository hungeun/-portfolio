{
 "cells": [
  {
   "cell_type": "markdown",
   "metadata": {
    "id": "mTt7qGUTCcFs"
   },
   "source": [
    "# 과제#2. 직원 이직 예측"
   ]
  },
  {
   "cell_type": "markdown",
   "metadata": {
    "id": "t42CZ_o2iHvT"
   },
   "source": [
    "* 회사 인사팀에서는 AIVLER 들에게 직원의 이직여부과 관련해서 분석을 요청하였습니다.\n",
    "* 최근 이직율이 증가하는 것에 대해 우려를 갖고 있기에, 이직여부에 영향을 주는 요인에 대해 분석하여, 이직할 것으로 보이는 직원들에 대해 회사를 떠나지 않도록 인사 프로그램을 준비하려고 합니다.\n",
    "* 어떤 직원이 이직할지 예측해 봅시다."
   ]
  },
  {
   "cell_type": "markdown",
   "metadata": {
    "id": "0wuYJKZHjA3d"
   },
   "source": [
    "![](https://adoptostaging.blob.core.windows.net/media/employee-attrition-reasons-9LIqMv.jpg)"
   ]
  },
  {
   "cell_type": "markdown",
   "metadata": {
    "id": "AHmt88Q5EVsj"
   },
   "source": [
    "## 0.환경설정"
   ]
  },
  {
   "cell_type": "markdown",
   "metadata": {
    "id": "KnzVh2LmkLDU"
   },
   "source": [
    "### 1) 라이브러리 로딩"
   ]
  },
  {
   "cell_type": "code",
   "execution_count": 1,
   "metadata": {
    "id": "3rsQerEaELwI"
   },
   "outputs": [],
   "source": [
    "# 기본 라이브러리 가져오기\n",
    "import pandas as pd\n",
    "import numpy as np\n",
    "\n",
    "import matplotlib.pyplot as plt\n",
    "import seaborn as sns\n",
    "\n",
    "from sklearn.model_selection import train_test_split    "
   ]
  },
  {
   "cell_type": "markdown",
   "metadata": {
    "id": "5Qh5KYWokO_N"
   },
   "source": [
    "### 2) 데이터 로딩"
   ]
  },
  {
   "cell_type": "code",
   "execution_count": 2,
   "metadata": {
    "id": "Bw5yZwT0MJKx"
   },
   "outputs": [
    {
     "data": {
      "text/html": [
       "<div>\n",
       "<style scoped>\n",
       "    .dataframe tbody tr th:only-of-type {\n",
       "        vertical-align: middle;\n",
       "    }\n",
       "\n",
       "    .dataframe tbody tr th {\n",
       "        vertical-align: top;\n",
       "    }\n",
       "\n",
       "    .dataframe thead th {\n",
       "        text-align: right;\n",
       "    }\n",
       "</style>\n",
       "<table border=\"1\" class=\"dataframe\">\n",
       "  <thead>\n",
       "    <tr style=\"text-align: right;\">\n",
       "      <th></th>\n",
       "      <th>Attrition</th>\n",
       "      <th>Age</th>\n",
       "      <th>BusinessTravel</th>\n",
       "      <th>Department</th>\n",
       "      <th>DistanceFromHome</th>\n",
       "      <th>Education</th>\n",
       "      <th>EducationField</th>\n",
       "      <th>EmployeeNumber</th>\n",
       "      <th>EnvironmentSatisfaction</th>\n",
       "      <th>Gender</th>\n",
       "      <th>...</th>\n",
       "      <th>OverTime</th>\n",
       "      <th>PercentSalaryHike</th>\n",
       "      <th>RelationshipSatisfaction</th>\n",
       "      <th>StockOptionLevel</th>\n",
       "      <th>TotalWorkingYears</th>\n",
       "      <th>TrainingTimesLastYear</th>\n",
       "      <th>WorkLifeBalance</th>\n",
       "      <th>YearsAtCompany</th>\n",
       "      <th>YearsInCurrentRole</th>\n",
       "      <th>YearsWithCurrManager</th>\n",
       "    </tr>\n",
       "  </thead>\n",
       "  <tbody>\n",
       "    <tr>\n",
       "      <th>1240</th>\n",
       "      <td>0</td>\n",
       "      <td>32</td>\n",
       "      <td>Travel_Rarely</td>\n",
       "      <td>Research &amp; Development</td>\n",
       "      <td>6.0</td>\n",
       "      <td>5</td>\n",
       "      <td>Life Sciences</td>\n",
       "      <td>231</td>\n",
       "      <td>3</td>\n",
       "      <td>Male</td>\n",
       "      <td>...</td>\n",
       "      <td>No</td>\n",
       "      <td>20</td>\n",
       "      <td>1</td>\n",
       "      <td>0</td>\n",
       "      <td>8</td>\n",
       "      <td>2</td>\n",
       "      <td>3</td>\n",
       "      <td>5</td>\n",
       "      <td>4</td>\n",
       "      <td>4</td>\n",
       "    </tr>\n",
       "    <tr>\n",
       "      <th>1241</th>\n",
       "      <td>0</td>\n",
       "      <td>29</td>\n",
       "      <td>Travel_Rarely</td>\n",
       "      <td>Sales</td>\n",
       "      <td>19.0</td>\n",
       "      <td>3</td>\n",
       "      <td>Life Sciences</td>\n",
       "      <td>1497</td>\n",
       "      <td>3</td>\n",
       "      <td>Male</td>\n",
       "      <td>...</td>\n",
       "      <td>No</td>\n",
       "      <td>14</td>\n",
       "      <td>3</td>\n",
       "      <td>2</td>\n",
       "      <td>10</td>\n",
       "      <td>3</td>\n",
       "      <td>3</td>\n",
       "      <td>10</td>\n",
       "      <td>7</td>\n",
       "      <td>4</td>\n",
       "    </tr>\n",
       "    <tr>\n",
       "      <th>1242</th>\n",
       "      <td>0</td>\n",
       "      <td>31</td>\n",
       "      <td>Non-Travel</td>\n",
       "      <td>Research &amp; Development</td>\n",
       "      <td>1.0</td>\n",
       "      <td>4</td>\n",
       "      <td>Medical</td>\n",
       "      <td>308</td>\n",
       "      <td>3</td>\n",
       "      <td>Male</td>\n",
       "      <td>...</td>\n",
       "      <td>No</td>\n",
       "      <td>12</td>\n",
       "      <td>4</td>\n",
       "      <td>1</td>\n",
       "      <td>6</td>\n",
       "      <td>2</td>\n",
       "      <td>3</td>\n",
       "      <td>5</td>\n",
       "      <td>4</td>\n",
       "      <td>4</td>\n",
       "    </tr>\n",
       "    <tr>\n",
       "      <th>1243</th>\n",
       "      <td>0</td>\n",
       "      <td>27</td>\n",
       "      <td>Travel_Rarely</td>\n",
       "      <td>Research &amp; Development</td>\n",
       "      <td>5.0</td>\n",
       "      <td>1</td>\n",
       "      <td>Technical Degree</td>\n",
       "      <td>844</td>\n",
       "      <td>3</td>\n",
       "      <td>Male</td>\n",
       "      <td>...</td>\n",
       "      <td>Yes</td>\n",
       "      <td>16</td>\n",
       "      <td>2</td>\n",
       "      <td>1</td>\n",
       "      <td>9</td>\n",
       "      <td>3</td>\n",
       "      <td>3</td>\n",
       "      <td>9</td>\n",
       "      <td>8</td>\n",
       "      <td>8</td>\n",
       "    </tr>\n",
       "    <tr>\n",
       "      <th>1244</th>\n",
       "      <td>0</td>\n",
       "      <td>32</td>\n",
       "      <td>Travel_Rarely</td>\n",
       "      <td>Research &amp; Development</td>\n",
       "      <td>5.0</td>\n",
       "      <td>2</td>\n",
       "      <td>Life Sciences</td>\n",
       "      <td>1555</td>\n",
       "      <td>4</td>\n",
       "      <td>Female</td>\n",
       "      <td>...</td>\n",
       "      <td>No</td>\n",
       "      <td>12</td>\n",
       "      <td>1</td>\n",
       "      <td>1</td>\n",
       "      <td>12</td>\n",
       "      <td>2</td>\n",
       "      <td>3</td>\n",
       "      <td>7</td>\n",
       "      <td>1</td>\n",
       "      <td>5</td>\n",
       "    </tr>\n",
       "    <tr>\n",
       "      <th>1245</th>\n",
       "      <td>0</td>\n",
       "      <td>27</td>\n",
       "      <td>Travel_Rarely</td>\n",
       "      <td>Research &amp; Development</td>\n",
       "      <td>19.0</td>\n",
       "      <td>3</td>\n",
       "      <td>Other</td>\n",
       "      <td>1619</td>\n",
       "      <td>4</td>\n",
       "      <td>Male</td>\n",
       "      <td>...</td>\n",
       "      <td>No</td>\n",
       "      <td>11</td>\n",
       "      <td>1</td>\n",
       "      <td>2</td>\n",
       "      <td>7</td>\n",
       "      <td>3</td>\n",
       "      <td>3</td>\n",
       "      <td>7</td>\n",
       "      <td>7</td>\n",
       "      <td>7</td>\n",
       "    </tr>\n",
       "    <tr>\n",
       "      <th>1246</th>\n",
       "      <td>0</td>\n",
       "      <td>29</td>\n",
       "      <td>Travel_Rarely</td>\n",
       "      <td>Research &amp; Development</td>\n",
       "      <td>9.0</td>\n",
       "      <td>3</td>\n",
       "      <td>Life Sciences</td>\n",
       "      <td>1558</td>\n",
       "      <td>3</td>\n",
       "      <td>Male</td>\n",
       "      <td>...</td>\n",
       "      <td>No</td>\n",
       "      <td>18</td>\n",
       "      <td>1</td>\n",
       "      <td>2</td>\n",
       "      <td>5</td>\n",
       "      <td>2</td>\n",
       "      <td>2</td>\n",
       "      <td>1</td>\n",
       "      <td>0</td>\n",
       "      <td>0</td>\n",
       "    </tr>\n",
       "    <tr>\n",
       "      <th>1247</th>\n",
       "      <td>0</td>\n",
       "      <td>29</td>\n",
       "      <td>Non-Travel</td>\n",
       "      <td>Sales</td>\n",
       "      <td>2.0</td>\n",
       "      <td>3</td>\n",
       "      <td>Life Sciences</td>\n",
       "      <td>469</td>\n",
       "      <td>4</td>\n",
       "      <td>Male</td>\n",
       "      <td>...</td>\n",
       "      <td>No</td>\n",
       "      <td>14</td>\n",
       "      <td>1</td>\n",
       "      <td>1</td>\n",
       "      <td>4</td>\n",
       "      <td>3</td>\n",
       "      <td>2</td>\n",
       "      <td>4</td>\n",
       "      <td>3</td>\n",
       "      <td>2</td>\n",
       "    </tr>\n",
       "    <tr>\n",
       "      <th>1248</th>\n",
       "      <td>0</td>\n",
       "      <td>43</td>\n",
       "      <td>Travel_Rarely</td>\n",
       "      <td>Sales</td>\n",
       "      <td>16.0</td>\n",
       "      <td>3</td>\n",
       "      <td>Marketing</td>\n",
       "      <td>327</td>\n",
       "      <td>4</td>\n",
       "      <td>Female</td>\n",
       "      <td>...</td>\n",
       "      <td>Yes</td>\n",
       "      <td>22</td>\n",
       "      <td>3</td>\n",
       "      <td>1</td>\n",
       "      <td>22</td>\n",
       "      <td>3</td>\n",
       "      <td>3</td>\n",
       "      <td>17</td>\n",
       "      <td>13</td>\n",
       "      <td>9</td>\n",
       "    </tr>\n",
       "    <tr>\n",
       "      <th>1249</th>\n",
       "      <td>0</td>\n",
       "      <td>26</td>\n",
       "      <td>Travel_Rarely</td>\n",
       "      <td>Research &amp; Development</td>\n",
       "      <td>NaN</td>\n",
       "      <td>4</td>\n",
       "      <td>Medical</td>\n",
       "      <td>1177</td>\n",
       "      <td>1</td>\n",
       "      <td>Male</td>\n",
       "      <td>...</td>\n",
       "      <td>No</td>\n",
       "      <td>22</td>\n",
       "      <td>2</td>\n",
       "      <td>1</td>\n",
       "      <td>8</td>\n",
       "      <td>2</td>\n",
       "      <td>3</td>\n",
       "      <td>8</td>\n",
       "      <td>7</td>\n",
       "      <td>7</td>\n",
       "    </tr>\n",
       "  </tbody>\n",
       "</table>\n",
       "<p>10 rows × 26 columns</p>\n",
       "</div>"
      ],
      "text/plain": [
       "      Attrition  Age BusinessTravel              Department  DistanceFromHome  \\\n",
       "1240          0   32  Travel_Rarely  Research & Development               6.0   \n",
       "1241          0   29  Travel_Rarely                   Sales              19.0   \n",
       "1242          0   31     Non-Travel  Research & Development               1.0   \n",
       "1243          0   27  Travel_Rarely  Research & Development               5.0   \n",
       "1244          0   32  Travel_Rarely  Research & Development               5.0   \n",
       "1245          0   27  Travel_Rarely  Research & Development              19.0   \n",
       "1246          0   29  Travel_Rarely  Research & Development               9.0   \n",
       "1247          0   29     Non-Travel                   Sales               2.0   \n",
       "1248          0   43  Travel_Rarely                   Sales              16.0   \n",
       "1249          0   26  Travel_Rarely  Research & Development               NaN   \n",
       "\n",
       "      Education    EducationField  EmployeeNumber  EnvironmentSatisfaction  \\\n",
       "1240          5     Life Sciences             231                        3   \n",
       "1241          3     Life Sciences            1497                        3   \n",
       "1242          4           Medical             308                        3   \n",
       "1243          1  Technical Degree             844                        3   \n",
       "1244          2     Life Sciences            1555                        4   \n",
       "1245          3             Other            1619                        4   \n",
       "1246          3     Life Sciences            1558                        3   \n",
       "1247          3     Life Sciences             469                        4   \n",
       "1248          3         Marketing             327                        4   \n",
       "1249          4           Medical            1177                        1   \n",
       "\n",
       "      Gender  ...  OverTime PercentSalaryHike  RelationshipSatisfaction  \\\n",
       "1240    Male  ...        No                20                         1   \n",
       "1241    Male  ...        No                14                         3   \n",
       "1242    Male  ...        No                12                         4   \n",
       "1243    Male  ...       Yes                16                         2   \n",
       "1244  Female  ...        No                12                         1   \n",
       "1245    Male  ...        No                11                         1   \n",
       "1246    Male  ...        No                18                         1   \n",
       "1247    Male  ...        No                14                         1   \n",
       "1248  Female  ...       Yes                22                         3   \n",
       "1249    Male  ...        No                22                         2   \n",
       "\n",
       "     StockOptionLevel  TotalWorkingYears  TrainingTimesLastYear  \\\n",
       "1240                0                  8                      2   \n",
       "1241                2                 10                      3   \n",
       "1242                1                  6                      2   \n",
       "1243                1                  9                      3   \n",
       "1244                1                 12                      2   \n",
       "1245                2                  7                      3   \n",
       "1246                2                  5                      2   \n",
       "1247                1                  4                      3   \n",
       "1248                1                 22                      3   \n",
       "1249                1                  8                      2   \n",
       "\n",
       "     WorkLifeBalance  YearsAtCompany  YearsInCurrentRole  YearsWithCurrManager  \n",
       "1240               3               5                   4                     4  \n",
       "1241               3              10                   7                     4  \n",
       "1242               3               5                   4                     4  \n",
       "1243               3               9                   8                     8  \n",
       "1244               3               7                   1                     5  \n",
       "1245               3               7                   7                     7  \n",
       "1246               2               1                   0                     0  \n",
       "1247               2               4                   3                     2  \n",
       "1248               3              17                  13                     9  \n",
       "1249               3               8                   7                     7  \n",
       "\n",
       "[10 rows x 26 columns]"
      ]
     },
     "execution_count": 2,
     "metadata": {},
     "output_type": "execute_result"
    }
   ],
   "source": [
    "# data data\n",
    "path = \"https://raw.githubusercontent.com/DA4BAM/dataset/master/Attrition_NA.CSV\"\n",
    "data = pd.read_csv(path)\n",
    "data['Attrition'] = np.where(data['Attrition']=='Yes', 1, 0)\n",
    "data.tail(10)"
   ]
  },
  {
   "cell_type": "markdown",
   "metadata": {
    "id": "v50TP8BhMJKx"
   },
   "source": [
    "|\t변수 명\t|\t내용\t|\t구분\t|\n",
    "|\t----\t|\t----\t|\t----\t|\n",
    "|\t**Attrition**\t|\t이직여부, Yes = 1 , No = 0\t|\t**Target**\t|\n",
    "|\tAge\t|\t나이\t|\t숫자\t|\n",
    "|\tBusinessTravel\t|\t출장 빈도(범주)\t|\t\t|\n",
    "|\tDepartment\t|\t현 부서\t|\t\t|\n",
    "|\tDistanceFromHome\t|\t집-직장 거리(마일)\t|\t숫자\t|\n",
    "|\tEducation\t|\t교육수준(범주)\t|\t1 Below College, 2 College, 3 Bachelor, 4 Master, 5 Doctor\t|\n",
    "|\tEducationField\t|\t전공\t|\t\t|\n",
    "|\tEmployeeNumber\t|\t사번\t|\t\t|\n",
    "|\tEnvironmentSatisfaction\t|\t근무환경에 대한 만족도(범주)\t|\t1 Low, 2 Good, 3 Excellent, 4 Outstanding\t|\n",
    "|\tGender\t|\t성별\t|\t\t|\n",
    "|\tJobInvolvement\t|\t직무 적극성(참여도)\t|\t1 Low, 2 Medium, 3 High, 4 Very High\t|\n",
    "|\tJobRole\t|\t직무\t|\t\t|\n",
    "|\tJobSatisfaction\t|\t직무 만족도\t|\t1 Low, 2 Medium, 3 High, 4 Very High\t|\n",
    "|\tMaritalStatus\t|\t결혼상태\t|\t\t|\n",
    "|\tMonthlyIncome\t|\t월급\t|\t숫자\t|\n",
    "|\tNumCompaniesWorked\t|\t현재까지 근무한 회사 수\t|\t숫자\t|\n",
    "|\tOverTime\t|\t야근여부\t|\t범주\t|\n",
    "|\tPercentSalaryHike\t|\t전년대비 급여인상율(%)\t|\t숫자\t|\n",
    "|\tRelationshipSatisfaction\t|\t동료와의 관계 만족도\t|\t1 Low, 2 Medium, 3 High, 4 Very High\t|\n",
    "|\tStockOptionLevel\t|\t스톡옵션 수준 0~3\t|\t범주\t|\n",
    "|\tTotalWorkingYears\t|\t총 근무 연수\t|\t숫자\t|\n",
    "|\tTrainingTimesLastYear\t|\t전년 교육훈련 횟수\t|\t숫자\t|\n",
    "|\tWorkLifeBalance\t|\t워라밸. 일-삶 균형도\t|\t1 Bad, 2 Good, 3 Better, 4 Best\t|\n",
    "|\tYearsAtCompany\t|\t현직장 근무 연수\t|\t숫자\t|\n",
    "|\tYearsInCurrentRole\t|\t현직무 연수\t|\t숫자\t|\n",
    "|\tYearsWithCurrManager\t|\t현 팀장과 근무한 연수\t|\t숫자\t|\n"
   ]
  },
  {
   "cell_type": "markdown",
   "metadata": {
    "id": "bKimk8qVm8oC"
   },
   "source": [
    "----"
   ]
  },
  {
   "cell_type": "markdown",
   "metadata": {
    "id": "0bouXLxGkSSd"
   },
   "source": [
    "## 1.데이터 탐색"
   ]
  },
  {
   "cell_type": "markdown",
   "metadata": {
    "id": "PRXJWyibZTJN"
   },
   "source": [
    "## 2.데이터 전처리 "
   ]
  },
  {
   "cell_type": "code",
   "execution_count": 3,
   "metadata": {
    "id": "vtn0hI98urCt"
   },
   "outputs": [],
   "source": [
    "target = 'Attrition'"
   ]
  },
  {
   "cell_type": "markdown",
   "metadata": {
    "id": "OftPNXa1EPeV"
   },
   "source": [
    "### 2.1 데이터 정리"
   ]
  },
  {
   "cell_type": "markdown",
   "metadata": {
    "id": "mk_WSjzdnLLE"
   },
   "source": [
    "* feature와 , target으로 분할"
   ]
  },
  {
   "cell_type": "code",
   "execution_count": 4,
   "metadata": {
    "id": "hKx1tqpEEPeV"
   },
   "outputs": [],
   "source": [
    "x = data.drop(target, axis = 1)\n",
    "y = data.loc[:, target]"
   ]
  },
  {
   "cell_type": "markdown",
   "metadata": {
    "id": "a_EtSMDQnMQ5"
   },
   "source": [
    "* 불필요한 feature 제거\n",
    "    * 제거해야 할 feature를 선정하고 제거하시오. 제거 이유를 주석으로 기술합니다."
   ]
  },
  {
   "cell_type": "code",
   "execution_count": 5,
   "metadata": {
    "tags": []
   },
   "outputs": [
    {
     "name": "stdout",
     "output_type": "stream",
     "text": [
      "==============================\n",
      "Age :\n",
      "35    71\n",
      "34    65\n",
      "36    57\n",
      "30    57\n",
      "29    55\n",
      "31    55\n",
      "38    51\n",
      "33    49\n",
      "32    47\n",
      "40    47\n",
      "37    46\n",
      "28    41\n",
      "27    40\n",
      "42    39\n",
      "39    37\n",
      "26    36\n",
      "45    36\n",
      "41    33\n",
      "46    30\n",
      "43    28\n",
      "44    27\n",
      "50    25\n",
      "55    20\n",
      "25    20\n",
      "49    20\n",
      "24    20\n",
      "47    19\n",
      "48    17\n",
      "53    16\n",
      "54    16\n",
      "22    15\n",
      "52    15\n",
      "23    13\n",
      "56    13\n",
      "51    13\n",
      "21    10\n",
      "58    10\n",
      "59     9\n",
      "18     8\n",
      "19     8\n",
      "20     8\n",
      "57     4\n",
      "60     4\n",
      "Name: Age, dtype: int64\n",
      "==============================\n",
      "BusinessTravel :\n",
      "Travel_Rarely        892\n",
      "Travel_Frequently    230\n",
      "Non-Travel           128\n",
      "Name: BusinessTravel, dtype: int64\n",
      "==============================\n",
      "Department :\n",
      "Research & Development    819\n",
      "Sales                     379\n",
      "Human Resources            52\n",
      "Name: Department, dtype: int64\n",
      "==============================\n",
      "DistanceFromHome :\n",
      "2.0     178\n",
      "1.0     163\n",
      "10.0     72\n",
      "7.0      69\n",
      "8.0      68\n",
      "3.0      67\n",
      "9.0      66\n",
      "4.0      56\n",
      "5.0      49\n",
      "6.0      45\n",
      "16.0     29\n",
      "24.0     25\n",
      "23.0     25\n",
      "11.0     23\n",
      "28.0     22\n",
      "18.0     21\n",
      "26.0     21\n",
      "14.0     20\n",
      "29.0     20\n",
      "25.0     20\n",
      "20.0     19\n",
      "15.0     19\n",
      "12.0     16\n",
      "17.0     15\n",
      "22.0     15\n",
      "19.0     14\n",
      "21.0     14\n",
      "13.0     14\n",
      "27.0     11\n",
      "Name: DistanceFromHome, dtype: int64\n",
      "==============================\n",
      "Education :\n",
      "3    489\n",
      "4    338\n",
      "2    236\n",
      "1    145\n",
      "5     42\n",
      "Name: Education, dtype: int64\n",
      "==============================\n",
      "EducationField :\n",
      "Life Sciences       520\n",
      "Medical             390\n",
      "Marketing           137\n",
      "Technical Degree    112\n",
      "Other                68\n",
      "Human Resources      23\n",
      "Name: EducationField, dtype: int64\n",
      "==============================\n",
      "EmployeeNumber :\n",
      "2048    1\n",
      "1367    1\n",
      "1379    1\n",
      "1374    1\n",
      "1373    1\n",
      "       ..\n",
      "656     1\n",
      "655     1\n",
      "653     1\n",
      "649     1\n",
      "2046    1\n",
      "Name: EmployeeNumber, Length: 1250, dtype: int64\n",
      "==============================\n",
      "EnvironmentSatisfaction :\n",
      "4    390\n",
      "3    385\n",
      "1    241\n",
      "2    234\n",
      "Name: EnvironmentSatisfaction, dtype: int64\n",
      "==============================\n",
      "Gender :\n",
      "Male      760\n",
      "Female    490\n",
      "Name: Gender, dtype: int64\n",
      "==============================\n",
      "JobInvolvement :\n",
      "3    740\n",
      "2    319\n",
      "4    120\n",
      "1     71\n",
      "Name: JobInvolvement, dtype: int64\n",
      "==============================\n",
      "JobRole :\n",
      "Sales Executive              283\n",
      "Research Scientist           246\n",
      "Laboratory Technician        227\n",
      "Manufacturing Director       123\n",
      "Healthcare Representative    110\n",
      "Manager                       87\n",
      "Research Director             66\n",
      "Sales Representative          65\n",
      "Human Resources               43\n",
      "Name: JobRole, dtype: int64\n",
      "==============================\n",
      "JobSatisfaction :\n",
      "4    397\n",
      "3    368\n",
      "1    250\n",
      "2    235\n",
      "Name: JobSatisfaction, dtype: int64\n",
      "==============================\n",
      "MaritalStatus :\n",
      "Married     570\n",
      "Single      404\n",
      "Divorced    276\n",
      "Name: MaritalStatus, dtype: int64\n",
      "==============================\n",
      "MonthlyIncome :\n",
      "2559     3\n",
      "2610     3\n",
      "6142     3\n",
      "3452     3\n",
      "2451     3\n",
      "        ..\n",
      "6781     1\n",
      "6782     1\n",
      "4735     1\n",
      "4736     1\n",
      "10239    1\n",
      "Name: MonthlyIncome, Length: 1167, dtype: int64\n",
      "==============================\n",
      "NumCompaniesWorked :\n",
      "1.0    439\n",
      "0.0    161\n",
      "3.0    135\n",
      "2.0    124\n",
      "4.0    114\n",
      "7.0     61\n",
      "6.0     60\n",
      "5.0     55\n",
      "9.0     42\n",
      "8.0     38\n",
      "Name: NumCompaniesWorked, dtype: int64\n",
      "==============================\n",
      "OverTime :\n",
      "No     896\n",
      "Yes    354\n",
      "Name: OverTime, dtype: int64\n",
      "==============================\n",
      "PercentSalaryHike :\n",
      "14    179\n",
      "11    178\n",
      "13    169\n",
      "12    164\n",
      "15     87\n",
      "18     77\n",
      "17     72\n",
      "16     71\n",
      "19     63\n",
      "22     48\n",
      "20     47\n",
      "21     41\n",
      "23     25\n",
      "25     15\n",
      "24     14\n",
      "Name: PercentSalaryHike, dtype: int64\n",
      "==============================\n",
      "RelationshipSatisfaction :\n",
      "3    397\n",
      "4    365\n",
      "2    258\n",
      "1    230\n",
      "Name: RelationshipSatisfaction, dtype: int64\n",
      "==============================\n",
      "StockOptionLevel :\n",
      "0    534\n",
      "1    509\n",
      "2    135\n",
      "3     72\n",
      "Name: StockOptionLevel, dtype: int64\n",
      "==============================\n",
      "TotalWorkingYears :\n",
      "10    164\n",
      "6     109\n",
      "8      87\n",
      "9      83\n",
      "5      73\n",
      "7      70\n",
      "1      70\n",
      "4      50\n",
      "12     42\n",
      "13     34\n",
      "3      34\n",
      "16     33\n",
      "15     33\n",
      "11     30\n",
      "21     29\n",
      "17     29\n",
      "20     27\n",
      "14     26\n",
      "2      26\n",
      "18     24\n",
      "22     20\n",
      "19     19\n",
      "23     19\n",
      "24     16\n",
      "28     13\n",
      "26     10\n",
      "0      10\n",
      "25     10\n",
      "32      8\n",
      "27      7\n",
      "29      7\n",
      "33      7\n",
      "30      6\n",
      "31      6\n",
      "36      6\n",
      "34      5\n",
      "35      3\n",
      "37      3\n",
      "38      1\n",
      "40      1\n",
      "Name: TotalWorkingYears, dtype: int64\n",
      "==============================\n",
      "TrainingTimesLastYear :\n",
      "2    463\n",
      "3    426\n",
      "5    102\n",
      "4    101\n",
      "1     62\n",
      "6     55\n",
      "0     41\n",
      "Name: TrainingTimesLastYear, dtype: int64\n",
      "==============================\n",
      "WorkLifeBalance :\n",
      "3    747\n",
      "2    297\n",
      "4    137\n",
      "1     69\n",
      "Name: WorkLifeBalance, dtype: int64\n",
      "==============================\n",
      "YearsAtCompany :\n",
      "5     169\n",
      "1     149\n",
      "3     109\n",
      "2     102\n",
      "10    101\n",
      "4      84\n",
      "7      77\n",
      "9      70\n",
      "8      66\n",
      "6      66\n",
      "0      38\n",
      "11     29\n",
      "20     23\n",
      "13     22\n",
      "15     18\n",
      "14     14\n",
      "12     13\n",
      "22     13\n",
      "21     13\n",
      "18     12\n",
      "19     11\n",
      "16     10\n",
      "17      8\n",
      "24      5\n",
      "33      5\n",
      "25      4\n",
      "26      4\n",
      "32      3\n",
      "27      2\n",
      "36      2\n",
      "31      2\n",
      "34      1\n",
      "37      1\n",
      "29      1\n",
      "30      1\n",
      "23      1\n",
      "40      1\n",
      "Name: YearsAtCompany, dtype: int64\n",
      "==============================\n",
      "YearsInCurrentRole :\n",
      "2     315\n",
      "0     212\n",
      "7     193\n",
      "3     104\n",
      "4      91\n",
      "8      74\n",
      "9      61\n",
      "1      44\n",
      "6      34\n",
      "5      29\n",
      "10     25\n",
      "11     20\n",
      "13     11\n",
      "14     11\n",
      "12      8\n",
      "16      7\n",
      "15      5\n",
      "17      4\n",
      "18      2\n",
      "Name: YearsInCurrentRole, dtype: int64\n",
      "==============================\n",
      "YearsWithCurrManager :\n",
      "2     281\n",
      "0     224\n",
      "7     180\n",
      "3     117\n",
      "8      92\n",
      "4      89\n",
      "1      69\n",
      "9      56\n",
      "5      28\n",
      "6      25\n",
      "10     21\n",
      "11     21\n",
      "12     16\n",
      "13     14\n",
      "17      6\n",
      "15      5\n",
      "14      4\n",
      "16      2\n",
      "Name: YearsWithCurrManager, dtype: int64\n"
     ]
    }
   ],
   "source": [
    "for col in x.columns:\n",
    "    print('='*30)\n",
    "    print(col, ':')\n",
    "    print(x[col].value_counts())"
   ]
  },
  {
   "cell_type": "code",
   "execution_count": 6,
   "metadata": {
    "id": "86yIoNg7nNuu"
   },
   "outputs": [
    {
     "data": {
      "text/plain": [
       "Index(['Age', 'BusinessTravel', 'Department', 'DistanceFromHome', 'Education',\n",
       "       'EducationField', 'EnvironmentSatisfaction', 'Gender', 'JobInvolvement',\n",
       "       'JobRole', 'JobSatisfaction', 'MaritalStatus', 'MonthlyIncome',\n",
       "       'NumCompaniesWorked', 'OverTime', 'PercentSalaryHike',\n",
       "       'RelationshipSatisfaction', 'StockOptionLevel', 'TotalWorkingYears',\n",
       "       'TrainingTimesLastYear', 'WorkLifeBalance', 'YearsAtCompany',\n",
       "       'YearsInCurrentRole', 'YearsWithCurrManager'],\n",
       "      dtype='object')"
      ]
     },
     "execution_count": 6,
     "metadata": {},
     "output_type": "execute_result"
    }
   ],
   "source": [
    "# 사번과 직원 이탈 여부는 관련이 없어 보입니다.\n",
    "# ex. 사번이 안 좋다고 직원이 이탈할 것 같지 않습니다.\n",
    "x.drop('EmployeeNumber', axis=1, inplace=True)\n",
    "x.columns"
   ]
  },
  {
   "cell_type": "markdown",
   "metadata": {
    "id": "ScpJ5uNrGjIw"
   },
   "source": [
    "### 2.2 NaN에 대한 조치\n",
    "* 데이터에 포함된 NaN에 대해서 조치 방법을 결정하고 적용합니다.\n",
    "* 조치방법을 결정한 이유를 주석으로 기술합니다."
   ]
  },
  {
   "cell_type": "code",
   "execution_count": 7,
   "metadata": {
    "id": "8epD0jT6vL51"
   },
   "outputs": [
    {
     "data": {
      "text/plain": [
       "Age                          0\n",
       "BusinessTravel               0\n",
       "Department                   0\n",
       "DistanceFromHome            54\n",
       "Education                    0\n",
       "EducationField               0\n",
       "EnvironmentSatisfaction      0\n",
       "Gender                       0\n",
       "JobInvolvement               0\n",
       "JobRole                      0\n",
       "JobSatisfaction              0\n",
       "MaritalStatus                0\n",
       "MonthlyIncome                0\n",
       "NumCompaniesWorked          21\n",
       "OverTime                     0\n",
       "PercentSalaryHike            0\n",
       "RelationshipSatisfaction     0\n",
       "StockOptionLevel             0\n",
       "TotalWorkingYears            0\n",
       "TrainingTimesLastYear        0\n",
       "WorkLifeBalance              0\n",
       "YearsAtCompany               0\n",
       "YearsInCurrentRole           0\n",
       "YearsWithCurrManager         0\n",
       "dtype: int64"
      ]
     },
     "execution_count": 7,
     "metadata": {},
     "output_type": "execute_result"
    }
   ],
   "source": [
    "x.isna().sum()"
   ]
  },
  {
   "cell_type": "code",
   "execution_count": 8,
   "metadata": {
    "id": "PERdF7IjNy2X"
   },
   "outputs": [
    {
     "data": {
      "image/png": "[encoded data removed]",
      "text/plain": [
       "<Figure size 432x288 with 2 Axes>"
      ]
     },
     "metadata": {
      "needs_background": "light"
     },
     "output_type": "display_data"
    }
   ],
   "source": [
    "plt.subplot(1,2,1)\n",
    "sns.histplot(x['DistanceFromHome'])\n",
    "\n",
    "plt.subplot(1,2,2)\n",
    "sns.histplot(x['NumCompaniesWorked'])\n",
    "plt.tight_layout()\n",
    "plt.show()"
   ]
  },
  {
   "cell_type": "code",
   "execution_count": 9,
   "metadata": {
    "id": "Oq-35S_DNyg6"
   },
   "outputs": [
    {
     "name": "stdout",
     "output_type": "stream",
     "text": [
      "<class 'pandas.core.frame.DataFrame'>\n",
      "RangeIndex: 1250 entries, 0 to 1249\n",
      "Data columns (total 24 columns):\n",
      " #   Column                    Non-Null Count  Dtype  \n",
      "---  ------                    --------------  -----  \n",
      " 0   Age                       1250 non-null   int64  \n",
      " 1   BusinessTravel            1250 non-null   object \n",
      " 2   Department                1250 non-null   object \n",
      " 3   DistanceFromHome          1250 non-null   float64\n",
      " 4   Education                 1250 non-null   int64  \n",
      " 5   EducationField            1250 non-null   object \n",
      " 6   EnvironmentSatisfaction   1250 non-null   int64  \n",
      " 7   Gender                    1250 non-null   object \n",
      " 8   JobInvolvement            1250 non-null   int64  \n",
      " 9   JobRole                   1250 non-null   object \n",
      " 10  JobSatisfaction           1250 non-null   int64  \n",
      " 11  MaritalStatus             1250 non-null   object \n",
      " 12  MonthlyIncome             1250 non-null   int64  \n",
      " 13  NumCompaniesWorked        1250 non-null   float64\n",
      " 14  OverTime                  1250 non-null   object \n",
      " 15  PercentSalaryHike         1250 non-null   int64  \n",
      " 16  RelationshipSatisfaction  1250 non-null   int64  \n",
      " 17  StockOptionLevel          1250 non-null   int64  \n",
      " 18  TotalWorkingYears         1250 non-null   int64  \n",
      " 19  TrainingTimesLastYear     1250 non-null   int64  \n",
      " 20  WorkLifeBalance           1250 non-null   int64  \n",
      " 21  YearsAtCompany            1250 non-null   int64  \n",
      " 22  YearsInCurrentRole        1250 non-null   int64  \n",
      " 23  YearsWithCurrManager      1250 non-null   int64  \n",
      "dtypes: float64(2), int64(15), object(7)\n",
      "memory usage: 234.5+ KB\n"
     ]
    }
   ],
   "source": [
    "# 데이터중 가장 많은 값을 따르는 것이 좋아보여 최빈값으로 NaN을 대체하였다.\n",
    "x['DistanceFromHome'] = x['DistanceFromHome'].fillna(x['DistanceFromHome'].mode()[0])\n",
    "x['NumCompaniesWorked'] = x['NumCompaniesWorked'].fillna(x['NumCompaniesWorked'].mode()[0])\n",
    "\n",
    "x.info()"
   ]
  },
  {
   "cell_type": "markdown",
   "metadata": {
    "id": "HfqkeUD2GjI6"
   },
   "source": [
    "### 2.3 가변수화\n",
    "* 범주형 데이터이면서 값이 0,1 로 되어 있는 것이 아니라면, 가변수화를 수행해야 합니다.\n",
    "* 대상이 되는 변수에 대해서 가변수화를 수행해주세요."
   ]
  },
  {
   "cell_type": "code",
   "execution_count": 10,
   "metadata": {
    "id": "U_wLpFFTN01P"
   },
   "outputs": [
    {
     "data": {
      "text/html": [
       "<div>\n",
       "<style scoped>\n",
       "    .dataframe tbody tr th:only-of-type {\n",
       "        vertical-align: middle;\n",
       "    }\n",
       "\n",
       "    .dataframe tbody tr th {\n",
       "        vertical-align: top;\n",
       "    }\n",
       "\n",
       "    .dataframe thead th {\n",
       "        text-align: right;\n",
       "    }\n",
       "</style>\n",
       "<table border=\"1\" class=\"dataframe\">\n",
       "  <thead>\n",
       "    <tr style=\"text-align: right;\">\n",
       "      <th></th>\n",
       "      <th>Age</th>\n",
       "      <th>DistanceFromHome</th>\n",
       "      <th>MonthlyIncome</th>\n",
       "      <th>NumCompaniesWorked</th>\n",
       "      <th>PercentSalaryHike</th>\n",
       "      <th>TotalWorkingYears</th>\n",
       "      <th>TrainingTimesLastYear</th>\n",
       "      <th>YearsAtCompany</th>\n",
       "      <th>YearsInCurrentRole</th>\n",
       "      <th>YearsWithCurrManager</th>\n",
       "      <th>...</th>\n",
       "      <th>OverTime_Yes</th>\n",
       "      <th>RelationshipSatisfaction_2</th>\n",
       "      <th>RelationshipSatisfaction_3</th>\n",
       "      <th>RelationshipSatisfaction_4</th>\n",
       "      <th>StockOptionLevel_1</th>\n",
       "      <th>StockOptionLevel_2</th>\n",
       "      <th>StockOptionLevel_3</th>\n",
       "      <th>WorkLifeBalance_2</th>\n",
       "      <th>WorkLifeBalance_3</th>\n",
       "      <th>WorkLifeBalance_4</th>\n",
       "    </tr>\n",
       "  </thead>\n",
       "  <tbody>\n",
       "    <tr>\n",
       "      <th>0</th>\n",
       "      <td>33</td>\n",
       "      <td>7.0</td>\n",
       "      <td>11691</td>\n",
       "      <td>0.0</td>\n",
       "      <td>11</td>\n",
       "      <td>14</td>\n",
       "      <td>3</td>\n",
       "      <td>13</td>\n",
       "      <td>9</td>\n",
       "      <td>7</td>\n",
       "      <td>...</td>\n",
       "      <td>0</td>\n",
       "      <td>0</td>\n",
       "      <td>0</td>\n",
       "      <td>1</td>\n",
       "      <td>0</td>\n",
       "      <td>0</td>\n",
       "      <td>0</td>\n",
       "      <td>0</td>\n",
       "      <td>0</td>\n",
       "      <td>1</td>\n",
       "    </tr>\n",
       "    <tr>\n",
       "      <th>1</th>\n",
       "      <td>35</td>\n",
       "      <td>18.0</td>\n",
       "      <td>9362</td>\n",
       "      <td>2.0</td>\n",
       "      <td>11</td>\n",
       "      <td>10</td>\n",
       "      <td>2</td>\n",
       "      <td>2</td>\n",
       "      <td>2</td>\n",
       "      <td>2</td>\n",
       "      <td>...</td>\n",
       "      <td>0</td>\n",
       "      <td>0</td>\n",
       "      <td>1</td>\n",
       "      <td>0</td>\n",
       "      <td>0</td>\n",
       "      <td>0</td>\n",
       "      <td>0</td>\n",
       "      <td>0</td>\n",
       "      <td>1</td>\n",
       "      <td>0</td>\n",
       "    </tr>\n",
       "    <tr>\n",
       "      <th>2</th>\n",
       "      <td>42</td>\n",
       "      <td>6.0</td>\n",
       "      <td>13348</td>\n",
       "      <td>9.0</td>\n",
       "      <td>13</td>\n",
       "      <td>18</td>\n",
       "      <td>3</td>\n",
       "      <td>13</td>\n",
       "      <td>7</td>\n",
       "      <td>7</td>\n",
       "      <td>...</td>\n",
       "      <td>0</td>\n",
       "      <td>1</td>\n",
       "      <td>0</td>\n",
       "      <td>0</td>\n",
       "      <td>1</td>\n",
       "      <td>0</td>\n",
       "      <td>0</td>\n",
       "      <td>0</td>\n",
       "      <td>0</td>\n",
       "      <td>1</td>\n",
       "    </tr>\n",
       "    <tr>\n",
       "      <th>3</th>\n",
       "      <td>46</td>\n",
       "      <td>2.0</td>\n",
       "      <td>17048</td>\n",
       "      <td>8.0</td>\n",
       "      <td>23</td>\n",
       "      <td>28</td>\n",
       "      <td>2</td>\n",
       "      <td>26</td>\n",
       "      <td>15</td>\n",
       "      <td>9</td>\n",
       "      <td>...</td>\n",
       "      <td>0</td>\n",
       "      <td>0</td>\n",
       "      <td>0</td>\n",
       "      <td>0</td>\n",
       "      <td>0</td>\n",
       "      <td>0</td>\n",
       "      <td>0</td>\n",
       "      <td>0</td>\n",
       "      <td>1</td>\n",
       "      <td>0</td>\n",
       "    </tr>\n",
       "    <tr>\n",
       "      <th>4</th>\n",
       "      <td>39</td>\n",
       "      <td>2.0</td>\n",
       "      <td>4127</td>\n",
       "      <td>2.0</td>\n",
       "      <td>18</td>\n",
       "      <td>7</td>\n",
       "      <td>6</td>\n",
       "      <td>2</td>\n",
       "      <td>1</td>\n",
       "      <td>2</td>\n",
       "      <td>...</td>\n",
       "      <td>0</td>\n",
       "      <td>0</td>\n",
       "      <td>0</td>\n",
       "      <td>1</td>\n",
       "      <td>1</td>\n",
       "      <td>0</td>\n",
       "      <td>0</td>\n",
       "      <td>0</td>\n",
       "      <td>1</td>\n",
       "      <td>0</td>\n",
       "    </tr>\n",
       "  </tbody>\n",
       "</table>\n",
       "<p>5 rows × 53 columns</p>\n",
       "</div>"
      ],
      "text/plain": [
       "   Age  DistanceFromHome  MonthlyIncome  NumCompaniesWorked  \\\n",
       "0   33               7.0          11691                 0.0   \n",
       "1   35              18.0           9362                 2.0   \n",
       "2   42               6.0          13348                 9.0   \n",
       "3   46               2.0          17048                 8.0   \n",
       "4   39               2.0           4127                 2.0   \n",
       "\n",
       "   PercentSalaryHike  TotalWorkingYears  TrainingTimesLastYear  \\\n",
       "0                 11                 14                      3   \n",
       "1                 11                 10                      2   \n",
       "2                 13                 18                      3   \n",
       "3                 23                 28                      2   \n",
       "4                 18                  7                      6   \n",
       "\n",
       "   YearsAtCompany  YearsInCurrentRole  YearsWithCurrManager  ...  \\\n",
       "0              13                   9                     7  ...   \n",
       "1               2                   2                     2  ...   \n",
       "2              13                   7                     7  ...   \n",
       "3              26                  15                     9  ...   \n",
       "4               2                   1                     2  ...   \n",
       "\n",
       "   OverTime_Yes  RelationshipSatisfaction_2  RelationshipSatisfaction_3  \\\n",
       "0             0                           0                           0   \n",
       "1             0                           0                           1   \n",
       "2             0                           1                           0   \n",
       "3             0                           0                           0   \n",
       "4             0                           0                           0   \n",
       "\n",
       "   RelationshipSatisfaction_4  StockOptionLevel_1  StockOptionLevel_2  \\\n",
       "0                           1                   0                   0   \n",
       "1                           0                   0                   0   \n",
       "2                           0                   1                   0   \n",
       "3                           0                   0                   0   \n",
       "4                           1                   1                   0   \n",
       "\n",
       "   StockOptionLevel_3  WorkLifeBalance_2  WorkLifeBalance_3  WorkLifeBalance_4  \n",
       "0                   0                  0                  0                  1  \n",
       "1                   0                  0                  1                  0  \n",
       "2                   0                  0                  0                  1  \n",
       "3                   0                  0                  1                  0  \n",
       "4                   0                  0                  1                  0  \n",
       "\n",
       "[5 rows x 53 columns]"
      ]
     },
     "execution_count": 10,
     "metadata": {},
     "output_type": "execute_result"
    }
   ],
   "source": [
    "dummy_cols = ['BusinessTravel', 'Department', 'Education',\n",
    "       'EducationField', 'EnvironmentSatisfaction', 'Gender', 'JobInvolvement',\n",
    "       'JobRole', 'JobSatisfaction', 'MaritalStatus',\n",
    "       'OverTime', 'RelationshipSatisfaction', 'StockOptionLevel',\n",
    "       'WorkLifeBalance'\n",
    "]\n",
    "\n",
    "x = pd.get_dummies(x, columns=dummy_cols, drop_first=True)\n",
    "x.head()"
   ]
  },
  {
   "cell_type": "markdown",
   "metadata": {
    "id": "eO9PZwR3GjI7"
   },
   "source": [
    "### 2.4 (옵션) 추가변수 도출\n",
    "* 기존 데이터셋의 변수를 이용하여 추가로 도출할 수 있는 변수가 있다면 수행합니다.\n",
    "* 추가변수에 대해서 주석으로 설명하시오."
   ]
  },
  {
   "cell_type": "code",
   "execution_count": null,
   "metadata": {
    "id": "rsHIYqZwGjI8"
   },
   "outputs": [],
   "source": []
  },
  {
   "cell_type": "markdown",
   "metadata": {
    "id": "-dgcE6vBZTJQ"
   },
   "source": [
    "### 2.5 데이터 분할\n",
    "\n",
    "* test 200건(test_size = 200), random_state = 2022\n",
    "* val 200건(test_size = 200), random_state = 2022\n",
    "* train 나머지."
   ]
  },
  {
   "cell_type": "code",
   "execution_count": 11,
   "metadata": {
    "id": "rrJdDjMiIa1d"
   },
   "outputs": [
    {
     "data": {
      "text/plain": [
       "((1050, 53), (1050,), (200, 53), (200,))"
      ]
     },
     "execution_count": 11,
     "metadata": {},
     "output_type": "execute_result"
    }
   ],
   "source": [
    "x_train, x_test, y_train, y_test = train_test_split(x, y, test_size=200, random_state=2022)\n",
    "x_train.shape, y_train.shape, x_test.shape, y_test.shape"
   ]
  },
  {
   "cell_type": "code",
   "execution_count": 12,
   "metadata": {
    "id": "cXsn5rf0JDVL"
   },
   "outputs": [
    {
     "data": {
      "text/plain": [
       "((850, 53), (850,), (200, 53), (200,))"
      ]
     },
     "execution_count": 12,
     "metadata": {},
     "output_type": "execute_result"
    }
   ],
   "source": [
    "x_train, x_val, y_train, y_val = train_test_split(x_train, y_train, test_size=200, random_state=2022)\n",
    "x_train.shape, y_train.shape, x_val.shape, y_val.shape"
   ]
  },
  {
   "cell_type": "markdown",
   "metadata": {
    "id": "2Lwk03PSZTJP"
   },
   "source": [
    "### 2.6 (옵션)스케일링 \n",
    "* 스케일링을 필요로 하는 알고리즘이 있습니다. \n",
    "* 필요하다고 판단될때 수행합니다."
   ]
  },
  {
   "cell_type": "code",
   "execution_count": 13,
   "metadata": {
    "id": "oAVSU7XucCvn"
   },
   "outputs": [],
   "source": [
    "from sklearn.preprocessing import MinMaxScaler\n",
    "\n",
    "scaler = MinMaxScaler()\n",
    "x_train_scaled = scaler.fit_transform(x_train)\n",
    "x_val_scaled = scaler.transform(x_val)"
   ]
  },
  {
   "cell_type": "markdown",
   "metadata": {
    "id": "ZghJJ7yLEpDA"
   },
   "source": [
    "## 3.모델링1 : 머신러닝"
   ]
  },
  {
   "cell_type": "markdown",
   "metadata": {
    "id": "NFDAfi7-5Xhu"
   },
   "source": [
    "### 3.1 모델링을 위한 함수 불러오기\n",
    "\n",
    "* 꼭 필요한 함수만 불러옵니다. 무조건 다 불러오는 것은 지양해주세요."
   ]
  },
  {
   "cell_type": "code",
   "execution_count": 14,
   "metadata": {
    "id": "zlHHnr2-5cwD"
   },
   "outputs": [],
   "source": [
    "from sklearn.linear_model import LogisticRegression\n",
    "from sklearn.tree import DecisionTreeClassifier\n",
    "from sklearn.svm import SVC\n",
    "from xgboost import XGBClassifier\n",
    "from sklearn.metrics import classification_report, confusion_matrix\n",
    "from sklearn.model_selection import GridSearchCV, RandomizedSearchCV"
   ]
  },
  {
   "cell_type": "code",
   "execution_count": 15,
   "metadata": {},
   "outputs": [
    {
     "data": {
      "text/plain": [
       "(0    705\n",
       " 1    145\n",
       " Name: Attrition, dtype: int64,\n",
       " 0    176\n",
       " 1     24\n",
       " Name: Attrition, dtype: int64,\n",
       " 0    169\n",
       " 1     31\n",
       " Name: Attrition, dtype: int64)"
      ]
     },
     "execution_count": 15,
     "metadata": {},
     "output_type": "execute_result"
    }
   ],
   "source": [
    "y_train.value_counts(), y_val.value_counts(), y_test.value_counts()"
   ]
  },
  {
   "cell_type": "markdown",
   "metadata": {
    "id": "6K1mZKlXByLy"
   },
   "source": [
    "### 3.2 모델링\n",
    "* 최소 3개 이상의 알고리즘을 선정합니다.(알고리즘에는 최소 1개 이상의 앙상블 기법을 포함)\n",
    "    * 아래 주어진 목록 이외의 알고리즘을 선정해도 좋습니다.\n",
    "* 각 알고리즘별 튜닝을 수행하여 최적의 모델을 생성합니다.\n",
    "    * 튜닝 방식은 GridSearchCV, RandomizedSearchCV 혹은 for loop 로 직접\n",
    "    * 단, 선형회귀, 로지스틱 회귀의는 입력 변수(feature)를 조절하여 튜닝을 합니다.\n",
    "    * 튜닝 과정에 대해서 주석으로 기술합니다.\n",
    "* 모델링, 튜닝만 수행하는데 그치지 말고, 모델의 내용을 파악하기 위한 분석을 시도합니다. 코드 결과에 대한 분석 의견을 주석으로 기술합니다.\n",
    "    * 예 : 모델 시각화 및 내용 파악, 튜닝 결과 분석 및 시각화"
   ]
  },
  {
   "cell_type": "markdown",
   "metadata": {
    "id": "1j8zehMIIqpv"
   },
   "source": [
    "#### (1) Logistic Regression 모델링"
   ]
  },
  {
   "cell_type": "code",
   "execution_count": 16,
   "metadata": {
    "id": "Y9zuNT45N9ba"
   },
   "outputs": [],
   "source": [
    "model_LR = LogisticRegression(max_iter=2000)"
   ]
  },
  {
   "cell_type": "code",
   "execution_count": 17,
   "metadata": {
    "id": "3f99QdhTN9W6"
   },
   "outputs": [
    {
     "data": {
      "text/plain": [
       "LogisticRegression(max_iter=2000)"
      ]
     },
     "execution_count": 17,
     "metadata": {},
     "output_type": "execute_result"
    }
   ],
   "source": [
    "model_LR.fit(x_train, y_train)"
   ]
  },
  {
   "cell_type": "code",
   "execution_count": 18,
   "metadata": {
    "id": "5MDeKqCVN9TQ"
   },
   "outputs": [
    {
     "name": "stdout",
     "output_type": "stream",
     "text": [
      "              precision    recall  f1-score   support\n",
      "\n",
      "           0       0.91      0.99      0.95       176\n",
      "           1       0.88      0.29      0.44        24\n",
      "\n",
      "    accuracy                           0.91       200\n",
      "   macro avg       0.89      0.64      0.69       200\n",
      "weighted avg       0.91      0.91      0.89       200\n",
      "\n"
     ]
    },
    {
     "data": {
      "image/png": "[encoded data removed]",
      "text/plain": [
       "<Figure size 432x288 with 1 Axes>"
      ]
     },
     "metadata": {
      "needs_background": "light"
     },
     "output_type": "display_data"
    }
   ],
   "source": [
    "y_pred = model_LR.predict(x_val)\n",
    "print(classification_report(y_val, y_pred))\n",
    "sns.heatmap(confusion_matrix(y_val, y_pred), annot=True, cbar=False, cmap='Blues', fmt='g')\n",
    "plt.title('Confusion Matrix')\n",
    "plt.show()"
   ]
  },
  {
   "cell_type": "markdown",
   "metadata": {
    "id": "ZwstDzzpe5Rg"
   },
   "source": [
    "#### (2) Decision Tree 모델링"
   ]
  },
  {
   "cell_type": "code",
   "execution_count": 19,
   "metadata": {
    "id": "Cu17HFZ-N_sH"
   },
   "outputs": [],
   "source": [
    "model = DecisionTreeClassifier()\n",
    "\n",
    "param = {\n",
    "    'max_depth':range(1, 101)\n",
    "}\n",
    "\n",
    "model_dt = GridSearchCV(model,\n",
    "                       param,\n",
    "                       cv=5,\n",
    "                       scoring='accuracy')"
   ]
  },
  {
   "cell_type": "code",
   "execution_count": 20,
   "metadata": {
    "id": "dxXavuwjN_gA"
   },
   "outputs": [
    {
     "data": {
      "text/plain": [
       "GridSearchCV(cv=5, estimator=DecisionTreeClassifier(),\n",
       "             param_grid={'max_depth': range(1, 101)}, scoring='accuracy')"
      ]
     },
     "execution_count": 20,
     "metadata": {},
     "output_type": "execute_result"
    }
   ],
   "source": [
    "model_dt.fit(x_train, y_train)"
   ]
  },
  {
   "cell_type": "code",
   "execution_count": 21,
   "metadata": {
    "id": "lEDr52yLN_b3"
   },
   "outputs": [
    {
     "data": {
      "text/plain": [
       "({'max_depth': 4}, 0.8376470588235294, DecisionTreeClassifier(max_depth=4))"
      ]
     },
     "execution_count": 21,
     "metadata": {},
     "output_type": "execute_result"
    }
   ],
   "source": [
    "model_dt.best_params_, model_dt.best_score_, model_dt.best_estimator_"
   ]
  },
  {
   "cell_type": "code",
   "execution_count": 22,
   "metadata": {},
   "outputs": [
    {
     "name": "stdout",
     "output_type": "stream",
     "text": [
      "              precision    recall  f1-score   support\n",
      "\n",
      "           0       0.90      0.96      0.93       176\n",
      "           1       0.42      0.21      0.28        24\n",
      "\n",
      "    accuracy                           0.87       200\n",
      "   macro avg       0.66      0.58      0.60       200\n",
      "weighted avg       0.84      0.87      0.85       200\n",
      "\n"
     ]
    },
    {
     "data": {
      "image/png": "[encoded data removed]",
      "text/plain": [
       "<Figure size 432x288 with 1 Axes>"
      ]
     },
     "metadata": {
      "needs_background": "light"
     },
     "output_type": "display_data"
    }
   ],
   "source": [
    "y_pred = model_dt.predict(x_val)\n",
    "print(classification_report(y_val, y_pred))\n",
    "sns.heatmap(confusion_matrix(y_val, y_pred), annot=True, cbar=False, cmap='Blues', fmt='g')\n",
    "plt.title('Confusion Matrix')\n",
    "plt.show()"
   ]
  },
  {
   "cell_type": "code",
   "execution_count": 23,
   "metadata": {},
   "outputs": [
    {
     "data": {
      "image/png": "[encoded data removed]",
      "text/plain": [
       "<Figure size 2160x720 with 1 Axes>"
      ]
     },
     "metadata": {
      "needs_background": "light"
     },
     "output_type": "display_data"
    }
   ],
   "source": [
    "from sklearn.tree import plot_tree\n",
    "\n",
    "plt.figure(figsize=(30, 10))\n",
    "plot_tree(model_dt.best_estimator_,\n",
    "         filled=True,\n",
    "         feature_names=list(x),\n",
    "         fontsize=8)\n",
    "plt.show()"
   ]
  },
  {
   "cell_type": "code",
   "execution_count": 24,
   "metadata": {},
   "outputs": [
    {
     "data": {
      "image/png": "[encoded data removed]",
      "text/plain": [
       "<Figure size 360x1080 with 1 Axes>"
      ]
     },
     "metadata": {
      "needs_background": "light"
     },
     "output_type": "display_data"
    }
   ],
   "source": [
    "# 직원 이탈여부에 가장 영향을 많이 끼치는 feature는 결혼여부, 야근여부, 환경만족도, 총 근무 연수, 수입등이 있다.\n",
    "plt.figure(figsize=(5,15))\n",
    "plt.barh(y=list(x), width=model_dt.best_estimator_.feature_importances_)\n",
    "plt.show()"
   ]
  },
  {
   "cell_type": "markdown",
   "metadata": {
    "id": "b7sweeGMWYO1"
   },
   "source": [
    "#### (3) KNN 모델링"
   ]
  },
  {
   "cell_type": "code",
   "execution_count": null,
   "metadata": {
    "id": "K_ZcYkoxOBRu"
   },
   "outputs": [],
   "source": []
  },
  {
   "cell_type": "code",
   "execution_count": null,
   "metadata": {
    "id": "rl-0mddnOBON"
   },
   "outputs": [],
   "source": []
  },
  {
   "cell_type": "code",
   "execution_count": null,
   "metadata": {
    "id": "ddZKCiOrOBJX"
   },
   "outputs": [],
   "source": []
  },
  {
   "cell_type": "markdown",
   "metadata": {
    "id": "JB7CrBcM3j4g"
   },
   "source": [
    "#### (4) SVM 모델링"
   ]
  },
  {
   "cell_type": "code",
   "execution_count": 25,
   "metadata": {
    "id": "E9JfGcpqOCzS"
   },
   "outputs": [],
   "source": [
    "model = SVC()\n",
    "\n",
    "param={\n",
    "    'C':[0.001, 0.01, 0.1, 1, 10],\n",
    "    'gamma':[0.0001, 0.001, 0.01, 'scale']\n",
    "}\n",
    "\n",
    "model_svm_rbf = GridSearchCV(model,\n",
    "                       param,\n",
    "                       cv=5,\n",
    "                       scoring='accuracy')"
   ]
  },
  {
   "cell_type": "code",
   "execution_count": 26,
   "metadata": {
    "id": "oVnsL29DOCuv"
   },
   "outputs": [
    {
     "data": {
      "text/plain": [
       "GridSearchCV(cv=5, estimator=SVC(),\n",
       "             param_grid={'C': [0.001, 0.01, 0.1, 1, 10],\n",
       "                         'gamma': [0.0001, 0.001, 0.01, 'scale']},\n",
       "             scoring='accuracy')"
      ]
     },
     "execution_count": 26,
     "metadata": {},
     "output_type": "execute_result"
    }
   ],
   "source": [
    "model_svm_rbf.fit(x_train_scaled, y_train)"
   ]
  },
  {
   "cell_type": "code",
   "execution_count": 27,
   "metadata": {
    "id": "N2m-Bz0TOCq7"
   },
   "outputs": [
    {
     "data": {
      "text/plain": [
       "({'C': 10, 'gamma': 0.01}, 0.8576470588235294, SVC(C=10, gamma=0.01))"
      ]
     },
     "execution_count": 27,
     "metadata": {},
     "output_type": "execute_result"
    }
   ],
   "source": [
    "model_svm_rbf.best_params_, model_svm_rbf.best_score_, model_svm_rbf.best_estimator_"
   ]
  },
  {
   "cell_type": "code",
   "execution_count": 28,
   "metadata": {},
   "outputs": [
    {
     "name": "stdout",
     "output_type": "stream",
     "text": [
      "              precision    recall  f1-score   support\n",
      "\n",
      "           0       0.90      0.99      0.95       176\n",
      "           1       0.83      0.21      0.33        24\n",
      "\n",
      "    accuracy                           0.90       200\n",
      "   macro avg       0.87      0.60      0.64       200\n",
      "weighted avg       0.89      0.90      0.87       200\n",
      "\n"
     ]
    },
    {
     "data": {
      "image/png": "[encoded data removed]",
      "text/plain": [
       "<Figure size 432x288 with 1 Axes>"
      ]
     },
     "metadata": {
      "needs_background": "light"
     },
     "output_type": "display_data"
    }
   ],
   "source": [
    "y_pred = model_svm_rbf.predict(x_val_scaled)\n",
    "print(classification_report(y_val, y_pred))\n",
    "sns.heatmap(confusion_matrix(y_val, y_pred), annot=True, cbar=False, cmap='Blues', fmt='g')\n",
    "plt.title('Confusion Matrix')\n",
    "plt.show()"
   ]
  },
  {
   "cell_type": "code",
   "execution_count": 29,
   "metadata": {},
   "outputs": [],
   "source": [
    "model = SVC(kernel='linear')\n",
    "\n",
    "param={\n",
    "    'C':[0.001, 0.01, 0.1, 1, 10],\n",
    "    'gamma':[0.0001, 0.001, 0.01, 'scale']\n",
    "}\n",
    "\n",
    "model_svm_linear = GridSearchCV(model,\n",
    "                       param,\n",
    "                       cv=5,\n",
    "                       scoring='accuracy')"
   ]
  },
  {
   "cell_type": "code",
   "execution_count": 30,
   "metadata": {},
   "outputs": [
    {
     "data": {
      "text/plain": [
       "GridSearchCV(cv=5, estimator=SVC(kernel='linear'),\n",
       "             param_grid={'C': [0.001, 0.01, 0.1, 1, 10],\n",
       "                         'gamma': [0.0001, 0.001, 0.01, 'scale']},\n",
       "             scoring='accuracy')"
      ]
     },
     "execution_count": 30,
     "metadata": {},
     "output_type": "execute_result"
    }
   ],
   "source": [
    "model_svm_linear.fit(x_train_scaled, y_train)"
   ]
  },
  {
   "cell_type": "code",
   "execution_count": 31,
   "metadata": {},
   "outputs": [
    {
     "data": {
      "text/plain": [
       "({'C': 1, 'gamma': 0.0001},\n",
       " 0.8576470588235294,\n",
       " SVC(C=1, gamma=0.0001, kernel='linear'))"
      ]
     },
     "execution_count": 31,
     "metadata": {},
     "output_type": "execute_result"
    }
   ],
   "source": [
    "model_svm_linear.best_params_, model_svm_linear.best_score_, model_svm_linear.best_estimator_"
   ]
  },
  {
   "cell_type": "code",
   "execution_count": 32,
   "metadata": {},
   "outputs": [
    {
     "name": "stdout",
     "output_type": "stream",
     "text": [
      "              precision    recall  f1-score   support\n",
      "\n",
      "           0       0.92      0.99      0.95       176\n",
      "           1       0.80      0.33      0.47        24\n",
      "\n",
      "    accuracy                           0.91       200\n",
      "   macro avg       0.86      0.66      0.71       200\n",
      "weighted avg       0.90      0.91      0.89       200\n",
      "\n"
     ]
    },
    {
     "data": {
      "image/png": "[encoded data removed]",
      "text/plain": [
       "<Figure size 432x288 with 1 Axes>"
      ]
     },
     "metadata": {
      "needs_background": "light"
     },
     "output_type": "display_data"
    }
   ],
   "source": [
    "y_pred = model_svm_linear.predict(x_val_scaled)\n",
    "print(classification_report(y_val, y_pred))\n",
    "sns.heatmap(confusion_matrix(y_val, y_pred), annot=True, cbar=False, cmap='Blues', fmt='g')\n",
    "plt.title('Confusion Matrix')\n",
    "plt.show()"
   ]
  },
  {
   "cell_type": "markdown",
   "metadata": {
    "id": "FNAN5h5ZjxET"
   },
   "source": [
    "#### (5) Random Forest 모델링"
   ]
  },
  {
   "cell_type": "code",
   "execution_count": null,
   "metadata": {
    "id": "W7b9ksZ_OEeZ"
   },
   "outputs": [],
   "source": []
  },
  {
   "cell_type": "code",
   "execution_count": null,
   "metadata": {
    "id": "J1CbulryOEXC"
   },
   "outputs": [],
   "source": []
  },
  {
   "cell_type": "code",
   "execution_count": null,
   "metadata": {
    "id": "E0Dqu8ivOESY"
   },
   "outputs": [],
   "source": []
  },
  {
   "cell_type": "markdown",
   "metadata": {
    "id": "EuRaZc7OkRJN"
   },
   "source": [
    "#### (6) XGB 모델링"
   ]
  },
  {
   "cell_type": "code",
   "execution_count": 33,
   "metadata": {
    "id": "-ABB1_GdOF9j"
   },
   "outputs": [],
   "source": [
    "model = XGBClassifier(eval_metric='mlogloss', use_label_encoder=False)\n",
    "\n",
    "param = {\n",
    "    'max_depth':range(1, 51),\n",
    "    'learning_rate':[1, 0.1, 0.01],\n",
    "    'n_estimators':[100, 200, 300, 500]\n",
    "}\n",
    "\n",
    "model_xgb = RandomizedSearchCV(model,\n",
    "                              param,\n",
    "                              cv=5,\n",
    "                              n_iter=30)"
   ]
  },
  {
   "cell_type": "code",
   "execution_count": 34,
   "metadata": {
    "id": "WutnLut4OF5D"
   },
   "outputs": [
    {
     "data": {
      "text/plain": [
       "RandomizedSearchCV(cv=5,\n",
       "                   estimator=XGBClassifier(base_score=None, booster=None,\n",
       "                                           colsample_bylevel=None,\n",
       "                                           colsample_bynode=None,\n",
       "                                           colsample_bytree=None,\n",
       "                                           enable_categorical=False,\n",
       "                                           eval_metric='mlogloss', gamma=None,\n",
       "                                           gpu_id=None, importance_type=None,\n",
       "                                           interaction_constraints=None,\n",
       "                                           learning_rate=None,\n",
       "                                           max_delta_step=None, max_depth=None,\n",
       "                                           min_child_weight=None, missing=n...\n",
       "                                           n_estimators=100, n_jobs=None,\n",
       "                                           num_parallel_tree=None,\n",
       "                                           predictor=None, random_state=None,\n",
       "                                           reg_alpha=None, reg_lambda=None,\n",
       "                                           scale_pos_weight=None,\n",
       "                                           subsample=None, tree_method=None,\n",
       "                                           use_label_encoder=False,\n",
       "                                           validate_parameters=None,\n",
       "                                           verbosity=None),\n",
       "                   n_iter=30,\n",
       "                   param_distributions={'learning_rate': [1, 0.1, 0.01],\n",
       "                                        'max_depth': range(1, 51),\n",
       "                                        'n_estimators': [100, 200, 300, 500]})"
      ]
     },
     "execution_count": 34,
     "metadata": {},
     "output_type": "execute_result"
    }
   ],
   "source": [
    "model_xgb.fit(x_train, y_train)"
   ]
  },
  {
   "cell_type": "code",
   "execution_count": 35,
   "metadata": {
    "id": "JnuXLUkZOF1H"
   },
   "outputs": [
    {
     "data": {
      "text/plain": [
       "({'n_estimators': 500, 'max_depth': 18, 'learning_rate': 1},\n",
       " 0.8564705882352941,\n",
       " XGBClassifier(base_score=0.5, booster='gbtree', colsample_bylevel=1,\n",
       "               colsample_bynode=1, colsample_bytree=1, enable_categorical=False,\n",
       "               eval_metric='mlogloss', gamma=0, gpu_id=-1, importance_type=None,\n",
       "               interaction_constraints='', learning_rate=1, max_delta_step=0,\n",
       "               max_depth=18, min_child_weight=1, missing=nan,\n",
       "               monotone_constraints='()', n_estimators=500, n_jobs=8,\n",
       "               num_parallel_tree=1, predictor='auto', random_state=0,\n",
       "               reg_alpha=0, reg_lambda=1, scale_pos_weight=1, subsample=1,\n",
       "               tree_method='exact', use_label_encoder=False,\n",
       "               validate_parameters=1, verbosity=None))"
      ]
     },
     "execution_count": 35,
     "metadata": {},
     "output_type": "execute_result"
    }
   ],
   "source": [
    "model_xgb.best_params_, model_xgb.best_score_, model_xgb.best_estimator_"
   ]
  },
  {
   "cell_type": "code",
   "execution_count": 36,
   "metadata": {},
   "outputs": [
    {
     "data": {
      "image/png": "[encoded data removed]",
      "text/plain": [
       "<Figure size 360x1080 with 1 Axes>"
      ]
     },
     "metadata": {
      "needs_background": "light"
     },
     "output_type": "display_data"
    }
   ],
   "source": [
    "# Decision Tree에 비해 더 많은 feature들이 이직여부에 관여할 수 있다는 것을 알 수 있다.\n",
    "# 많은 feature중 전공과 직무가 가장 많은 영향을 끼친 것 같다.\n",
    "plt.figure(figsize=(5,15))\n",
    "plt.barh(y=list(x), width=model_xgb.best_estimator_.feature_importances_)\n",
    "plt.show()"
   ]
  },
  {
   "cell_type": "code",
   "execution_count": 37,
   "metadata": {},
   "outputs": [
    {
     "name": "stdout",
     "output_type": "stream",
     "text": [
      "              precision    recall  f1-score   support\n",
      "\n",
      "           0       0.91      0.95      0.93       176\n",
      "           1       0.44      0.29      0.35        24\n",
      "\n",
      "    accuracy                           0.87       200\n",
      "   macro avg       0.67      0.62      0.64       200\n",
      "weighted avg       0.85      0.87      0.86       200\n",
      "\n"
     ]
    },
    {
     "data": {
      "image/png": "[encoded data removed]",
      "text/plain": [
       "<Figure size 432x288 with 1 Axes>"
      ]
     },
     "metadata": {
      "needs_background": "light"
     },
     "output_type": "display_data"
    }
   ],
   "source": [
    "y_pred = model_xgb.predict(x_val)\n",
    "print(classification_report(y_val, y_pred))\n",
    "sns.heatmap(confusion_matrix(y_val, y_pred), annot=True, cbar=False, cmap='Blues', fmt='g')\n",
    "plt.title('Confusion Matrix')\n",
    "plt.show()"
   ]
  },
  {
   "cell_type": "markdown",
   "metadata": {
    "id": "IRsH_UjrXNiW"
   },
   "source": [
    "## 4.모델링2 : 딥러닝"
   ]
  },
  {
   "cell_type": "markdown",
   "metadata": {
    "id": "b9kRyQ6K6CIW"
   },
   "source": [
    "### 4.1 모델링을 위한 함수 불러오기"
   ]
  },
  {
   "cell_type": "code",
   "execution_count": 38,
   "metadata": {
    "id": "_BDNB7hM9_hz"
   },
   "outputs": [],
   "source": [
    "import tensorflow as tf\n",
    "from tensorflow import keras\n",
    "from tensorflow.keras.models import Model\n",
    "from tensorflow.keras.layers import Dense, Input\n",
    "from tensorflow.keras.losses import binary_crossentropy\n",
    "from tensorflow.keras.optimizers import Adam\n",
    "from tensorflow.keras.backend import clear_session\n",
    "from tensorflow.keras.callbacks import EarlyStopping"
   ]
  },
  {
   "cell_type": "markdown",
   "metadata": {
    "id": "lL9BeX00MLgt"
   },
   "source": [
    "### 4.2 모델 설계\n",
    "* 다양한 구조의 모델 3개 이상을 설계하시오. (히든레이어, 노드 수 조절)"
   ]
  },
  {
   "cell_type": "code",
   "execution_count": 39,
   "metadata": {},
   "outputs": [],
   "source": [
    "epochs = 1000\n",
    "batch_size = 16\n",
    "\n",
    "es = EarlyStopping(monitor='val_loss',\n",
    "                  min_delta=0,\n",
    "                  patience=30,\n",
    "                  verbose=1,\n",
    "                  restore_best_weights=True)"
   ]
  },
  {
   "cell_type": "markdown",
   "metadata": {
    "id": "yAaMF07mHz_q"
   },
   "source": [
    "* 모델1 "
   ]
  },
  {
   "cell_type": "code",
   "execution_count": 40,
   "metadata": {
    "id": "aA1Pm1oXMLgv"
   },
   "outputs": [
    {
     "name": "stdout",
     "output_type": "stream",
     "text": [
      "Model: \"model\"\n",
      "_________________________________________________________________\n",
      " Layer (type)                Output Shape              Param #   \n",
      "=================================================================\n",
      " input_1 (InputLayer)        [(None, 53)]              0         \n",
      "                                                                 \n",
      " dense (Dense)               (None, 1)                 54        \n",
      "                                                                 \n",
      "=================================================================\n",
      "Total params: 54\n",
      "Trainable params: 54\n",
      "Non-trainable params: 0\n",
      "_________________________________________________________________\n"
     ]
    }
   ],
   "source": [
    "clear_session()\n",
    "\n",
    "il = Input(shape=(53,))\n",
    "ol = Dense(1, activation='sigmoid')(il)\n",
    "\n",
    "model_dl_1 = Model(il, ol)\n",
    "\n",
    "model_dl_1.compile(loss=binary_crossentropy,\n",
    "             optimizer=Adam(),\n",
    "             metrics=['accuracy'])\n",
    "\n",
    "model_dl_1.summary()"
   ]
  },
  {
   "cell_type": "code",
   "execution_count": 41,
   "metadata": {
    "tags": []
   },
   "outputs": [
    {
     "name": "stdout",
     "output_type": "stream",
     "text": [
      "Epoch 1/1000\n",
      "43/43 [==============================] - 1s 6ms/step - loss: 0.8396 - accuracy: 0.3632 - val_loss: 0.6865 - val_accuracy: 0.5941\n",
      "Epoch 2/1000\n",
      "43/43 [==============================] - 0s 2ms/step - loss: 0.6512 - accuracy: 0.6147 - val_loss: 0.5598 - val_accuracy: 0.7588\n",
      "Epoch 3/1000\n",
      "43/43 [==============================] - 0s 2ms/step - loss: 0.5463 - accuracy: 0.7574 - val_loss: 0.4947 - val_accuracy: 0.7706\n",
      "Epoch 4/1000\n",
      "43/43 [==============================] - 0s 2ms/step - loss: 0.4907 - accuracy: 0.8191 - val_loss: 0.4608 - val_accuracy: 0.8059\n",
      "Epoch 5/1000\n",
      "43/43 [==============================] - 0s 2ms/step - loss: 0.4624 - accuracy: 0.8309 - val_loss: 0.4430 - val_accuracy: 0.8235\n",
      "Epoch 6/1000\n",
      "43/43 [==============================] - 0s 2ms/step - loss: 0.4470 - accuracy: 0.8324 - val_loss: 0.4341 - val_accuracy: 0.8235\n",
      "Epoch 7/1000\n",
      "43/43 [==============================] - 0s 2ms/step - loss: 0.4386 - accuracy: 0.8309 - val_loss: 0.4274 - val_accuracy: 0.8235\n",
      "Epoch 8/1000\n",
      "43/43 [==============================] - 0s 3ms/step - loss: 0.4323 - accuracy: 0.8309 - val_loss: 0.4230 - val_accuracy: 0.8235\n",
      "Epoch 9/1000\n",
      "43/43 [==============================] - 0s 3ms/step - loss: 0.4282 - accuracy: 0.8324 - val_loss: 0.4193 - val_accuracy: 0.8235\n",
      "Epoch 10/1000\n",
      "43/43 [==============================] - 0s 2ms/step - loss: 0.4248 - accuracy: 0.8324 - val_loss: 0.4161 - val_accuracy: 0.8235\n",
      "Epoch 11/1000\n",
      "43/43 [==============================] - 0s 2ms/step - loss: 0.4219 - accuracy: 0.8324 - val_loss: 0.4125 - val_accuracy: 0.8235\n",
      "Epoch 12/1000\n",
      "43/43 [==============================] - 0s 2ms/step - loss: 0.4189 - accuracy: 0.8324 - val_loss: 0.4093 - val_accuracy: 0.8235\n",
      "Epoch 13/1000\n",
      "43/43 [==============================] - 0s 2ms/step - loss: 0.4160 - accuracy: 0.8324 - val_loss: 0.4061 - val_accuracy: 0.8235\n",
      "Epoch 14/1000\n",
      "43/43 [==============================] - 0s 2ms/step - loss: 0.4136 - accuracy: 0.8338 - val_loss: 0.4030 - val_accuracy: 0.8235\n",
      "Epoch 15/1000\n",
      "43/43 [==============================] - 0s 3ms/step - loss: 0.4108 - accuracy: 0.8338 - val_loss: 0.4000 - val_accuracy: 0.8235\n",
      "Epoch 16/1000\n",
      "43/43 [==============================] - 0s 2ms/step - loss: 0.4086 - accuracy: 0.8338 - val_loss: 0.3972 - val_accuracy: 0.8235\n",
      "Epoch 17/1000\n",
      "43/43 [==============================] - 0s 2ms/step - loss: 0.4060 - accuracy: 0.8338 - val_loss: 0.3945 - val_accuracy: 0.8235\n",
      "Epoch 18/1000\n",
      "43/43 [==============================] - 0s 2ms/step - loss: 0.4038 - accuracy: 0.8353 - val_loss: 0.3917 - val_accuracy: 0.8235\n",
      "Epoch 19/1000\n",
      "43/43 [==============================] - 0s 3ms/step - loss: 0.4017 - accuracy: 0.8368 - val_loss: 0.3890 - val_accuracy: 0.8235\n",
      "Epoch 20/1000\n",
      "43/43 [==============================] - 0s 2ms/step - loss: 0.3994 - accuracy: 0.8368 - val_loss: 0.3863 - val_accuracy: 0.8235\n",
      "Epoch 21/1000\n",
      "43/43 [==============================] - 0s 2ms/step - loss: 0.3975 - accuracy: 0.8368 - val_loss: 0.3837 - val_accuracy: 0.8294\n",
      "Epoch 22/1000\n",
      "43/43 [==============================] - 0s 3ms/step - loss: 0.3955 - accuracy: 0.8368 - val_loss: 0.3814 - val_accuracy: 0.8294\n",
      "Epoch 23/1000\n",
      "43/43 [==============================] - 0s 2ms/step - loss: 0.3936 - accuracy: 0.8368 - val_loss: 0.3791 - val_accuracy: 0.8353\n",
      "Epoch 24/1000\n",
      "43/43 [==============================] - 0s 3ms/step - loss: 0.3916 - accuracy: 0.8368 - val_loss: 0.3769 - val_accuracy: 0.8353\n",
      "Epoch 25/1000\n",
      "43/43 [==============================] - 0s 2ms/step - loss: 0.3900 - accuracy: 0.8368 - val_loss: 0.3748 - val_accuracy: 0.8353\n",
      "Epoch 26/1000\n",
      "43/43 [==============================] - 0s 2ms/step - loss: 0.3882 - accuracy: 0.8368 - val_loss: 0.3726 - val_accuracy: 0.8353\n",
      "Epoch 27/1000\n",
      "43/43 [==============================] - 0s 2ms/step - loss: 0.3865 - accuracy: 0.8382 - val_loss: 0.3704 - val_accuracy: 0.8353\n",
      "Epoch 28/1000\n",
      "43/43 [==============================] - 0s 2ms/step - loss: 0.3849 - accuracy: 0.8382 - val_loss: 0.3686 - val_accuracy: 0.8353\n",
      "Epoch 29/1000\n",
      "43/43 [==============================] - 0s 2ms/step - loss: 0.3832 - accuracy: 0.8397 - val_loss: 0.3667 - val_accuracy: 0.8353\n",
      "Epoch 30/1000\n",
      "43/43 [==============================] - 0s 2ms/step - loss: 0.3820 - accuracy: 0.8397 - val_loss: 0.3646 - val_accuracy: 0.8471\n",
      "Epoch 31/1000\n",
      "43/43 [==============================] - 0s 2ms/step - loss: 0.3805 - accuracy: 0.8382 - val_loss: 0.3632 - val_accuracy: 0.8471\n",
      "Epoch 32/1000\n",
      "43/43 [==============================] - 0s 2ms/step - loss: 0.3790 - accuracy: 0.8382 - val_loss: 0.3616 - val_accuracy: 0.8471\n",
      "Epoch 33/1000\n",
      "43/43 [==============================] - 0s 2ms/step - loss: 0.3776 - accuracy: 0.8382 - val_loss: 0.3599 - val_accuracy: 0.8471\n",
      "Epoch 34/1000\n",
      "43/43 [==============================] - 0s 2ms/step - loss: 0.3763 - accuracy: 0.8368 - val_loss: 0.3583 - val_accuracy: 0.8471\n",
      "Epoch 35/1000\n",
      "43/43 [==============================] - 0s 2ms/step - loss: 0.3752 - accuracy: 0.8382 - val_loss: 0.3567 - val_accuracy: 0.8471\n",
      "Epoch 36/1000\n",
      "43/43 [==============================] - 0s 2ms/step - loss: 0.3739 - accuracy: 0.8382 - val_loss: 0.3551 - val_accuracy: 0.8471\n",
      "Epoch 37/1000\n",
      "43/43 [==============================] - 0s 2ms/step - loss: 0.3729 - accuracy: 0.8382 - val_loss: 0.3542 - val_accuracy: 0.8471\n",
      "Epoch 38/1000\n",
      "43/43 [==============================] - 0s 2ms/step - loss: 0.3716 - accuracy: 0.8382 - val_loss: 0.3525 - val_accuracy: 0.8471\n",
      "Epoch 39/1000\n",
      "43/43 [==============================] - 0s 2ms/step - loss: 0.3704 - accuracy: 0.8382 - val_loss: 0.3510 - val_accuracy: 0.8471\n",
      "Epoch 40/1000\n",
      "43/43 [==============================] - 0s 2ms/step - loss: 0.3693 - accuracy: 0.8382 - val_loss: 0.3499 - val_accuracy: 0.8471\n",
      "Epoch 41/1000\n",
      "43/43 [==============================] - 0s 2ms/step - loss: 0.3682 - accuracy: 0.8382 - val_loss: 0.3487 - val_accuracy: 0.8529\n",
      "Epoch 42/1000\n",
      "43/43 [==============================] - 0s 3ms/step - loss: 0.3676 - accuracy: 0.8397 - val_loss: 0.3474 - val_accuracy: 0.8529\n",
      "Epoch 43/1000\n",
      "43/43 [==============================] - 0s 2ms/step - loss: 0.3663 - accuracy: 0.8397 - val_loss: 0.3463 - val_accuracy: 0.8529\n",
      "Epoch 44/1000\n",
      "43/43 [==============================] - 0s 2ms/step - loss: 0.3654 - accuracy: 0.8397 - val_loss: 0.3450 - val_accuracy: 0.8529\n",
      "Epoch 45/1000\n",
      "43/43 [==============================] - 0s 2ms/step - loss: 0.3643 - accuracy: 0.8397 - val_loss: 0.3439 - val_accuracy: 0.8588\n",
      "Epoch 46/1000\n",
      "43/43 [==============================] - 0s 2ms/step - loss: 0.3634 - accuracy: 0.8412 - val_loss: 0.3430 - val_accuracy: 0.8588\n",
      "Epoch 47/1000\n",
      "43/43 [==============================] - 0s 2ms/step - loss: 0.3625 - accuracy: 0.8397 - val_loss: 0.3419 - val_accuracy: 0.8588\n",
      "Epoch 48/1000\n",
      "43/43 [==============================] - 0s 2ms/step - loss: 0.3617 - accuracy: 0.8426 - val_loss: 0.3407 - val_accuracy: 0.8588\n",
      "Epoch 49/1000\n",
      "43/43 [==============================] - 0s 3ms/step - loss: 0.3608 - accuracy: 0.8456 - val_loss: 0.3399 - val_accuracy: 0.8588\n",
      "Epoch 50/1000\n",
      "43/43 [==============================] - 0s 2ms/step - loss: 0.3600 - accuracy: 0.8456 - val_loss: 0.3389 - val_accuracy: 0.8588\n",
      "Epoch 51/1000\n",
      "43/43 [==============================] - 0s 2ms/step - loss: 0.3594 - accuracy: 0.8471 - val_loss: 0.3379 - val_accuracy: 0.8588\n",
      "Epoch 52/1000\n",
      "43/43 [==============================] - 0s 2ms/step - loss: 0.3585 - accuracy: 0.8471 - val_loss: 0.3368 - val_accuracy: 0.8588\n",
      "Epoch 53/1000\n",
      "43/43 [==============================] - 0s 2ms/step - loss: 0.3578 - accuracy: 0.8471 - val_loss: 0.3361 - val_accuracy: 0.8588\n",
      "Epoch 54/1000\n",
      "43/43 [==============================] - 0s 2ms/step - loss: 0.3569 - accuracy: 0.8471 - val_loss: 0.3351 - val_accuracy: 0.8588\n",
      "Epoch 55/1000\n",
      "43/43 [==============================] - 0s 2ms/step - loss: 0.3562 - accuracy: 0.8471 - val_loss: 0.3343 - val_accuracy: 0.8647\n",
      "Epoch 56/1000\n",
      "43/43 [==============================] - 0s 2ms/step - loss: 0.3554 - accuracy: 0.8471 - val_loss: 0.3332 - val_accuracy: 0.8647\n",
      "Epoch 57/1000\n",
      "43/43 [==============================] - 0s 2ms/step - loss: 0.3552 - accuracy: 0.8471 - val_loss: 0.3324 - val_accuracy: 0.8647\n",
      "Epoch 58/1000\n",
      "43/43 [==============================] - 0s 2ms/step - loss: 0.3541 - accuracy: 0.8471 - val_loss: 0.3318 - val_accuracy: 0.8647\n",
      "Epoch 59/1000\n",
      "43/43 [==============================] - 0s 2ms/step - loss: 0.3534 - accuracy: 0.8485 - val_loss: 0.3311 - val_accuracy: 0.8647\n",
      "Epoch 60/1000\n",
      "43/43 [==============================] - 0s 2ms/step - loss: 0.3532 - accuracy: 0.8500 - val_loss: 0.3302 - val_accuracy: 0.8647\n",
      "Epoch 61/1000\n",
      "43/43 [==============================] - 0s 2ms/step - loss: 0.3521 - accuracy: 0.8515 - val_loss: 0.3295 - val_accuracy: 0.8647\n",
      "Epoch 62/1000\n",
      "43/43 [==============================] - 0s 2ms/step - loss: 0.3516 - accuracy: 0.8500 - val_loss: 0.3286 - val_accuracy: 0.8647\n",
      "Epoch 63/1000\n",
      "43/43 [==============================] - 0s 2ms/step - loss: 0.3511 - accuracy: 0.8500 - val_loss: 0.3281 - val_accuracy: 0.8647\n",
      "Epoch 64/1000\n",
      "43/43 [==============================] - 0s 2ms/step - loss: 0.3507 - accuracy: 0.8515 - val_loss: 0.3274 - val_accuracy: 0.8647\n",
      "Epoch 65/1000\n",
      "43/43 [==============================] - 0s 2ms/step - loss: 0.3501 - accuracy: 0.8500 - val_loss: 0.3269 - val_accuracy: 0.8647\n",
      "Epoch 66/1000\n",
      "43/43 [==============================] - 0s 2ms/step - loss: 0.3496 - accuracy: 0.8515 - val_loss: 0.3263 - val_accuracy: 0.8647\n",
      "Epoch 67/1000\n",
      "43/43 [==============================] - 0s 2ms/step - loss: 0.3492 - accuracy: 0.8500 - val_loss: 0.3256 - val_accuracy: 0.8647\n",
      "Epoch 68/1000\n",
      "43/43 [==============================] - 0s 2ms/step - loss: 0.3483 - accuracy: 0.8515 - val_loss: 0.3250 - val_accuracy: 0.8647\n",
      "Epoch 69/1000\n",
      "43/43 [==============================] - 0s 2ms/step - loss: 0.3480 - accuracy: 0.8529 - val_loss: 0.3244 - val_accuracy: 0.8647\n",
      "Epoch 70/1000\n",
      "43/43 [==============================] - 0s 2ms/step - loss: 0.3473 - accuracy: 0.8515 - val_loss: 0.3239 - val_accuracy: 0.8706\n",
      "Epoch 71/1000\n",
      "43/43 [==============================] - 0s 2ms/step - loss: 0.3469 - accuracy: 0.8544 - val_loss: 0.3236 - val_accuracy: 0.8706\n",
      "Epoch 72/1000\n",
      "43/43 [==============================] - 0s 2ms/step - loss: 0.3464 - accuracy: 0.8544 - val_loss: 0.3226 - val_accuracy: 0.8706\n",
      "Epoch 73/1000\n",
      "43/43 [==============================] - 0s 2ms/step - loss: 0.3459 - accuracy: 0.8559 - val_loss: 0.3222 - val_accuracy: 0.8765\n",
      "Epoch 74/1000\n",
      "43/43 [==============================] - 0s 2ms/step - loss: 0.3457 - accuracy: 0.8574 - val_loss: 0.3218 - val_accuracy: 0.8765\n",
      "Epoch 75/1000\n",
      "43/43 [==============================] - 0s 2ms/step - loss: 0.3456 - accuracy: 0.8559 - val_loss: 0.3213 - val_accuracy: 0.8824\n",
      "Epoch 76/1000\n",
      "43/43 [==============================] - 0s 2ms/step - loss: 0.3446 - accuracy: 0.8603 - val_loss: 0.3207 - val_accuracy: 0.8765\n",
      "Epoch 77/1000\n",
      "43/43 [==============================] - 0s 2ms/step - loss: 0.3441 - accuracy: 0.8603 - val_loss: 0.3204 - val_accuracy: 0.8882\n",
      "Epoch 78/1000\n",
      "43/43 [==============================] - 0s 2ms/step - loss: 0.3436 - accuracy: 0.8588 - val_loss: 0.3197 - val_accuracy: 0.8882\n",
      "Epoch 79/1000\n",
      "43/43 [==============================] - 0s 2ms/step - loss: 0.3432 - accuracy: 0.8588 - val_loss: 0.3194 - val_accuracy: 0.8882\n",
      "Epoch 80/1000\n",
      "43/43 [==============================] - 0s 2ms/step - loss: 0.3429 - accuracy: 0.8574 - val_loss: 0.3190 - val_accuracy: 0.8882\n",
      "Epoch 81/1000\n",
      "43/43 [==============================] - 0s 2ms/step - loss: 0.3429 - accuracy: 0.8603 - val_loss: 0.3187 - val_accuracy: 0.8882\n",
      "Epoch 82/1000\n",
      "43/43 [==============================] - 0s 2ms/step - loss: 0.3422 - accuracy: 0.8603 - val_loss: 0.3181 - val_accuracy: 0.8882\n",
      "Epoch 83/1000\n",
      "43/43 [==============================] - 0s 2ms/step - loss: 0.3417 - accuracy: 0.8588 - val_loss: 0.3179 - val_accuracy: 0.8941\n",
      "Epoch 84/1000\n",
      "43/43 [==============================] - 0s 2ms/step - loss: 0.3413 - accuracy: 0.8574 - val_loss: 0.3176 - val_accuracy: 0.8941\n",
      "Epoch 85/1000\n",
      "43/43 [==============================] - 0s 2ms/step - loss: 0.3410 - accuracy: 0.8618 - val_loss: 0.3169 - val_accuracy: 0.8941\n",
      "Epoch 86/1000\n",
      "43/43 [==============================] - 0s 3ms/step - loss: 0.3408 - accuracy: 0.8603 - val_loss: 0.3162 - val_accuracy: 0.8882\n",
      "Epoch 87/1000\n",
      "43/43 [==============================] - 0s 2ms/step - loss: 0.3403 - accuracy: 0.8603 - val_loss: 0.3163 - val_accuracy: 0.8941\n",
      "Epoch 88/1000\n",
      "43/43 [==============================] - 0s 3ms/step - loss: 0.3399 - accuracy: 0.8632 - val_loss: 0.3160 - val_accuracy: 0.8941\n",
      "Epoch 89/1000\n",
      "43/43 [==============================] - 0s 2ms/step - loss: 0.3396 - accuracy: 0.8632 - val_loss: 0.3153 - val_accuracy: 0.8941\n",
      "Epoch 90/1000\n",
      "43/43 [==============================] - 0s 2ms/step - loss: 0.3394 - accuracy: 0.8632 - val_loss: 0.3150 - val_accuracy: 0.8941\n",
      "Epoch 91/1000\n",
      "43/43 [==============================] - 0s 3ms/step - loss: 0.3390 - accuracy: 0.8618 - val_loss: 0.3144 - val_accuracy: 0.8941\n",
      "Epoch 92/1000\n",
      "43/43 [==============================] - 0s 2ms/step - loss: 0.3385 - accuracy: 0.8618 - val_loss: 0.3144 - val_accuracy: 0.8882\n",
      "Epoch 93/1000\n",
      "43/43 [==============================] - 0s 2ms/step - loss: 0.3384 - accuracy: 0.8632 - val_loss: 0.3140 - val_accuracy: 0.8882\n",
      "Epoch 94/1000\n",
      "43/43 [==============================] - 0s 2ms/step - loss: 0.3380 - accuracy: 0.8632 - val_loss: 0.3139 - val_accuracy: 0.8882\n",
      "Epoch 95/1000\n",
      "43/43 [==============================] - 0s 3ms/step - loss: 0.3377 - accuracy: 0.8632 - val_loss: 0.3135 - val_accuracy: 0.8882\n",
      "Epoch 96/1000\n",
      "43/43 [==============================] - 0s 3ms/step - loss: 0.3373 - accuracy: 0.8632 - val_loss: 0.3133 - val_accuracy: 0.8882\n",
      "Epoch 97/1000\n",
      "43/43 [==============================] - 0s 2ms/step - loss: 0.3372 - accuracy: 0.8632 - val_loss: 0.3127 - val_accuracy: 0.8882\n",
      "Epoch 98/1000\n",
      "43/43 [==============================] - 0s 2ms/step - loss: 0.3370 - accuracy: 0.8647 - val_loss: 0.3128 - val_accuracy: 0.8882\n",
      "Epoch 99/1000\n",
      "43/43 [==============================] - 0s 2ms/step - loss: 0.3366 - accuracy: 0.8632 - val_loss: 0.3124 - val_accuracy: 0.8882\n",
      "Epoch 100/1000\n",
      "43/43 [==============================] - 0s 2ms/step - loss: 0.3365 - accuracy: 0.8632 - val_loss: 0.3116 - val_accuracy: 0.8882\n",
      "Epoch 101/1000\n",
      "43/43 [==============================] - 0s 2ms/step - loss: 0.3360 - accuracy: 0.8632 - val_loss: 0.3117 - val_accuracy: 0.8882\n",
      "Epoch 102/1000\n",
      "43/43 [==============================] - 0s 2ms/step - loss: 0.3357 - accuracy: 0.8618 - val_loss: 0.3115 - val_accuracy: 0.8882\n",
      "Epoch 103/1000\n",
      "43/43 [==============================] - 0s 2ms/step - loss: 0.3355 - accuracy: 0.8706 - val_loss: 0.3116 - val_accuracy: 0.8882\n",
      "Epoch 104/1000\n",
      "43/43 [==============================] - 0s 2ms/step - loss: 0.3352 - accuracy: 0.8706 - val_loss: 0.3109 - val_accuracy: 0.8882\n",
      "Epoch 105/1000\n",
      "43/43 [==============================] - 0s 2ms/step - loss: 0.3352 - accuracy: 0.8706 - val_loss: 0.3108 - val_accuracy: 0.8882\n",
      "Epoch 106/1000\n",
      "43/43 [==============================] - 0s 2ms/step - loss: 0.3349 - accuracy: 0.8647 - val_loss: 0.3103 - val_accuracy: 0.8882\n",
      "Epoch 107/1000\n",
      "43/43 [==============================] - 0s 2ms/step - loss: 0.3346 - accuracy: 0.8706 - val_loss: 0.3101 - val_accuracy: 0.8882\n",
      "Epoch 108/1000\n",
      "43/43 [==============================] - 0s 2ms/step - loss: 0.3344 - accuracy: 0.8632 - val_loss: 0.3097 - val_accuracy: 0.8882\n",
      "Epoch 109/1000\n",
      "43/43 [==============================] - 0s 2ms/step - loss: 0.3339 - accuracy: 0.8691 - val_loss: 0.3099 - val_accuracy: 0.8941\n",
      "Epoch 110/1000\n",
      "43/43 [==============================] - 0s 2ms/step - loss: 0.3338 - accuracy: 0.8691 - val_loss: 0.3096 - val_accuracy: 0.8941\n",
      "Epoch 111/1000\n",
      "43/43 [==============================] - 0s 2ms/step - loss: 0.3335 - accuracy: 0.8691 - val_loss: 0.3092 - val_accuracy: 0.8941\n",
      "Epoch 112/1000\n",
      "43/43 [==============================] - 0s 2ms/step - loss: 0.3334 - accuracy: 0.8706 - val_loss: 0.3092 - val_accuracy: 0.8941\n",
      "Epoch 113/1000\n",
      "43/43 [==============================] - 0s 2ms/step - loss: 0.3332 - accuracy: 0.8662 - val_loss: 0.3088 - val_accuracy: 0.8941\n",
      "Epoch 114/1000\n",
      "43/43 [==============================] - 0s 2ms/step - loss: 0.3329 - accuracy: 0.8691 - val_loss: 0.3084 - val_accuracy: 0.8941\n",
      "Epoch 115/1000\n",
      "43/43 [==============================] - 0s 2ms/step - loss: 0.3326 - accuracy: 0.8691 - val_loss: 0.3083 - val_accuracy: 0.8941\n",
      "Epoch 116/1000\n",
      "43/43 [==============================] - 0s 2ms/step - loss: 0.3330 - accuracy: 0.8721 - val_loss: 0.3081 - val_accuracy: 0.8941\n",
      "Epoch 117/1000\n",
      "43/43 [==============================] - 0s 2ms/step - loss: 0.3325 - accuracy: 0.8632 - val_loss: 0.3077 - val_accuracy: 0.8941\n",
      "Epoch 118/1000\n",
      "43/43 [==============================] - 0s 2ms/step - loss: 0.3320 - accuracy: 0.8676 - val_loss: 0.3075 - val_accuracy: 0.8941\n",
      "Epoch 119/1000\n",
      "43/43 [==============================] - 0s 2ms/step - loss: 0.3318 - accuracy: 0.8691 - val_loss: 0.3074 - val_accuracy: 0.8941\n",
      "Epoch 120/1000\n",
      "43/43 [==============================] - 0s 2ms/step - loss: 0.3317 - accuracy: 0.8706 - val_loss: 0.3071 - val_accuracy: 0.8941\n",
      "Epoch 121/1000\n",
      "43/43 [==============================] - 0s 2ms/step - loss: 0.3316 - accuracy: 0.8691 - val_loss: 0.3069 - val_accuracy: 0.8941\n",
      "Epoch 122/1000\n",
      "43/43 [==============================] - 0s 2ms/step - loss: 0.3312 - accuracy: 0.8706 - val_loss: 0.3069 - val_accuracy: 0.8941\n",
      "Epoch 123/1000\n",
      "43/43 [==============================] - 0s 2ms/step - loss: 0.3313 - accuracy: 0.8750 - val_loss: 0.3067 - val_accuracy: 0.8941\n",
      "Epoch 124/1000\n",
      "43/43 [==============================] - 0s 3ms/step - loss: 0.3311 - accuracy: 0.8647 - val_loss: 0.3062 - val_accuracy: 0.8941\n",
      "Epoch 125/1000\n",
      "43/43 [==============================] - 0s 3ms/step - loss: 0.3309 - accuracy: 0.8706 - val_loss: 0.3061 - val_accuracy: 0.8941\n",
      "Epoch 126/1000\n",
      "43/43 [==============================] - 0s 3ms/step - loss: 0.3308 - accuracy: 0.8676 - val_loss: 0.3059 - val_accuracy: 0.8941\n",
      "Epoch 127/1000\n",
      "43/43 [==============================] - 0s 3ms/step - loss: 0.3306 - accuracy: 0.8676 - val_loss: 0.3058 - val_accuracy: 0.8941\n",
      "Epoch 128/1000\n",
      "43/43 [==============================] - 0s 3ms/step - loss: 0.3302 - accuracy: 0.8706 - val_loss: 0.3059 - val_accuracy: 0.8941\n",
      "Epoch 129/1000\n",
      "43/43 [==============================] - 0s 3ms/step - loss: 0.3300 - accuracy: 0.8721 - val_loss: 0.3057 - val_accuracy: 0.8941\n",
      "Epoch 130/1000\n",
      "43/43 [==============================] - 0s 4ms/step - loss: 0.3302 - accuracy: 0.8706 - val_loss: 0.3049 - val_accuracy: 0.8941\n",
      "Epoch 131/1000\n",
      "43/43 [==============================] - 0s 4ms/step - loss: 0.3294 - accuracy: 0.8706 - val_loss: 0.3051 - val_accuracy: 0.8941\n",
      "Epoch 132/1000\n",
      "43/43 [==============================] - 0s 3ms/step - loss: 0.3297 - accuracy: 0.8735 - val_loss: 0.3049 - val_accuracy: 0.8941\n",
      "Epoch 133/1000\n",
      "43/43 [==============================] - 0s 3ms/step - loss: 0.3294 - accuracy: 0.8691 - val_loss: 0.3047 - val_accuracy: 0.8941\n",
      "Epoch 134/1000\n",
      "43/43 [==============================] - 0s 3ms/step - loss: 0.3290 - accuracy: 0.8735 - val_loss: 0.3046 - val_accuracy: 0.8941\n",
      "Epoch 135/1000\n",
      "43/43 [==============================] - 0s 3ms/step - loss: 0.3294 - accuracy: 0.8662 - val_loss: 0.3042 - val_accuracy: 0.8941\n",
      "Epoch 136/1000\n",
      "43/43 [==============================] - 0s 3ms/step - loss: 0.3289 - accuracy: 0.8750 - val_loss: 0.3046 - val_accuracy: 0.8941\n",
      "Epoch 137/1000\n",
      "43/43 [==============================] - 0s 2ms/step - loss: 0.3287 - accuracy: 0.8765 - val_loss: 0.3043 - val_accuracy: 0.8941\n",
      "Epoch 138/1000\n",
      "43/43 [==============================] - 0s 3ms/step - loss: 0.3284 - accuracy: 0.8735 - val_loss: 0.3042 - val_accuracy: 0.8941\n",
      "Epoch 139/1000\n",
      "43/43 [==============================] - 0s 2ms/step - loss: 0.3284 - accuracy: 0.8735 - val_loss: 0.3041 - val_accuracy: 0.8941\n",
      "Epoch 140/1000\n",
      "43/43 [==============================] - 0s 2ms/step - loss: 0.3281 - accuracy: 0.8735 - val_loss: 0.3043 - val_accuracy: 0.8941\n",
      "Epoch 141/1000\n",
      "43/43 [==============================] - 0s 3ms/step - loss: 0.3282 - accuracy: 0.8735 - val_loss: 0.3038 - val_accuracy: 0.8941\n",
      "Epoch 142/1000\n",
      "43/43 [==============================] - 0s 2ms/step - loss: 0.3281 - accuracy: 0.8750 - val_loss: 0.3036 - val_accuracy: 0.8941\n",
      "Epoch 143/1000\n",
      "43/43 [==============================] - 0s 3ms/step - loss: 0.3276 - accuracy: 0.8750 - val_loss: 0.3037 - val_accuracy: 0.8941\n",
      "Epoch 144/1000\n",
      "43/43 [==============================] - 0s 4ms/step - loss: 0.3279 - accuracy: 0.8809 - val_loss: 0.3039 - val_accuracy: 0.8882\n",
      "Epoch 145/1000\n",
      "43/43 [==============================] - 0s 4ms/step - loss: 0.3273 - accuracy: 0.8779 - val_loss: 0.3033 - val_accuracy: 0.8941\n",
      "Epoch 146/1000\n",
      "43/43 [==============================] - 0s 3ms/step - loss: 0.3273 - accuracy: 0.8721 - val_loss: 0.3030 - val_accuracy: 0.8941\n",
      "Epoch 147/1000\n",
      "43/43 [==============================] - 0s 3ms/step - loss: 0.3271 - accuracy: 0.8779 - val_loss: 0.3030 - val_accuracy: 0.8941\n",
      "Epoch 148/1000\n",
      "43/43 [==============================] - 0s 3ms/step - loss: 0.3270 - accuracy: 0.8779 - val_loss: 0.3028 - val_accuracy: 0.8941\n",
      "Epoch 149/1000\n",
      "43/43 [==============================] - 0s 3ms/step - loss: 0.3269 - accuracy: 0.8765 - val_loss: 0.3024 - val_accuracy: 0.8941\n",
      "Epoch 150/1000\n",
      "43/43 [==============================] - 0s 2ms/step - loss: 0.3269 - accuracy: 0.8750 - val_loss: 0.3025 - val_accuracy: 0.8941\n",
      "Epoch 151/1000\n",
      "43/43 [==============================] - 0s 3ms/step - loss: 0.3265 - accuracy: 0.8794 - val_loss: 0.3023 - val_accuracy: 0.8941\n",
      "Epoch 152/1000\n",
      "43/43 [==============================] - 0s 3ms/step - loss: 0.3264 - accuracy: 0.8779 - val_loss: 0.3025 - val_accuracy: 0.8941\n",
      "Epoch 153/1000\n",
      "43/43 [==============================] - 0s 2ms/step - loss: 0.3264 - accuracy: 0.8765 - val_loss: 0.3018 - val_accuracy: 0.8941\n",
      "Epoch 154/1000\n",
      "43/43 [==============================] - 0s 3ms/step - loss: 0.3262 - accuracy: 0.8765 - val_loss: 0.3020 - val_accuracy: 0.8941\n",
      "Epoch 155/1000\n",
      "43/43 [==============================] - 0s 3ms/step - loss: 0.3261 - accuracy: 0.8765 - val_loss: 0.3020 - val_accuracy: 0.8941\n",
      "Epoch 156/1000\n",
      "43/43 [==============================] - 0s 2ms/step - loss: 0.3260 - accuracy: 0.8779 - val_loss: 0.3016 - val_accuracy: 0.8941\n",
      "Epoch 157/1000\n",
      "43/43 [==============================] - 0s 3ms/step - loss: 0.3258 - accuracy: 0.8735 - val_loss: 0.3016 - val_accuracy: 0.8941\n",
      "Epoch 158/1000\n",
      "43/43 [==============================] - 0s 3ms/step - loss: 0.3257 - accuracy: 0.8794 - val_loss: 0.3017 - val_accuracy: 0.8941\n",
      "Epoch 159/1000\n",
      "43/43 [==============================] - 0s 3ms/step - loss: 0.3257 - accuracy: 0.8794 - val_loss: 0.3016 - val_accuracy: 0.8941\n",
      "Epoch 160/1000\n",
      "43/43 [==============================] - 0s 2ms/step - loss: 0.3255 - accuracy: 0.8794 - val_loss: 0.3012 - val_accuracy: 0.8941\n",
      "Epoch 161/1000\n",
      "43/43 [==============================] - 0s 2ms/step - loss: 0.3254 - accuracy: 0.8794 - val_loss: 0.3009 - val_accuracy: 0.8941\n",
      "Epoch 162/1000\n",
      "43/43 [==============================] - 0s 3ms/step - loss: 0.3256 - accuracy: 0.8794 - val_loss: 0.3011 - val_accuracy: 0.8941\n",
      "Epoch 163/1000\n",
      "43/43 [==============================] - 0s 2ms/step - loss: 0.3251 - accuracy: 0.8794 - val_loss: 0.3011 - val_accuracy: 0.8941\n",
      "Epoch 164/1000\n",
      "43/43 [==============================] - 0s 2ms/step - loss: 0.3250 - accuracy: 0.8794 - val_loss: 0.3008 - val_accuracy: 0.8941\n",
      "Epoch 165/1000\n",
      "43/43 [==============================] - 0s 2ms/step - loss: 0.3251 - accuracy: 0.8779 - val_loss: 0.3006 - val_accuracy: 0.8941\n",
      "Epoch 166/1000\n",
      "43/43 [==============================] - 0s 2ms/step - loss: 0.3252 - accuracy: 0.8750 - val_loss: 0.3005 - val_accuracy: 0.8941\n",
      "Epoch 167/1000\n",
      "43/43 [==============================] - 0s 2ms/step - loss: 0.3249 - accuracy: 0.8750 - val_loss: 0.3005 - val_accuracy: 0.8941\n",
      "Epoch 168/1000\n",
      "43/43 [==============================] - 0s 2ms/step - loss: 0.3246 - accuracy: 0.8794 - val_loss: 0.3005 - val_accuracy: 0.9000\n",
      "Epoch 169/1000\n",
      "43/43 [==============================] - 0s 2ms/step - loss: 0.3249 - accuracy: 0.8794 - val_loss: 0.3005 - val_accuracy: 0.8941\n",
      "Epoch 170/1000\n",
      "43/43 [==============================] - 0s 2ms/step - loss: 0.3245 - accuracy: 0.8779 - val_loss: 0.3000 - val_accuracy: 0.9000\n",
      "Epoch 171/1000\n",
      "43/43 [==============================] - 0s 2ms/step - loss: 0.3245 - accuracy: 0.8794 - val_loss: 0.2999 - val_accuracy: 0.9000\n",
      "Epoch 172/1000\n",
      "43/43 [==============================] - 0s 2ms/step - loss: 0.3242 - accuracy: 0.8779 - val_loss: 0.2999 - val_accuracy: 0.8941\n",
      "Epoch 173/1000\n",
      "43/43 [==============================] - 0s 2ms/step - loss: 0.3242 - accuracy: 0.8779 - val_loss: 0.2997 - val_accuracy: 0.9000\n",
      "Epoch 174/1000\n",
      "43/43 [==============================] - 0s 2ms/step - loss: 0.3242 - accuracy: 0.8735 - val_loss: 0.2996 - val_accuracy: 0.8941\n",
      "Epoch 175/1000\n",
      "43/43 [==============================] - 0s 2ms/step - loss: 0.3238 - accuracy: 0.8765 - val_loss: 0.2994 - val_accuracy: 0.8941\n",
      "Epoch 176/1000\n",
      "43/43 [==============================] - 0s 3ms/step - loss: 0.3240 - accuracy: 0.8794 - val_loss: 0.2996 - val_accuracy: 0.9000\n",
      "Epoch 177/1000\n",
      "43/43 [==============================] - 0s 2ms/step - loss: 0.3237 - accuracy: 0.8765 - val_loss: 0.2993 - val_accuracy: 0.9000\n",
      "Epoch 178/1000\n",
      "43/43 [==============================] - 0s 2ms/step - loss: 0.3237 - accuracy: 0.8794 - val_loss: 0.2993 - val_accuracy: 0.9000\n",
      "Epoch 179/1000\n",
      "43/43 [==============================] - 0s 2ms/step - loss: 0.3235 - accuracy: 0.8794 - val_loss: 0.2991 - val_accuracy: 0.9000\n",
      "Epoch 180/1000\n",
      "43/43 [==============================] - 0s 2ms/step - loss: 0.3233 - accuracy: 0.8794 - val_loss: 0.2989 - val_accuracy: 0.9000\n",
      "Epoch 181/1000\n",
      "43/43 [==============================] - 0s 2ms/step - loss: 0.3234 - accuracy: 0.8765 - val_loss: 0.2989 - val_accuracy: 0.9000\n",
      "Epoch 182/1000\n",
      "43/43 [==============================] - 0s 2ms/step - loss: 0.3232 - accuracy: 0.8794 - val_loss: 0.2988 - val_accuracy: 0.9000\n",
      "Epoch 183/1000\n",
      "43/43 [==============================] - 0s 2ms/step - loss: 0.3232 - accuracy: 0.8779 - val_loss: 0.2987 - val_accuracy: 0.9000\n",
      "Epoch 184/1000\n",
      "43/43 [==============================] - 0s 2ms/step - loss: 0.3231 - accuracy: 0.8794 - val_loss: 0.2986 - val_accuracy: 0.9000\n",
      "Epoch 185/1000\n",
      "43/43 [==============================] - 0s 2ms/step - loss: 0.3230 - accuracy: 0.8779 - val_loss: 0.2985 - val_accuracy: 0.9000\n",
      "Epoch 186/1000\n",
      "43/43 [==============================] - 0s 2ms/step - loss: 0.3231 - accuracy: 0.8779 - val_loss: 0.2983 - val_accuracy: 0.9000\n",
      "Epoch 187/1000\n",
      "43/43 [==============================] - 0s 2ms/step - loss: 0.3228 - accuracy: 0.8765 - val_loss: 0.2982 - val_accuracy: 0.9000\n",
      "Epoch 188/1000\n",
      "43/43 [==============================] - 0s 2ms/step - loss: 0.3230 - accuracy: 0.8765 - val_loss: 0.2984 - val_accuracy: 0.9000\n",
      "Epoch 189/1000\n",
      "43/43 [==============================] - 0s 2ms/step - loss: 0.3226 - accuracy: 0.8779 - val_loss: 0.2981 - val_accuracy: 0.9000\n",
      "Epoch 190/1000\n",
      "43/43 [==============================] - 0s 2ms/step - loss: 0.3224 - accuracy: 0.8794 - val_loss: 0.2980 - val_accuracy: 0.9000\n",
      "Epoch 191/1000\n",
      "43/43 [==============================] - 0s 2ms/step - loss: 0.3224 - accuracy: 0.8794 - val_loss: 0.2979 - val_accuracy: 0.9000\n",
      "Epoch 192/1000\n",
      "43/43 [==============================] - 0s 2ms/step - loss: 0.3226 - accuracy: 0.8794 - val_loss: 0.2977 - val_accuracy: 0.9000\n",
      "Epoch 193/1000\n",
      "43/43 [==============================] - 0s 2ms/step - loss: 0.3223 - accuracy: 0.8794 - val_loss: 0.2977 - val_accuracy: 0.9000\n",
      "Epoch 194/1000\n",
      "43/43 [==============================] - 0s 2ms/step - loss: 0.3222 - accuracy: 0.8765 - val_loss: 0.2980 - val_accuracy: 0.9000\n",
      "Epoch 195/1000\n",
      "43/43 [==============================] - 0s 2ms/step - loss: 0.3220 - accuracy: 0.8765 - val_loss: 0.2979 - val_accuracy: 0.9000\n",
      "Epoch 196/1000\n",
      "43/43 [==============================] - 0s 2ms/step - loss: 0.3220 - accuracy: 0.8765 - val_loss: 0.2975 - val_accuracy: 0.9000\n",
      "Epoch 197/1000\n",
      "43/43 [==============================] - 0s 2ms/step - loss: 0.3219 - accuracy: 0.8779 - val_loss: 0.2976 - val_accuracy: 0.9000\n",
      "Epoch 198/1000\n",
      "43/43 [==============================] - 0s 2ms/step - loss: 0.3219 - accuracy: 0.8779 - val_loss: 0.2972 - val_accuracy: 0.9000\n",
      "Epoch 199/1000\n",
      "43/43 [==============================] - 0s 2ms/step - loss: 0.3218 - accuracy: 0.8779 - val_loss: 0.2975 - val_accuracy: 0.9000\n",
      "Epoch 200/1000\n",
      "43/43 [==============================] - 0s 2ms/step - loss: 0.3220 - accuracy: 0.8794 - val_loss: 0.2971 - val_accuracy: 0.9000\n",
      "Epoch 201/1000\n",
      "43/43 [==============================] - 0s 2ms/step - loss: 0.3216 - accuracy: 0.8779 - val_loss: 0.2972 - val_accuracy: 0.9000\n",
      "Epoch 202/1000\n",
      "43/43 [==============================] - 0s 2ms/step - loss: 0.3215 - accuracy: 0.8779 - val_loss: 0.2974 - val_accuracy: 0.9000\n",
      "Epoch 203/1000\n",
      "43/43 [==============================] - 0s 2ms/step - loss: 0.3214 - accuracy: 0.8779 - val_loss: 0.2972 - val_accuracy: 0.9000\n",
      "Epoch 204/1000\n",
      "43/43 [==============================] - 0s 2ms/step - loss: 0.3215 - accuracy: 0.8794 - val_loss: 0.2972 - val_accuracy: 0.9000\n",
      "Epoch 205/1000\n",
      "43/43 [==============================] - 0s 2ms/step - loss: 0.3218 - accuracy: 0.8779 - val_loss: 0.2968 - val_accuracy: 0.9000\n",
      "Epoch 206/1000\n",
      "43/43 [==============================] - 0s 2ms/step - loss: 0.3213 - accuracy: 0.8779 - val_loss: 0.2974 - val_accuracy: 0.9000\n",
      "Epoch 207/1000\n",
      "43/43 [==============================] - 0s 2ms/step - loss: 0.3213 - accuracy: 0.8794 - val_loss: 0.2969 - val_accuracy: 0.9000\n",
      "Epoch 208/1000\n",
      "43/43 [==============================] - 0s 2ms/step - loss: 0.3213 - accuracy: 0.8779 - val_loss: 0.2968 - val_accuracy: 0.9000\n",
      "Epoch 209/1000\n",
      "43/43 [==============================] - 0s 2ms/step - loss: 0.3209 - accuracy: 0.8779 - val_loss: 0.2970 - val_accuracy: 0.9000\n",
      "Epoch 210/1000\n",
      "43/43 [==============================] - 0s 2ms/step - loss: 0.3211 - accuracy: 0.8779 - val_loss: 0.2968 - val_accuracy: 0.9000\n",
      "Epoch 211/1000\n",
      "43/43 [==============================] - 0s 2ms/step - loss: 0.3208 - accuracy: 0.8794 - val_loss: 0.2968 - val_accuracy: 0.9000\n",
      "Epoch 212/1000\n",
      "43/43 [==============================] - 0s 2ms/step - loss: 0.3208 - accuracy: 0.8794 - val_loss: 0.2968 - val_accuracy: 0.9000\n",
      "Epoch 213/1000\n",
      "43/43 [==============================] - 0s 2ms/step - loss: 0.3208 - accuracy: 0.8779 - val_loss: 0.2968 - val_accuracy: 0.9000\n",
      "Epoch 214/1000\n",
      "43/43 [==============================] - 0s 3ms/step - loss: 0.3209 - accuracy: 0.8765 - val_loss: 0.2964 - val_accuracy: 0.9000\n",
      "Epoch 215/1000\n",
      "43/43 [==============================] - 0s 2ms/step - loss: 0.3205 - accuracy: 0.8779 - val_loss: 0.2967 - val_accuracy: 0.9000\n",
      "Epoch 216/1000\n",
      "43/43 [==============================] - 0s 2ms/step - loss: 0.3211 - accuracy: 0.8794 - val_loss: 0.2962 - val_accuracy: 0.9000\n",
      "Epoch 217/1000\n",
      "43/43 [==============================] - 0s 2ms/step - loss: 0.3205 - accuracy: 0.8779 - val_loss: 0.2968 - val_accuracy: 0.9000\n",
      "Epoch 218/1000\n",
      "43/43 [==============================] - 0s 2ms/step - loss: 0.3206 - accuracy: 0.8809 - val_loss: 0.2964 - val_accuracy: 0.9000\n",
      "Epoch 219/1000\n",
      "43/43 [==============================] - 0s 2ms/step - loss: 0.3203 - accuracy: 0.8779 - val_loss: 0.2964 - val_accuracy: 0.9000\n",
      "Epoch 220/1000\n",
      "43/43 [==============================] - 0s 2ms/step - loss: 0.3202 - accuracy: 0.8794 - val_loss: 0.2960 - val_accuracy: 0.9000\n",
      "Epoch 221/1000\n",
      "43/43 [==============================] - 0s 2ms/step - loss: 0.3202 - accuracy: 0.8824 - val_loss: 0.2963 - val_accuracy: 0.9000\n",
      "Epoch 222/1000\n",
      "43/43 [==============================] - 0s 2ms/step - loss: 0.3205 - accuracy: 0.8794 - val_loss: 0.2963 - val_accuracy: 0.9000\n",
      "Epoch 223/1000\n",
      "43/43 [==============================] - 0s 2ms/step - loss: 0.3204 - accuracy: 0.8779 - val_loss: 0.2960 - val_accuracy: 0.9000\n",
      "Epoch 224/1000\n",
      "43/43 [==============================] - 0s 2ms/step - loss: 0.3198 - accuracy: 0.8809 - val_loss: 0.2959 - val_accuracy: 0.9000\n",
      "Epoch 225/1000\n",
      "43/43 [==============================] - 0s 2ms/step - loss: 0.3200 - accuracy: 0.8765 - val_loss: 0.2959 - val_accuracy: 0.9000\n",
      "Epoch 226/1000\n",
      "43/43 [==============================] - 0s 2ms/step - loss: 0.3200 - accuracy: 0.8794 - val_loss: 0.2964 - val_accuracy: 0.9000\n",
      "Epoch 227/1000\n",
      "43/43 [==============================] - 0s 2ms/step - loss: 0.3200 - accuracy: 0.8794 - val_loss: 0.2960 - val_accuracy: 0.9000\n",
      "Epoch 228/1000\n",
      "43/43 [==============================] - 0s 2ms/step - loss: 0.3198 - accuracy: 0.8779 - val_loss: 0.2961 - val_accuracy: 0.9000\n",
      "Epoch 229/1000\n",
      "43/43 [==============================] - 0s 2ms/step - loss: 0.3195 - accuracy: 0.8779 - val_loss: 0.2963 - val_accuracy: 0.8941\n",
      "Epoch 230/1000\n",
      "43/43 [==============================] - 0s 2ms/step - loss: 0.3197 - accuracy: 0.8824 - val_loss: 0.2958 - val_accuracy: 0.9000\n",
      "Epoch 231/1000\n",
      "43/43 [==============================] - 0s 2ms/step - loss: 0.3195 - accuracy: 0.8809 - val_loss: 0.2959 - val_accuracy: 0.9000\n",
      "Epoch 232/1000\n",
      "43/43 [==============================] - 0s 2ms/step - loss: 0.3195 - accuracy: 0.8809 - val_loss: 0.2960 - val_accuracy: 0.9000\n",
      "Epoch 233/1000\n",
      "43/43 [==============================] - 0s 2ms/step - loss: 0.3193 - accuracy: 0.8809 - val_loss: 0.2957 - val_accuracy: 0.9000\n",
      "Epoch 234/1000\n",
      "43/43 [==============================] - 0s 2ms/step - loss: 0.3195 - accuracy: 0.8779 - val_loss: 0.2953 - val_accuracy: 0.9000\n",
      "Epoch 235/1000\n",
      "43/43 [==============================] - 0s 2ms/step - loss: 0.3194 - accuracy: 0.8794 - val_loss: 0.2953 - val_accuracy: 0.9000\n",
      "Epoch 236/1000\n",
      "43/43 [==============================] - 0s 2ms/step - loss: 0.3193 - accuracy: 0.8824 - val_loss: 0.2955 - val_accuracy: 0.9000\n",
      "Epoch 237/1000\n",
      "43/43 [==============================] - 0s 2ms/step - loss: 0.3195 - accuracy: 0.8809 - val_loss: 0.2951 - val_accuracy: 0.9000\n",
      "Epoch 238/1000\n",
      "43/43 [==============================] - 0s 2ms/step - loss: 0.3191 - accuracy: 0.8809 - val_loss: 0.2951 - val_accuracy: 0.9000\n",
      "Epoch 239/1000\n",
      "43/43 [==============================] - 0s 2ms/step - loss: 0.3191 - accuracy: 0.8809 - val_loss: 0.2953 - val_accuracy: 0.9000\n",
      "Epoch 240/1000\n",
      "43/43 [==============================] - 0s 2ms/step - loss: 0.3191 - accuracy: 0.8809 - val_loss: 0.2952 - val_accuracy: 0.9000\n",
      "Epoch 241/1000\n",
      "43/43 [==============================] - 0s 3ms/step - loss: 0.3189 - accuracy: 0.8809 - val_loss: 0.2950 - val_accuracy: 0.9000\n",
      "Epoch 242/1000\n",
      "43/43 [==============================] - 0s 3ms/step - loss: 0.3189 - accuracy: 0.8824 - val_loss: 0.2948 - val_accuracy: 0.9000\n",
      "Epoch 243/1000\n",
      "43/43 [==============================] - 0s 2ms/step - loss: 0.3190 - accuracy: 0.8824 - val_loss: 0.2950 - val_accuracy: 0.9000\n",
      "Epoch 244/1000\n",
      "43/43 [==============================] - 0s 3ms/step - loss: 0.3189 - accuracy: 0.8794 - val_loss: 0.2948 - val_accuracy: 0.9000\n",
      "Epoch 245/1000\n",
      "43/43 [==============================] - 0s 4ms/step - loss: 0.3190 - accuracy: 0.8824 - val_loss: 0.2951 - val_accuracy: 0.9000\n",
      "Epoch 246/1000\n",
      "43/43 [==============================] - 0s 3ms/step - loss: 0.3187 - accuracy: 0.8809 - val_loss: 0.2949 - val_accuracy: 0.9000\n",
      "Epoch 247/1000\n",
      "43/43 [==============================] - 0s 3ms/step - loss: 0.3191 - accuracy: 0.8809 - val_loss: 0.2948 - val_accuracy: 0.9000\n",
      "Epoch 248/1000\n",
      "43/43 [==============================] - 0s 3ms/step - loss: 0.3188 - accuracy: 0.8809 - val_loss: 0.2947 - val_accuracy: 0.9000\n",
      "Epoch 249/1000\n",
      "43/43 [==============================] - 0s 4ms/step - loss: 0.3188 - accuracy: 0.8809 - val_loss: 0.2948 - val_accuracy: 0.9000\n",
      "Epoch 250/1000\n",
      "43/43 [==============================] - 0s 3ms/step - loss: 0.3188 - accuracy: 0.8809 - val_loss: 0.2943 - val_accuracy: 0.9000\n",
      "Epoch 251/1000\n",
      "43/43 [==============================] - 0s 2ms/step - loss: 0.3185 - accuracy: 0.8809 - val_loss: 0.2948 - val_accuracy: 0.9000\n",
      "Epoch 252/1000\n",
      "43/43 [==============================] - 0s 3ms/step - loss: 0.3184 - accuracy: 0.8809 - val_loss: 0.2943 - val_accuracy: 0.9000\n",
      "Epoch 253/1000\n",
      "43/43 [==============================] - 0s 3ms/step - loss: 0.3184 - accuracy: 0.8809 - val_loss: 0.2945 - val_accuracy: 0.9000\n",
      "Epoch 254/1000\n",
      "43/43 [==============================] - 0s 3ms/step - loss: 0.3183 - accuracy: 0.8809 - val_loss: 0.2946 - val_accuracy: 0.9000\n",
      "Epoch 255/1000\n",
      "43/43 [==============================] - 0s 3ms/step - loss: 0.3182 - accuracy: 0.8809 - val_loss: 0.2942 - val_accuracy: 0.9000\n",
      "Epoch 256/1000\n",
      "43/43 [==============================] - 0s 3ms/step - loss: 0.3181 - accuracy: 0.8809 - val_loss: 0.2943 - val_accuracy: 0.9000\n",
      "Epoch 257/1000\n",
      "43/43 [==============================] - 0s 3ms/step - loss: 0.3182 - accuracy: 0.8809 - val_loss: 0.2942 - val_accuracy: 0.9000\n",
      "Epoch 258/1000\n",
      "43/43 [==============================] - 0s 3ms/step - loss: 0.3180 - accuracy: 0.8809 - val_loss: 0.2942 - val_accuracy: 0.9000\n",
      "Epoch 259/1000\n",
      "43/43 [==============================] - 0s 3ms/step - loss: 0.3181 - accuracy: 0.8794 - val_loss: 0.2943 - val_accuracy: 0.9000\n",
      "Epoch 260/1000\n",
      "43/43 [==============================] - 0s 3ms/step - loss: 0.3180 - accuracy: 0.8779 - val_loss: 0.2939 - val_accuracy: 0.9000\n",
      "Epoch 261/1000\n",
      "43/43 [==============================] - 0s 3ms/step - loss: 0.3181 - accuracy: 0.8794 - val_loss: 0.2940 - val_accuracy: 0.9000\n",
      "Epoch 262/1000\n",
      "43/43 [==============================] - 0s 3ms/step - loss: 0.3179 - accuracy: 0.8779 - val_loss: 0.2939 - val_accuracy: 0.9000\n",
      "Epoch 263/1000\n",
      "43/43 [==============================] - 0s 3ms/step - loss: 0.3180 - accuracy: 0.8794 - val_loss: 0.2939 - val_accuracy: 0.9000\n",
      "Epoch 264/1000\n",
      "43/43 [==============================] - 0s 3ms/step - loss: 0.3177 - accuracy: 0.8809 - val_loss: 0.2936 - val_accuracy: 0.9000\n",
      "Epoch 265/1000\n",
      "43/43 [==============================] - 0s 3ms/step - loss: 0.3176 - accuracy: 0.8794 - val_loss: 0.2940 - val_accuracy: 0.9000\n",
      "Epoch 266/1000\n",
      "43/43 [==============================] - 0s 3ms/step - loss: 0.3176 - accuracy: 0.8794 - val_loss: 0.2939 - val_accuracy: 0.9000\n",
      "Epoch 267/1000\n",
      "43/43 [==============================] - 0s 2ms/step - loss: 0.3176 - accuracy: 0.8794 - val_loss: 0.2939 - val_accuracy: 0.9000\n",
      "Epoch 268/1000\n",
      "43/43 [==============================] - 0s 2ms/step - loss: 0.3177 - accuracy: 0.8779 - val_loss: 0.2939 - val_accuracy: 0.9000\n",
      "Epoch 269/1000\n",
      "43/43 [==============================] - 0s 3ms/step - loss: 0.3175 - accuracy: 0.8779 - val_loss: 0.2939 - val_accuracy: 0.9000\n",
      "Epoch 270/1000\n",
      "43/43 [==============================] - 0s 2ms/step - loss: 0.3176 - accuracy: 0.8824 - val_loss: 0.2937 - val_accuracy: 0.9000\n",
      "Epoch 271/1000\n",
      "43/43 [==============================] - 0s 3ms/step - loss: 0.3175 - accuracy: 0.8794 - val_loss: 0.2937 - val_accuracy: 0.9000\n",
      "Epoch 272/1000\n",
      "43/43 [==============================] - 0s 3ms/step - loss: 0.3174 - accuracy: 0.8779 - val_loss: 0.2937 - val_accuracy: 0.9000\n",
      "Epoch 273/1000\n",
      "43/43 [==============================] - 0s 3ms/step - loss: 0.3174 - accuracy: 0.8794 - val_loss: 0.2937 - val_accuracy: 0.9000\n",
      "Epoch 274/1000\n",
      "43/43 [==============================] - 0s 3ms/step - loss: 0.3179 - accuracy: 0.8765 - val_loss: 0.2933 - val_accuracy: 0.9000\n",
      "Epoch 275/1000\n",
      "43/43 [==============================] - 0s 2ms/step - loss: 0.3176 - accuracy: 0.8779 - val_loss: 0.2937 - val_accuracy: 0.9000\n",
      "Epoch 276/1000\n",
      "43/43 [==============================] - 0s 3ms/step - loss: 0.3173 - accuracy: 0.8779 - val_loss: 0.2933 - val_accuracy: 0.9000\n",
      "Epoch 277/1000\n",
      "43/43 [==============================] - 0s 3ms/step - loss: 0.3171 - accuracy: 0.8779 - val_loss: 0.2934 - val_accuracy: 0.9000\n",
      "Epoch 278/1000\n",
      "43/43 [==============================] - 0s 3ms/step - loss: 0.3172 - accuracy: 0.8779 - val_loss: 0.2936 - val_accuracy: 0.9000\n",
      "Epoch 279/1000\n",
      "43/43 [==============================] - 0s 3ms/step - loss: 0.3171 - accuracy: 0.8779 - val_loss: 0.2935 - val_accuracy: 0.9000\n",
      "Epoch 280/1000\n",
      "43/43 [==============================] - 0s 3ms/step - loss: 0.3173 - accuracy: 0.8794 - val_loss: 0.2933 - val_accuracy: 0.9000\n",
      "Epoch 281/1000\n",
      "43/43 [==============================] - 0s 3ms/step - loss: 0.3170 - accuracy: 0.8765 - val_loss: 0.2935 - val_accuracy: 0.9000\n",
      "Epoch 282/1000\n",
      "43/43 [==============================] - 0s 3ms/step - loss: 0.3171 - accuracy: 0.8794 - val_loss: 0.2935 - val_accuracy: 0.9000\n",
      "Epoch 283/1000\n",
      "43/43 [==============================] - 0s 3ms/step - loss: 0.3170 - accuracy: 0.8794 - val_loss: 0.2932 - val_accuracy: 0.9000\n",
      "Epoch 284/1000\n",
      "43/43 [==============================] - 0s 3ms/step - loss: 0.3168 - accuracy: 0.8779 - val_loss: 0.2935 - val_accuracy: 0.9000\n",
      "Epoch 285/1000\n",
      "43/43 [==============================] - 0s 3ms/step - loss: 0.3167 - accuracy: 0.8779 - val_loss: 0.2933 - val_accuracy: 0.9000\n",
      "Epoch 286/1000\n",
      "43/43 [==============================] - 0s 3ms/step - loss: 0.3170 - accuracy: 0.8794 - val_loss: 0.2932 - val_accuracy: 0.9000\n",
      "Epoch 287/1000\n",
      "43/43 [==============================] - 0s 3ms/step - loss: 0.3167 - accuracy: 0.8779 - val_loss: 0.2930 - val_accuracy: 0.9000\n",
      "Epoch 288/1000\n",
      "43/43 [==============================] - 0s 3ms/step - loss: 0.3168 - accuracy: 0.8779 - val_loss: 0.2930 - val_accuracy: 0.9000\n",
      "Epoch 289/1000\n",
      "43/43 [==============================] - 0s 3ms/step - loss: 0.3167 - accuracy: 0.8765 - val_loss: 0.2931 - val_accuracy: 0.9000\n",
      "Epoch 290/1000\n",
      "43/43 [==============================] - 0s 3ms/step - loss: 0.3166 - accuracy: 0.8779 - val_loss: 0.2928 - val_accuracy: 0.9000\n",
      "Epoch 291/1000\n",
      "43/43 [==============================] - 0s 3ms/step - loss: 0.3166 - accuracy: 0.8779 - val_loss: 0.2927 - val_accuracy: 0.9000\n",
      "Epoch 292/1000\n",
      "43/43 [==============================] - 0s 3ms/step - loss: 0.3170 - accuracy: 0.8794 - val_loss: 0.2929 - val_accuracy: 0.9000\n",
      "Epoch 293/1000\n",
      "43/43 [==============================] - 0s 3ms/step - loss: 0.3167 - accuracy: 0.8779 - val_loss: 0.2930 - val_accuracy: 0.8941\n",
      "Epoch 294/1000\n",
      "43/43 [==============================] - 0s 3ms/step - loss: 0.3166 - accuracy: 0.8809 - val_loss: 0.2929 - val_accuracy: 0.9000\n",
      "Epoch 295/1000\n",
      "43/43 [==============================] - 0s 3ms/step - loss: 0.3165 - accuracy: 0.8794 - val_loss: 0.2925 - val_accuracy: 0.9000\n",
      "Epoch 296/1000\n",
      "43/43 [==============================] - 0s 2ms/step - loss: 0.3166 - accuracy: 0.8779 - val_loss: 0.2927 - val_accuracy: 0.9000\n",
      "Epoch 297/1000\n",
      "43/43 [==============================] - 0s 2ms/step - loss: 0.3164 - accuracy: 0.8779 - val_loss: 0.2926 - val_accuracy: 0.9000\n",
      "Epoch 298/1000\n",
      "43/43 [==============================] - 0s 3ms/step - loss: 0.3163 - accuracy: 0.8779 - val_loss: 0.2929 - val_accuracy: 0.9000\n",
      "Epoch 299/1000\n",
      "43/43 [==============================] - 0s 3ms/step - loss: 0.3161 - accuracy: 0.8779 - val_loss: 0.2928 - val_accuracy: 0.9000\n",
      "Epoch 300/1000\n",
      "43/43 [==============================] - 0s 3ms/step - loss: 0.3162 - accuracy: 0.8779 - val_loss: 0.2925 - val_accuracy: 0.9000\n",
      "Epoch 301/1000\n",
      "43/43 [==============================] - 0s 3ms/step - loss: 0.3162 - accuracy: 0.8779 - val_loss: 0.2925 - val_accuracy: 0.9000\n",
      "Epoch 302/1000\n",
      "43/43 [==============================] - 0s 3ms/step - loss: 0.3167 - accuracy: 0.8779 - val_loss: 0.2925 - val_accuracy: 0.9000\n",
      "Epoch 303/1000\n",
      "43/43 [==============================] - 0s 2ms/step - loss: 0.3160 - accuracy: 0.8794 - val_loss: 0.2926 - val_accuracy: 0.9000\n",
      "Epoch 304/1000\n",
      "43/43 [==============================] - 0s 2ms/step - loss: 0.3160 - accuracy: 0.8779 - val_loss: 0.2928 - val_accuracy: 0.9000\n",
      "Epoch 305/1000\n",
      "43/43 [==============================] - 0s 2ms/step - loss: 0.3168 - accuracy: 0.8735 - val_loss: 0.2931 - val_accuracy: 0.9000\n",
      "Epoch 306/1000\n",
      "43/43 [==============================] - 0s 2ms/step - loss: 0.3163 - accuracy: 0.8794 - val_loss: 0.2924 - val_accuracy: 0.9000\n",
      "Epoch 307/1000\n",
      "43/43 [==============================] - 0s 2ms/step - loss: 0.3157 - accuracy: 0.8794 - val_loss: 0.2927 - val_accuracy: 0.9000\n",
      "Epoch 308/1000\n",
      "43/43 [==============================] - 0s 2ms/step - loss: 0.3161 - accuracy: 0.8794 - val_loss: 0.2927 - val_accuracy: 0.8941\n",
      "Epoch 309/1000\n",
      "43/43 [==============================] - 0s 3ms/step - loss: 0.3159 - accuracy: 0.8779 - val_loss: 0.2926 - val_accuracy: 0.9000\n",
      "Epoch 310/1000\n",
      "43/43 [==============================] - 0s 2ms/step - loss: 0.3157 - accuracy: 0.8779 - val_loss: 0.2927 - val_accuracy: 0.9000\n",
      "Epoch 311/1000\n",
      "43/43 [==============================] - 0s 2ms/step - loss: 0.3160 - accuracy: 0.8794 - val_loss: 0.2926 - val_accuracy: 0.9000\n",
      "Epoch 312/1000\n",
      "43/43 [==============================] - 0s 2ms/step - loss: 0.3156 - accuracy: 0.8779 - val_loss: 0.2924 - val_accuracy: 0.9000\n",
      "Epoch 313/1000\n",
      "43/43 [==============================] - 0s 2ms/step - loss: 0.3158 - accuracy: 0.8779 - val_loss: 0.2927 - val_accuracy: 0.9000\n",
      "Epoch 314/1000\n",
      "43/43 [==============================] - 0s 2ms/step - loss: 0.3157 - accuracy: 0.8794 - val_loss: 0.2928 - val_accuracy: 0.8941\n",
      "Epoch 315/1000\n",
      "43/43 [==============================] - 0s 2ms/step - loss: 0.3156 - accuracy: 0.8765 - val_loss: 0.2926 - val_accuracy: 0.9000\n",
      "Epoch 316/1000\n",
      "43/43 [==============================] - 0s 2ms/step - loss: 0.3156 - accuracy: 0.8765 - val_loss: 0.2924 - val_accuracy: 0.9000\n",
      "Epoch 317/1000\n",
      "43/43 [==============================] - 0s 2ms/step - loss: 0.3156 - accuracy: 0.8779 - val_loss: 0.2924 - val_accuracy: 0.9000\n",
      "Epoch 318/1000\n",
      "43/43 [==============================] - 0s 2ms/step - loss: 0.3155 - accuracy: 0.8779 - val_loss: 0.2926 - val_accuracy: 0.9000\n",
      "Epoch 319/1000\n",
      "43/43 [==============================] - 0s 2ms/step - loss: 0.3154 - accuracy: 0.8779 - val_loss: 0.2922 - val_accuracy: 0.9000\n",
      "Epoch 320/1000\n",
      "43/43 [==============================] - 0s 3ms/step - loss: 0.3159 - accuracy: 0.8794 - val_loss: 0.2922 - val_accuracy: 0.9000\n",
      "Epoch 321/1000\n",
      "43/43 [==============================] - 0s 2ms/step - loss: 0.3154 - accuracy: 0.8765 - val_loss: 0.2924 - val_accuracy: 0.9000\n",
      "Epoch 322/1000\n",
      "43/43 [==============================] - 0s 2ms/step - loss: 0.3154 - accuracy: 0.8779 - val_loss: 0.2926 - val_accuracy: 0.8941\n",
      "Epoch 323/1000\n",
      "43/43 [==============================] - 0s 2ms/step - loss: 0.3155 - accuracy: 0.8765 - val_loss: 0.2923 - val_accuracy: 0.9000\n",
      "Epoch 324/1000\n",
      "43/43 [==============================] - 0s 2ms/step - loss: 0.3154 - accuracy: 0.8779 - val_loss: 0.2920 - val_accuracy: 0.9000\n",
      "Epoch 325/1000\n",
      "43/43 [==============================] - 0s 2ms/step - loss: 0.3153 - accuracy: 0.8779 - val_loss: 0.2923 - val_accuracy: 0.8941\n",
      "Epoch 326/1000\n",
      "43/43 [==============================] - 0s 2ms/step - loss: 0.3155 - accuracy: 0.8794 - val_loss: 0.2922 - val_accuracy: 0.9000\n",
      "Epoch 327/1000\n",
      "43/43 [==============================] - 0s 3ms/step - loss: 0.3152 - accuracy: 0.8779 - val_loss: 0.2922 - val_accuracy: 0.9000\n",
      "Epoch 328/1000\n",
      "43/43 [==============================] - 0s 3ms/step - loss: 0.3151 - accuracy: 0.8765 - val_loss: 0.2925 - val_accuracy: 0.9000\n",
      "Epoch 329/1000\n",
      "43/43 [==============================] - 0s 2ms/step - loss: 0.3151 - accuracy: 0.8779 - val_loss: 0.2922 - val_accuracy: 0.9000\n",
      "Epoch 330/1000\n",
      "43/43 [==============================] - 0s 3ms/step - loss: 0.3150 - accuracy: 0.8765 - val_loss: 0.2923 - val_accuracy: 0.8941\n",
      "Epoch 331/1000\n",
      "43/43 [==============================] - 0s 2ms/step - loss: 0.3153 - accuracy: 0.8779 - val_loss: 0.2921 - val_accuracy: 0.9000\n",
      "Epoch 332/1000\n",
      "43/43 [==============================] - 0s 2ms/step - loss: 0.3152 - accuracy: 0.8765 - val_loss: 0.2925 - val_accuracy: 0.9000\n",
      "Epoch 333/1000\n",
      "43/43 [==============================] - 0s 3ms/step - loss: 0.3149 - accuracy: 0.8794 - val_loss: 0.2921 - val_accuracy: 0.9000\n",
      "Epoch 334/1000\n",
      "43/43 [==============================] - 0s 2ms/step - loss: 0.3150 - accuracy: 0.8794 - val_loss: 0.2922 - val_accuracy: 0.9000\n",
      "Epoch 335/1000\n",
      "43/43 [==============================] - 0s 2ms/step - loss: 0.3149 - accuracy: 0.8779 - val_loss: 0.2922 - val_accuracy: 0.8941\n",
      "Epoch 336/1000\n",
      "43/43 [==============================] - 0s 2ms/step - loss: 0.3149 - accuracy: 0.8779 - val_loss: 0.2920 - val_accuracy: 0.9000\n",
      "Epoch 337/1000\n",
      "43/43 [==============================] - 0s 2ms/step - loss: 0.3151 - accuracy: 0.8765 - val_loss: 0.2923 - val_accuracy: 0.9000\n",
      "Epoch 338/1000\n",
      "43/43 [==============================] - 0s 2ms/step - loss: 0.3148 - accuracy: 0.8779 - val_loss: 0.2919 - val_accuracy: 0.9000\n",
      "Epoch 339/1000\n",
      "43/43 [==============================] - 0s 2ms/step - loss: 0.3151 - accuracy: 0.8779 - val_loss: 0.2920 - val_accuracy: 0.8941\n",
      "Epoch 340/1000\n",
      "43/43 [==============================] - 0s 2ms/step - loss: 0.3155 - accuracy: 0.8794 - val_loss: 0.2921 - val_accuracy: 0.9000\n",
      "Epoch 341/1000\n",
      "43/43 [==============================] - 0s 2ms/step - loss: 0.3148 - accuracy: 0.8750 - val_loss: 0.2921 - val_accuracy: 0.9000\n",
      "Epoch 342/1000\n",
      "43/43 [==============================] - 0s 3ms/step - loss: 0.3149 - accuracy: 0.8765 - val_loss: 0.2920 - val_accuracy: 0.9000\n",
      "Epoch 343/1000\n",
      "43/43 [==============================] - 0s 2ms/step - loss: 0.3147 - accuracy: 0.8765 - val_loss: 0.2922 - val_accuracy: 0.9000\n",
      "Epoch 344/1000\n",
      "43/43 [==============================] - 0s 2ms/step - loss: 0.3146 - accuracy: 0.8750 - val_loss: 0.2920 - val_accuracy: 0.9000\n",
      "Epoch 345/1000\n",
      "43/43 [==============================] - 0s 3ms/step - loss: 0.3145 - accuracy: 0.8765 - val_loss: 0.2916 - val_accuracy: 0.9000\n",
      "Epoch 346/1000\n",
      "43/43 [==============================] - 0s 2ms/step - loss: 0.3146 - accuracy: 0.8765 - val_loss: 0.2921 - val_accuracy: 0.9000\n",
      "Epoch 347/1000\n",
      "43/43 [==============================] - 0s 2ms/step - loss: 0.3146 - accuracy: 0.8765 - val_loss: 0.2918 - val_accuracy: 0.9000\n",
      "Epoch 348/1000\n",
      "43/43 [==============================] - 0s 2ms/step - loss: 0.3145 - accuracy: 0.8765 - val_loss: 0.2918 - val_accuracy: 0.9000\n",
      "Epoch 349/1000\n",
      "43/43 [==============================] - 0s 2ms/step - loss: 0.3145 - accuracy: 0.8765 - val_loss: 0.2916 - val_accuracy: 0.9000\n",
      "Epoch 350/1000\n",
      "43/43 [==============================] - 0s 2ms/step - loss: 0.3145 - accuracy: 0.8765 - val_loss: 0.2918 - val_accuracy: 0.9000\n",
      "Epoch 351/1000\n",
      "43/43 [==============================] - 0s 2ms/step - loss: 0.3144 - accuracy: 0.8765 - val_loss: 0.2919 - val_accuracy: 0.9000\n",
      "Epoch 352/1000\n",
      "43/43 [==============================] - 0s 2ms/step - loss: 0.3145 - accuracy: 0.8750 - val_loss: 0.2916 - val_accuracy: 0.9000\n",
      "Epoch 353/1000\n",
      "43/43 [==============================] - 0s 2ms/step - loss: 0.3144 - accuracy: 0.8794 - val_loss: 0.2919 - val_accuracy: 0.9000\n",
      "Epoch 354/1000\n",
      "43/43 [==============================] - 0s 2ms/step - loss: 0.3145 - accuracy: 0.8779 - val_loss: 0.2919 - val_accuracy: 0.9000\n",
      "Epoch 355/1000\n",
      "43/43 [==============================] - 0s 2ms/step - loss: 0.3145 - accuracy: 0.8794 - val_loss: 0.2915 - val_accuracy: 0.9000\n",
      "Epoch 356/1000\n",
      "43/43 [==============================] - 0s 2ms/step - loss: 0.3149 - accuracy: 0.8750 - val_loss: 0.2920 - val_accuracy: 0.9000\n",
      "Epoch 357/1000\n",
      "43/43 [==============================] - 0s 2ms/step - loss: 0.3141 - accuracy: 0.8765 - val_loss: 0.2916 - val_accuracy: 0.9000\n",
      "Epoch 358/1000\n",
      "43/43 [==============================] - 0s 2ms/step - loss: 0.3147 - accuracy: 0.8765 - val_loss: 0.2914 - val_accuracy: 0.9000\n",
      "Epoch 359/1000\n",
      "43/43 [==============================] - 0s 2ms/step - loss: 0.3145 - accuracy: 0.8765 - val_loss: 0.2916 - val_accuracy: 0.9000\n",
      "Epoch 360/1000\n",
      "43/43 [==============================] - 0s 2ms/step - loss: 0.3140 - accuracy: 0.8765 - val_loss: 0.2916 - val_accuracy: 0.9059\n",
      "Epoch 361/1000\n",
      "43/43 [==============================] - 0s 2ms/step - loss: 0.3142 - accuracy: 0.8765 - val_loss: 0.2917 - val_accuracy: 0.9000\n",
      "Epoch 362/1000\n",
      "43/43 [==============================] - 0s 2ms/step - loss: 0.3147 - accuracy: 0.8779 - val_loss: 0.2914 - val_accuracy: 0.9000\n",
      "Epoch 363/1000\n",
      "43/43 [==============================] - 0s 2ms/step - loss: 0.3141 - accuracy: 0.8765 - val_loss: 0.2914 - val_accuracy: 0.9000\n",
      "Epoch 364/1000\n",
      "43/43 [==============================] - 0s 3ms/step - loss: 0.3142 - accuracy: 0.8779 - val_loss: 0.2913 - val_accuracy: 0.9000\n",
      "Epoch 365/1000\n",
      "43/43 [==============================] - 0s 2ms/step - loss: 0.3141 - accuracy: 0.8765 - val_loss: 0.2915 - val_accuracy: 0.9000\n",
      "Epoch 366/1000\n",
      "43/43 [==============================] - 0s 3ms/step - loss: 0.3140 - accuracy: 0.8765 - val_loss: 0.2916 - val_accuracy: 0.9000\n",
      "Epoch 367/1000\n",
      "43/43 [==============================] - 0s 3ms/step - loss: 0.3141 - accuracy: 0.8779 - val_loss: 0.2913 - val_accuracy: 0.9059\n",
      "Epoch 368/1000\n",
      "43/43 [==============================] - 0s 2ms/step - loss: 0.3145 - accuracy: 0.8765 - val_loss: 0.2917 - val_accuracy: 0.9000\n",
      "Epoch 369/1000\n",
      "43/43 [==============================] - 0s 2ms/step - loss: 0.3140 - accuracy: 0.8779 - val_loss: 0.2915 - val_accuracy: 0.8941\n",
      "Epoch 370/1000\n",
      "43/43 [==============================] - 0s 2ms/step - loss: 0.3139 - accuracy: 0.8765 - val_loss: 0.2913 - val_accuracy: 0.9000\n",
      "Epoch 371/1000\n",
      "43/43 [==============================] - 0s 2ms/step - loss: 0.3138 - accuracy: 0.8779 - val_loss: 0.2912 - val_accuracy: 0.9000\n",
      "Epoch 372/1000\n",
      "43/43 [==============================] - 0s 2ms/step - loss: 0.3139 - accuracy: 0.8794 - val_loss: 0.2911 - val_accuracy: 0.9000\n",
      "Epoch 373/1000\n",
      "43/43 [==============================] - 0s 2ms/step - loss: 0.3138 - accuracy: 0.8779 - val_loss: 0.2913 - val_accuracy: 0.9000\n",
      "Epoch 374/1000\n",
      "43/43 [==============================] - 0s 2ms/step - loss: 0.3139 - accuracy: 0.8765 - val_loss: 0.2910 - val_accuracy: 0.9000\n",
      "Epoch 375/1000\n",
      "43/43 [==============================] - 0s 2ms/step - loss: 0.3142 - accuracy: 0.8765 - val_loss: 0.2915 - val_accuracy: 0.9000\n",
      "Epoch 376/1000\n",
      "43/43 [==============================] - 0s 2ms/step - loss: 0.3137 - accuracy: 0.8750 - val_loss: 0.2913 - val_accuracy: 0.9000\n",
      "Epoch 377/1000\n",
      "43/43 [==============================] - 0s 2ms/step - loss: 0.3137 - accuracy: 0.8779 - val_loss: 0.2912 - val_accuracy: 0.9000\n",
      "Epoch 378/1000\n",
      "43/43 [==============================] - 0s 2ms/step - loss: 0.3136 - accuracy: 0.8765 - val_loss: 0.2910 - val_accuracy: 0.9000\n",
      "Epoch 379/1000\n",
      "43/43 [==============================] - 0s 2ms/step - loss: 0.3137 - accuracy: 0.8779 - val_loss: 0.2909 - val_accuracy: 0.9000\n",
      "Epoch 380/1000\n",
      "43/43 [==============================] - 0s 2ms/step - loss: 0.3136 - accuracy: 0.8794 - val_loss: 0.2912 - val_accuracy: 0.9000\n",
      "Epoch 381/1000\n",
      "43/43 [==============================] - 0s 2ms/step - loss: 0.3135 - accuracy: 0.8779 - val_loss: 0.2913 - val_accuracy: 0.8941\n",
      "Epoch 382/1000\n",
      "43/43 [==============================] - 0s 2ms/step - loss: 0.3136 - accuracy: 0.8765 - val_loss: 0.2909 - val_accuracy: 0.9000\n",
      "Epoch 383/1000\n",
      "43/43 [==============================] - 0s 2ms/step - loss: 0.3136 - accuracy: 0.8765 - val_loss: 0.2913 - val_accuracy: 0.9000\n",
      "Epoch 384/1000\n",
      "43/43 [==============================] - 0s 2ms/step - loss: 0.3135 - accuracy: 0.8765 - val_loss: 0.2911 - val_accuracy: 0.9000\n",
      "Epoch 385/1000\n",
      "43/43 [==============================] - 0s 3ms/step - loss: 0.3136 - accuracy: 0.8765 - val_loss: 0.2911 - val_accuracy: 0.9000\n",
      "Epoch 386/1000\n",
      "43/43 [==============================] - 0s 3ms/step - loss: 0.3135 - accuracy: 0.8779 - val_loss: 0.2912 - val_accuracy: 0.9000\n",
      "Epoch 387/1000\n",
      "43/43 [==============================] - 0s 2ms/step - loss: 0.3135 - accuracy: 0.8765 - val_loss: 0.2912 - val_accuracy: 0.8941\n",
      "Epoch 388/1000\n",
      "43/43 [==============================] - 0s 3ms/step - loss: 0.3138 - accuracy: 0.8794 - val_loss: 0.2910 - val_accuracy: 0.9000\n",
      "Epoch 389/1000\n",
      "43/43 [==============================] - 0s 2ms/step - loss: 0.3134 - accuracy: 0.8750 - val_loss: 0.2909 - val_accuracy: 0.9000\n",
      "Epoch 390/1000\n",
      "43/43 [==============================] - 0s 3ms/step - loss: 0.3133 - accuracy: 0.8765 - val_loss: 0.2909 - val_accuracy: 0.9000\n",
      "Epoch 391/1000\n",
      "43/43 [==============================] - 0s 3ms/step - loss: 0.3134 - accuracy: 0.8765 - val_loss: 0.2909 - val_accuracy: 0.9000\n",
      "Epoch 392/1000\n",
      "43/43 [==============================] - 0s 3ms/step - loss: 0.3133 - accuracy: 0.8779 - val_loss: 0.2909 - val_accuracy: 0.9000\n",
      "Epoch 393/1000\n",
      "43/43 [==============================] - 0s 3ms/step - loss: 0.3132 - accuracy: 0.8765 - val_loss: 0.2907 - val_accuracy: 0.9000\n",
      "Epoch 394/1000\n",
      "43/43 [==============================] - 0s 3ms/step - loss: 0.3132 - accuracy: 0.8765 - val_loss: 0.2909 - val_accuracy: 0.9000\n",
      "Epoch 395/1000\n",
      "43/43 [==============================] - 0s 3ms/step - loss: 0.3132 - accuracy: 0.8765 - val_loss: 0.2906 - val_accuracy: 0.9000\n",
      "Epoch 396/1000\n",
      "43/43 [==============================] - 0s 3ms/step - loss: 0.3135 - accuracy: 0.8765 - val_loss: 0.2909 - val_accuracy: 0.9000\n",
      "Epoch 397/1000\n",
      "43/43 [==============================] - 0s 3ms/step - loss: 0.3132 - accuracy: 0.8779 - val_loss: 0.2906 - val_accuracy: 0.9000\n",
      "Epoch 398/1000\n",
      "43/43 [==============================] - 0s 3ms/step - loss: 0.3132 - accuracy: 0.8779 - val_loss: 0.2906 - val_accuracy: 0.9000\n",
      "Epoch 399/1000\n",
      "43/43 [==============================] - 0s 3ms/step - loss: 0.3130 - accuracy: 0.8809 - val_loss: 0.2905 - val_accuracy: 0.9000\n",
      "Epoch 400/1000\n",
      "43/43 [==============================] - 0s 3ms/step - loss: 0.3130 - accuracy: 0.8809 - val_loss: 0.2906 - val_accuracy: 0.9000\n",
      "Epoch 401/1000\n",
      "43/43 [==============================] - 0s 3ms/step - loss: 0.3130 - accuracy: 0.8794 - val_loss: 0.2906 - val_accuracy: 0.9000\n",
      "Epoch 402/1000\n",
      "43/43 [==============================] - 0s 3ms/step - loss: 0.3139 - accuracy: 0.8809 - val_loss: 0.2911 - val_accuracy: 0.9000\n",
      "Epoch 403/1000\n",
      "43/43 [==============================] - 0s 3ms/step - loss: 0.3130 - accuracy: 0.8765 - val_loss: 0.2906 - val_accuracy: 0.9000\n",
      "Epoch 404/1000\n",
      "43/43 [==============================] - 0s 3ms/step - loss: 0.3130 - accuracy: 0.8794 - val_loss: 0.2907 - val_accuracy: 0.9000\n",
      "Epoch 405/1000\n",
      "43/43 [==============================] - 0s 3ms/step - loss: 0.3130 - accuracy: 0.8765 - val_loss: 0.2908 - val_accuracy: 0.9000\n",
      "Epoch 406/1000\n",
      "43/43 [==============================] - 0s 3ms/step - loss: 0.3129 - accuracy: 0.8765 - val_loss: 0.2905 - val_accuracy: 0.9000\n",
      "Epoch 407/1000\n",
      "43/43 [==============================] - 0s 3ms/step - loss: 0.3131 - accuracy: 0.8779 - val_loss: 0.2907 - val_accuracy: 0.9000\n",
      "Epoch 408/1000\n",
      "43/43 [==============================] - 0s 3ms/step - loss: 0.3129 - accuracy: 0.8765 - val_loss: 0.2909 - val_accuracy: 0.9000\n",
      "Epoch 409/1000\n",
      "43/43 [==============================] - 0s 3ms/step - loss: 0.3130 - accuracy: 0.8794 - val_loss: 0.2906 - val_accuracy: 0.8941\n",
      "Epoch 410/1000\n",
      "43/43 [==============================] - 0s 3ms/step - loss: 0.3130 - accuracy: 0.8779 - val_loss: 0.2906 - val_accuracy: 0.9000\n",
      "Epoch 411/1000\n",
      "43/43 [==============================] - 0s 3ms/step - loss: 0.3128 - accuracy: 0.8765 - val_loss: 0.2905 - val_accuracy: 0.8941\n",
      "Epoch 412/1000\n",
      "43/43 [==============================] - 0s 3ms/step - loss: 0.3127 - accuracy: 0.8779 - val_loss: 0.2906 - val_accuracy: 0.8941\n",
      "Epoch 413/1000\n",
      "43/43 [==============================] - 0s 3ms/step - loss: 0.3129 - accuracy: 0.8765 - val_loss: 0.2906 - val_accuracy: 0.9000\n",
      "Epoch 414/1000\n",
      "43/43 [==============================] - 0s 3ms/step - loss: 0.3129 - accuracy: 0.8765 - val_loss: 0.2909 - val_accuracy: 0.9000\n",
      "Epoch 415/1000\n",
      "43/43 [==============================] - 0s 3ms/step - loss: 0.3131 - accuracy: 0.8765 - val_loss: 0.2909 - val_accuracy: 0.9000\n",
      "Epoch 416/1000\n",
      "43/43 [==============================] - 0s 3ms/step - loss: 0.3128 - accuracy: 0.8765 - val_loss: 0.2907 - val_accuracy: 0.9000\n",
      "Epoch 417/1000\n",
      "43/43 [==============================] - 0s 3ms/step - loss: 0.3127 - accuracy: 0.8794 - val_loss: 0.2909 - val_accuracy: 0.9000\n",
      "Epoch 418/1000\n",
      "43/43 [==============================] - 0s 3ms/step - loss: 0.3127 - accuracy: 0.8765 - val_loss: 0.2904 - val_accuracy: 0.9000\n",
      "Epoch 419/1000\n",
      "43/43 [==============================] - 0s 3ms/step - loss: 0.3127 - accuracy: 0.8779 - val_loss: 0.2905 - val_accuracy: 0.9000\n",
      "Epoch 420/1000\n",
      "43/43 [==============================] - 0s 3ms/step - loss: 0.3126 - accuracy: 0.8765 - val_loss: 0.2908 - val_accuracy: 0.9000\n",
      "Epoch 421/1000\n",
      "43/43 [==============================] - 0s 3ms/step - loss: 0.3127 - accuracy: 0.8779 - val_loss: 0.2904 - val_accuracy: 0.8941\n",
      "Epoch 422/1000\n",
      "43/43 [==============================] - 0s 3ms/step - loss: 0.3125 - accuracy: 0.8765 - val_loss: 0.2904 - val_accuracy: 0.8941\n",
      "Epoch 423/1000\n",
      "43/43 [==============================] - 0s 3ms/step - loss: 0.3126 - accuracy: 0.8809 - val_loss: 0.2902 - val_accuracy: 0.9000\n",
      "Epoch 424/1000\n",
      "43/43 [==============================] - 0s 3ms/step - loss: 0.3125 - accuracy: 0.8794 - val_loss: 0.2905 - val_accuracy: 0.9000\n",
      "Epoch 425/1000\n",
      "43/43 [==============================] - 0s 3ms/step - loss: 0.3124 - accuracy: 0.8765 - val_loss: 0.2905 - val_accuracy: 0.9000\n",
      "Epoch 426/1000\n",
      "43/43 [==============================] - 0s 3ms/step - loss: 0.3126 - accuracy: 0.8794 - val_loss: 0.2906 - val_accuracy: 0.9000\n",
      "Epoch 427/1000\n",
      "43/43 [==============================] - 0s 3ms/step - loss: 0.3126 - accuracy: 0.8779 - val_loss: 0.2901 - val_accuracy: 0.9000\n",
      "Epoch 428/1000\n",
      "43/43 [==============================] - 0s 3ms/step - loss: 0.3125 - accuracy: 0.8779 - val_loss: 0.2904 - val_accuracy: 0.8941\n",
      "Epoch 429/1000\n",
      "43/43 [==============================] - 0s 3ms/step - loss: 0.3125 - accuracy: 0.8779 - val_loss: 0.2900 - val_accuracy: 0.9000\n",
      "Epoch 430/1000\n",
      "43/43 [==============================] - 0s 3ms/step - loss: 0.3125 - accuracy: 0.8809 - val_loss: 0.2905 - val_accuracy: 0.9000\n",
      "Epoch 431/1000\n",
      "43/43 [==============================] - 0s 3ms/step - loss: 0.3123 - accuracy: 0.8779 - val_loss: 0.2905 - val_accuracy: 0.9000\n",
      "Epoch 432/1000\n",
      "43/43 [==============================] - 0s 3ms/step - loss: 0.3124 - accuracy: 0.8765 - val_loss: 0.2904 - val_accuracy: 0.9000\n",
      "Epoch 433/1000\n",
      "43/43 [==============================] - 0s 3ms/step - loss: 0.3123 - accuracy: 0.8794 - val_loss: 0.2904 - val_accuracy: 0.9000\n",
      "Epoch 434/1000\n",
      "43/43 [==============================] - 0s 3ms/step - loss: 0.3124 - accuracy: 0.8794 - val_loss: 0.2903 - val_accuracy: 0.8941\n",
      "Epoch 435/1000\n",
      "43/43 [==============================] - 0s 3ms/step - loss: 0.3124 - accuracy: 0.8779 - val_loss: 0.2906 - val_accuracy: 0.9000\n",
      "Epoch 436/1000\n",
      "43/43 [==============================] - 0s 3ms/step - loss: 0.3122 - accuracy: 0.8779 - val_loss: 0.2902 - val_accuracy: 0.8941\n",
      "Epoch 437/1000\n",
      "43/43 [==============================] - 0s 3ms/step - loss: 0.3124 - accuracy: 0.8809 - val_loss: 0.2899 - val_accuracy: 0.9000\n",
      "Epoch 438/1000\n",
      "43/43 [==============================] - 0s 3ms/step - loss: 0.3122 - accuracy: 0.8765 - val_loss: 0.2905 - val_accuracy: 0.9000\n",
      "Epoch 439/1000\n",
      "43/43 [==============================] - 0s 3ms/step - loss: 0.3122 - accuracy: 0.8779 - val_loss: 0.2904 - val_accuracy: 0.9000\n",
      "Epoch 440/1000\n",
      "43/43 [==============================] - 0s 3ms/step - loss: 0.3123 - accuracy: 0.8794 - val_loss: 0.2901 - val_accuracy: 0.9000\n",
      "Epoch 441/1000\n",
      "43/43 [==============================] - 0s 3ms/step - loss: 0.3121 - accuracy: 0.8779 - val_loss: 0.2904 - val_accuracy: 0.9000\n",
      "Epoch 442/1000\n",
      "43/43 [==============================] - 0s 3ms/step - loss: 0.3121 - accuracy: 0.8779 - val_loss: 0.2905 - val_accuracy: 0.9000\n",
      "Epoch 443/1000\n",
      "43/43 [==============================] - 0s 3ms/step - loss: 0.3123 - accuracy: 0.8809 - val_loss: 0.2901 - val_accuracy: 0.9000\n",
      "Epoch 444/1000\n",
      "43/43 [==============================] - 0s 3ms/step - loss: 0.3120 - accuracy: 0.8794 - val_loss: 0.2902 - val_accuracy: 0.9000\n",
      "Epoch 445/1000\n",
      "43/43 [==============================] - 0s 3ms/step - loss: 0.3122 - accuracy: 0.8794 - val_loss: 0.2904 - val_accuracy: 0.9000\n",
      "Epoch 446/1000\n",
      "43/43 [==============================] - 0s 3ms/step - loss: 0.3120 - accuracy: 0.8794 - val_loss: 0.2903 - val_accuracy: 0.9000\n",
      "Epoch 447/1000\n",
      "43/43 [==============================] - 0s 3ms/step - loss: 0.3123 - accuracy: 0.8809 - val_loss: 0.2900 - val_accuracy: 0.9000\n",
      "Epoch 448/1000\n",
      "43/43 [==============================] - 0s 3ms/step - loss: 0.3123 - accuracy: 0.8809 - val_loss: 0.2905 - val_accuracy: 0.9000\n",
      "Epoch 449/1000\n",
      "43/43 [==============================] - 0s 3ms/step - loss: 0.3119 - accuracy: 0.8794 - val_loss: 0.2903 - val_accuracy: 0.8941\n",
      "Epoch 450/1000\n",
      "43/43 [==============================] - 0s 3ms/step - loss: 0.3121 - accuracy: 0.8794 - val_loss: 0.2903 - val_accuracy: 0.9000\n",
      "Epoch 451/1000\n",
      "43/43 [==============================] - 0s 3ms/step - loss: 0.3120 - accuracy: 0.8809 - val_loss: 0.2901 - val_accuracy: 0.9000\n",
      "Epoch 452/1000\n",
      "43/43 [==============================] - 0s 3ms/step - loss: 0.3119 - accuracy: 0.8809 - val_loss: 0.2903 - val_accuracy: 0.8941\n",
      "Epoch 453/1000\n",
      "43/43 [==============================] - 0s 3ms/step - loss: 0.3119 - accuracy: 0.8794 - val_loss: 0.2902 - val_accuracy: 0.8941\n",
      "Epoch 454/1000\n",
      "43/43 [==============================] - 0s 3ms/step - loss: 0.3119 - accuracy: 0.8809 - val_loss: 0.2900 - val_accuracy: 0.9000\n",
      "Epoch 455/1000\n",
      "43/43 [==============================] - 0s 3ms/step - loss: 0.3122 - accuracy: 0.8809 - val_loss: 0.2901 - val_accuracy: 0.8941\n",
      "Epoch 456/1000\n",
      "43/43 [==============================] - 0s 3ms/step - loss: 0.3124 - accuracy: 0.8794 - val_loss: 0.2900 - val_accuracy: 0.9000\n",
      "Epoch 457/1000\n",
      "43/43 [==============================] - 0s 3ms/step - loss: 0.3118 - accuracy: 0.8809 - val_loss: 0.2902 - val_accuracy: 0.9000\n",
      "Epoch 458/1000\n",
      "43/43 [==============================] - 0s 3ms/step - loss: 0.3117 - accuracy: 0.8794 - val_loss: 0.2902 - val_accuracy: 0.9000\n",
      "Epoch 459/1000\n",
      "43/43 [==============================] - 0s 3ms/step - loss: 0.3118 - accuracy: 0.8794 - val_loss: 0.2901 - val_accuracy: 0.9000\n",
      "Epoch 460/1000\n",
      "43/43 [==============================] - 0s 3ms/step - loss: 0.3118 - accuracy: 0.8809 - val_loss: 0.2904 - val_accuracy: 0.9000\n",
      "Epoch 461/1000\n",
      "43/43 [==============================] - 0s 3ms/step - loss: 0.3119 - accuracy: 0.8794 - val_loss: 0.2902 - val_accuracy: 0.9000\n",
      "Epoch 462/1000\n",
      "43/43 [==============================] - 0s 3ms/step - loss: 0.3120 - accuracy: 0.8794 - val_loss: 0.2906 - val_accuracy: 0.9000\n",
      "Epoch 463/1000\n",
      "43/43 [==============================] - 0s 3ms/step - loss: 0.3122 - accuracy: 0.8824 - val_loss: 0.2902 - val_accuracy: 0.9000\n",
      "Epoch 464/1000\n",
      "43/43 [==============================] - 0s 2ms/step - loss: 0.3117 - accuracy: 0.8794 - val_loss: 0.2903 - val_accuracy: 0.8941\n",
      "Epoch 465/1000\n",
      "43/43 [==============================] - 0s 3ms/step - loss: 0.3116 - accuracy: 0.8794 - val_loss: 0.2903 - val_accuracy: 0.9000\n",
      "Epoch 466/1000\n",
      "43/43 [==============================] - 0s 3ms/step - loss: 0.3120 - accuracy: 0.8809 - val_loss: 0.2901 - val_accuracy: 0.9000\n",
      "Epoch 467/1000\n",
      "35/43 [=======================>......] - ETA: 0s - loss: 0.3015 - accuracy: 0.8821Restoring model weights from the end of the best epoch: 437.\n",
      "43/43 [==============================] - 0s 3ms/step - loss: 0.3117 - accuracy: 0.8794 - val_loss: 0.2900 - val_accuracy: 0.9000\n",
      "Epoch 467: early stopping\n"
     ]
    },
    {
     "data": {
      "text/plain": [
       "<keras.callbacks.History at 0x1bfcf3badf0>"
      ]
     },
     "execution_count": 41,
     "metadata": {},
     "output_type": "execute_result"
    }
   ],
   "source": [
    "model_dl_1.fit(x_train_scaled, y_train,\n",
    "              epochs=epochs, batch_size=batch_size,\n",
    "              validation_split=0.2, verbose=1,\n",
    "              callbacks=[es])"
   ]
  },
  {
   "cell_type": "markdown",
   "metadata": {
    "id": "gU1_UtFlH3sY"
   },
   "source": [
    "* 모델2"
   ]
  },
  {
   "cell_type": "code",
   "execution_count": 42,
   "metadata": {
    "id": "bjcO9q9mH3sY"
   },
   "outputs": [
    {
     "name": "stdout",
     "output_type": "stream",
     "text": [
      "Model: \"model\"\n",
      "_________________________________________________________________\n",
      " Layer (type)                Output Shape              Param #   \n",
      "=================================================================\n",
      " input_1 (InputLayer)        [(None, 53)]              0         \n",
      "                                                                 \n",
      " dense (Dense)               (None, 256)               13824     \n",
      "                                                                 \n",
      " dense_1 (Dense)             (None, 64)                16448     \n",
      "                                                                 \n",
      " dense_2 (Dense)             (None, 32)                2080      \n",
      "                                                                 \n",
      " dense_3 (Dense)             (None, 1)                 33        \n",
      "                                                                 \n",
      "=================================================================\n",
      "Total params: 32,385\n",
      "Trainable params: 32,385\n",
      "Non-trainable params: 0\n",
      "_________________________________________________________________\n"
     ]
    }
   ],
   "source": [
    "clear_session()\n",
    "\n",
    "il = Input(shape=(53,))\n",
    "h = Dense(256, activation='relu')(il)\n",
    "h = Dense(64, activation='relu')(h)\n",
    "h = Dense(32, activation='relu')(h)\n",
    "ol = Dense(1, activation='sigmoid')(h)\n",
    "\n",
    "model_dl_2 = Model(il, ol)\n",
    "\n",
    "model_dl_2.compile(loss=binary_crossentropy,\n",
    "             optimizer=Adam(),\n",
    "             metrics=['accuracy'])\n",
    "\n",
    "model_dl_2.summary()"
   ]
  },
  {
   "cell_type": "code",
   "execution_count": 43,
   "metadata": {
    "tags": []
   },
   "outputs": [
    {
     "name": "stdout",
     "output_type": "stream",
     "text": [
      "Epoch 1/1000\n",
      "43/43 [==============================] - 1s 7ms/step - loss: 0.4591 - accuracy: 0.8235 - val_loss: 0.4185 - val_accuracy: 0.8235\n",
      "Epoch 2/1000\n",
      "43/43 [==============================] - 0s 3ms/step - loss: 0.3949 - accuracy: 0.8309 - val_loss: 0.3977 - val_accuracy: 0.8412\n",
      "Epoch 3/1000\n",
      "43/43 [==============================] - 0s 3ms/step - loss: 0.3592 - accuracy: 0.8471 - val_loss: 0.3410 - val_accuracy: 0.8647\n",
      "Epoch 4/1000\n",
      "43/43 [==============================] - 0s 3ms/step - loss: 0.3324 - accuracy: 0.8691 - val_loss: 0.3324 - val_accuracy: 0.8765\n",
      "Epoch 5/1000\n",
      "43/43 [==============================] - 0s 3ms/step - loss: 0.2873 - accuracy: 0.8912 - val_loss: 0.3234 - val_accuracy: 0.8824\n",
      "Epoch 6/1000\n",
      "43/43 [==============================] - 0s 3ms/step - loss: 0.2404 - accuracy: 0.9162 - val_loss: 0.3491 - val_accuracy: 0.8353\n",
      "Epoch 7/1000\n",
      "43/43 [==============================] - 0s 3ms/step - loss: 0.2022 - accuracy: 0.9235 - val_loss: 0.3510 - val_accuracy: 0.8353\n",
      "Epoch 8/1000\n",
      "43/43 [==============================] - 0s 3ms/step - loss: 0.1629 - accuracy: 0.9426 - val_loss: 0.3053 - val_accuracy: 0.8647\n",
      "Epoch 9/1000\n",
      "43/43 [==============================] - 0s 3ms/step - loss: 0.1014 - accuracy: 0.9676 - val_loss: 0.3424 - val_accuracy: 0.8941\n",
      "Epoch 10/1000\n",
      "43/43 [==============================] - 0s 3ms/step - loss: 0.0668 - accuracy: 0.9779 - val_loss: 0.3529 - val_accuracy: 0.8588\n",
      "Epoch 11/1000\n",
      "43/43 [==============================] - 0s 4ms/step - loss: 0.0474 - accuracy: 0.9868 - val_loss: 0.3650 - val_accuracy: 0.8529\n",
      "Epoch 12/1000\n",
      "43/43 [==============================] - 0s 3ms/step - loss: 0.0349 - accuracy: 0.9912 - val_loss: 0.3805 - val_accuracy: 0.8824\n",
      "Epoch 13/1000\n",
      "43/43 [==============================] - 0s 3ms/step - loss: 0.0147 - accuracy: 1.0000 - val_loss: 0.3853 - val_accuracy: 0.8471\n",
      "Epoch 14/1000\n",
      "43/43 [==============================] - 0s 3ms/step - loss: 0.0062 - accuracy: 1.0000 - val_loss: 0.4375 - val_accuracy: 0.8941\n",
      "Epoch 15/1000\n",
      "43/43 [==============================] - 0s 3ms/step - loss: 0.0039 - accuracy: 1.0000 - val_loss: 0.4575 - val_accuracy: 0.8941\n",
      "Epoch 16/1000\n",
      "43/43 [==============================] - 0s 3ms/step - loss: 0.0029 - accuracy: 1.0000 - val_loss: 0.4638 - val_accuracy: 0.8882\n",
      "Epoch 17/1000\n",
      "43/43 [==============================] - 0s 3ms/step - loss: 0.0022 - accuracy: 1.0000 - val_loss: 0.4716 - val_accuracy: 0.8824\n",
      "Epoch 18/1000\n",
      "43/43 [==============================] - 0s 3ms/step - loss: 0.0018 - accuracy: 1.0000 - val_loss: 0.4825 - val_accuracy: 0.8765\n",
      "Epoch 19/1000\n",
      "43/43 [==============================] - 0s 3ms/step - loss: 0.0015 - accuracy: 1.0000 - val_loss: 0.5011 - val_accuracy: 0.8824\n",
      "Epoch 20/1000\n",
      "43/43 [==============================] - 0s 3ms/step - loss: 0.0012 - accuracy: 1.0000 - val_loss: 0.5081 - val_accuracy: 0.8882\n",
      "Epoch 21/1000\n",
      "43/43 [==============================] - 0s 3ms/step - loss: 0.0011 - accuracy: 1.0000 - val_loss: 0.5244 - val_accuracy: 0.8824\n",
      "Epoch 22/1000\n",
      "43/43 [==============================] - 0s 3ms/step - loss: 9.1789e-04 - accuracy: 1.0000 - val_loss: 0.5320 - val_accuracy: 0.8824\n",
      "Epoch 23/1000\n",
      "43/43 [==============================] - 0s 3ms/step - loss: 8.0358e-04 - accuracy: 1.0000 - val_loss: 0.5271 - val_accuracy: 0.8882\n",
      "Epoch 24/1000\n",
      "43/43 [==============================] - 0s 3ms/step - loss: 7.2152e-04 - accuracy: 1.0000 - val_loss: 0.5274 - val_accuracy: 0.8824\n",
      "Epoch 25/1000\n",
      "43/43 [==============================] - 0s 3ms/step - loss: 6.2021e-04 - accuracy: 1.0000 - val_loss: 0.5556 - val_accuracy: 0.8824\n",
      "Epoch 26/1000\n",
      "43/43 [==============================] - 0s 3ms/step - loss: 5.6658e-04 - accuracy: 1.0000 - val_loss: 0.5651 - val_accuracy: 0.8882\n",
      "Epoch 27/1000\n",
      "43/43 [==============================] - 0s 3ms/step - loss: 5.2741e-04 - accuracy: 1.0000 - val_loss: 0.5648 - val_accuracy: 0.8824\n",
      "Epoch 28/1000\n",
      "43/43 [==============================] - 0s 3ms/step - loss: 4.6278e-04 - accuracy: 1.0000 - val_loss: 0.5582 - val_accuracy: 0.8824\n",
      "Epoch 29/1000\n",
      "43/43 [==============================] - 0s 3ms/step - loss: 4.1291e-04 - accuracy: 1.0000 - val_loss: 0.5718 - val_accuracy: 0.8824\n",
      "Epoch 30/1000\n",
      "43/43 [==============================] - 0s 3ms/step - loss: 3.7989e-04 - accuracy: 1.0000 - val_loss: 0.5792 - val_accuracy: 0.8824\n",
      "Epoch 31/1000\n",
      "43/43 [==============================] - 0s 3ms/step - loss: 3.5111e-04 - accuracy: 1.0000 - val_loss: 0.5766 - val_accuracy: 0.8882\n",
      "Epoch 32/1000\n",
      "43/43 [==============================] - 0s 3ms/step - loss: 3.2071e-04 - accuracy: 1.0000 - val_loss: 0.5858 - val_accuracy: 0.8824\n",
      "Epoch 33/1000\n",
      "43/43 [==============================] - 0s 3ms/step - loss: 2.9543e-04 - accuracy: 1.0000 - val_loss: 0.5883 - val_accuracy: 0.8882\n",
      "Epoch 34/1000\n",
      "43/43 [==============================] - 0s 3ms/step - loss: 2.7365e-04 - accuracy: 1.0000 - val_loss: 0.5948 - val_accuracy: 0.8824\n",
      "Epoch 35/1000\n",
      "43/43 [==============================] - 0s 3ms/step - loss: 2.5669e-04 - accuracy: 1.0000 - val_loss: 0.5947 - val_accuracy: 0.8882\n",
      "Epoch 36/1000\n",
      "43/43 [==============================] - 0s 4ms/step - loss: 2.3892e-04 - accuracy: 1.0000 - val_loss: 0.5972 - val_accuracy: 0.8824\n",
      "Epoch 37/1000\n",
      "43/43 [==============================] - 0s 3ms/step - loss: 2.1923e-04 - accuracy: 1.0000 - val_loss: 0.6127 - val_accuracy: 0.8824\n",
      "Epoch 38/1000\n",
      "25/43 [================>.............] - ETA: 0s - loss: 2.2535e-04 - accuracy: 1.0000Restoring model weights from the end of the best epoch: 8.\n",
      "43/43 [==============================] - 0s 3ms/step - loss: 2.0574e-04 - accuracy: 1.0000 - val_loss: 0.6081 - val_accuracy: 0.8882\n",
      "Epoch 38: early stopping\n"
     ]
    },
    {
     "data": {
      "text/plain": [
       "<keras.callbacks.History at 0x1bfd1610ca0>"
      ]
     },
     "execution_count": 43,
     "metadata": {},
     "output_type": "execute_result"
    }
   ],
   "source": [
    "model_dl_2.fit(x_train_scaled, y_train,\n",
    "              epochs=epochs, batch_size=batch_size,\n",
    "              validation_split=0.2, verbose=1,\n",
    "              callbacks=[es])"
   ]
  },
  {
   "cell_type": "markdown",
   "metadata": {
    "id": "iXOlv7oSKLlt"
   },
   "source": [
    "* 모델3"
   ]
  },
  {
   "cell_type": "code",
   "execution_count": 44,
   "metadata": {
    "id": "rlTLt04PKLlz"
   },
   "outputs": [
    {
     "name": "stdout",
     "output_type": "stream",
     "text": [
      "Model: \"model\"\n",
      "_________________________________________________________________\n",
      " Layer (type)                Output Shape              Param #   \n",
      "=================================================================\n",
      " input_1 (InputLayer)        [(None, 53)]              0         \n",
      "                                                                 \n",
      " dense (Dense)               (None, 32)                1728      \n",
      "                                                                 \n",
      " dense_1 (Dense)             (None, 1)                 33        \n",
      "                                                                 \n",
      "=================================================================\n",
      "Total params: 1,761\n",
      "Trainable params: 1,761\n",
      "Non-trainable params: 0\n",
      "_________________________________________________________________\n"
     ]
    }
   ],
   "source": [
    "clear_session()\n",
    "\n",
    "il = Input(shape=(53,))\n",
    "h = Dense(32, activation='relu')(il)\n",
    "ol = Dense(1, activation='sigmoid')(h)\n",
    "\n",
    "model_dl_3 = Model(il, ol)\n",
    "\n",
    "model_dl_3.compile(loss=binary_crossentropy,\n",
    "             optimizer=Adam(),\n",
    "             metrics=['accuracy'])\n",
    "\n",
    "model_dl_3.summary()"
   ]
  },
  {
   "cell_type": "code",
   "execution_count": 45,
   "metadata": {
    "tags": []
   },
   "outputs": [
    {
     "name": "stdout",
     "output_type": "stream",
     "text": [
      "Epoch 1/1000\n",
      "43/43 [==============================] - 1s 10ms/step - loss: 0.4621 - accuracy: 0.8250 - val_loss: 0.4501 - val_accuracy: 0.8235\n",
      "Epoch 2/1000\n",
      "43/43 [==============================] - 0s 4ms/step - loss: 0.4217 - accuracy: 0.8309 - val_loss: 0.4267 - val_accuracy: 0.8235\n",
      "Epoch 3/1000\n",
      "43/43 [==============================] - 0s 3ms/step - loss: 0.4032 - accuracy: 0.8309 - val_loss: 0.4070 - val_accuracy: 0.8235\n",
      "Epoch 4/1000\n",
      "43/43 [==============================] - 0s 3ms/step - loss: 0.3880 - accuracy: 0.8353 - val_loss: 0.3858 - val_accuracy: 0.8294\n",
      "Epoch 5/1000\n",
      "43/43 [==============================] - 0s 3ms/step - loss: 0.3762 - accuracy: 0.8382 - val_loss: 0.3727 - val_accuracy: 0.8412\n",
      "Epoch 6/1000\n",
      "43/43 [==============================] - 0s 3ms/step - loss: 0.3653 - accuracy: 0.8397 - val_loss: 0.3553 - val_accuracy: 0.8647\n",
      "Epoch 7/1000\n",
      "43/43 [==============================] - 0s 3ms/step - loss: 0.3570 - accuracy: 0.8441 - val_loss: 0.3448 - val_accuracy: 0.8647\n",
      "Epoch 8/1000\n",
      "43/43 [==============================] - 0s 3ms/step - loss: 0.3476 - accuracy: 0.8544 - val_loss: 0.3351 - val_accuracy: 0.8706\n",
      "Epoch 9/1000\n",
      "43/43 [==============================] - 0s 3ms/step - loss: 0.3394 - accuracy: 0.8515 - val_loss: 0.3278 - val_accuracy: 0.8765\n",
      "Epoch 10/1000\n",
      "43/43 [==============================] - 0s 3ms/step - loss: 0.3344 - accuracy: 0.8676 - val_loss: 0.3223 - val_accuracy: 0.8765\n",
      "Epoch 11/1000\n",
      "43/43 [==============================] - 0s 3ms/step - loss: 0.3263 - accuracy: 0.8735 - val_loss: 0.3159 - val_accuracy: 0.8941\n",
      "Epoch 12/1000\n",
      "43/43 [==============================] - 0s 3ms/step - loss: 0.3212 - accuracy: 0.8735 - val_loss: 0.3115 - val_accuracy: 0.8941\n",
      "Epoch 13/1000\n",
      "43/43 [==============================] - 0s 3ms/step - loss: 0.3193 - accuracy: 0.8838 - val_loss: 0.3079 - val_accuracy: 0.8941\n",
      "Epoch 14/1000\n",
      "43/43 [==============================] - 0s 3ms/step - loss: 0.3123 - accuracy: 0.8809 - val_loss: 0.3059 - val_accuracy: 0.8941\n",
      "Epoch 15/1000\n",
      "43/43 [==============================] - 0s 3ms/step - loss: 0.3087 - accuracy: 0.8853 - val_loss: 0.3049 - val_accuracy: 0.8882\n",
      "Epoch 16/1000\n",
      "43/43 [==============================] - 0s 3ms/step - loss: 0.3014 - accuracy: 0.8897 - val_loss: 0.2998 - val_accuracy: 0.8882\n",
      "Epoch 17/1000\n",
      "43/43 [==============================] - 0s 3ms/step - loss: 0.2973 - accuracy: 0.8941 - val_loss: 0.2982 - val_accuracy: 0.8882\n",
      "Epoch 18/1000\n",
      "43/43 [==============================] - 0s 3ms/step - loss: 0.2940 - accuracy: 0.9000 - val_loss: 0.2973 - val_accuracy: 0.8882\n",
      "Epoch 19/1000\n",
      "43/43 [==============================] - 0s 3ms/step - loss: 0.2896 - accuracy: 0.8956 - val_loss: 0.2995 - val_accuracy: 0.8882\n",
      "Epoch 20/1000\n",
      "43/43 [==============================] - 0s 3ms/step - loss: 0.2848 - accuracy: 0.9015 - val_loss: 0.2945 - val_accuracy: 0.8882\n",
      "Epoch 21/1000\n",
      "43/43 [==============================] - 0s 3ms/step - loss: 0.2810 - accuracy: 0.9029 - val_loss: 0.2942 - val_accuracy: 0.8882\n",
      "Epoch 22/1000\n",
      "43/43 [==============================] - 0s 3ms/step - loss: 0.2796 - accuracy: 0.9029 - val_loss: 0.2936 - val_accuracy: 0.8882\n",
      "Epoch 23/1000\n",
      "43/43 [==============================] - 0s 3ms/step - loss: 0.2720 - accuracy: 0.9015 - val_loss: 0.2936 - val_accuracy: 0.8882\n",
      "Epoch 24/1000\n",
      "43/43 [==============================] - 0s 3ms/step - loss: 0.2724 - accuracy: 0.9000 - val_loss: 0.2912 - val_accuracy: 0.8882\n",
      "Epoch 25/1000\n",
      "43/43 [==============================] - 0s 3ms/step - loss: 0.2659 - accuracy: 0.9118 - val_loss: 0.2918 - val_accuracy: 0.8882\n",
      "Epoch 26/1000\n",
      "43/43 [==============================] - 0s 3ms/step - loss: 0.2604 - accuracy: 0.9059 - val_loss: 0.2920 - val_accuracy: 0.8941\n",
      "Epoch 27/1000\n",
      "43/43 [==============================] - 0s 3ms/step - loss: 0.2575 - accuracy: 0.9074 - val_loss: 0.2925 - val_accuracy: 0.8941\n",
      "Epoch 28/1000\n",
      "43/43 [==============================] - 0s 3ms/step - loss: 0.2559 - accuracy: 0.9074 - val_loss: 0.2919 - val_accuracy: 0.8941\n",
      "Epoch 29/1000\n",
      "43/43 [==============================] - 0s 3ms/step - loss: 0.2491 - accuracy: 0.9132 - val_loss: 0.2934 - val_accuracy: 0.8882\n",
      "Epoch 30/1000\n",
      "43/43 [==============================] - 0s 3ms/step - loss: 0.2458 - accuracy: 0.9147 - val_loss: 0.2878 - val_accuracy: 0.8882\n",
      "Epoch 31/1000\n",
      "43/43 [==============================] - 0s 3ms/step - loss: 0.2452 - accuracy: 0.9132 - val_loss: 0.2927 - val_accuracy: 0.8882\n",
      "Epoch 32/1000\n",
      "43/43 [==============================] - 0s 3ms/step - loss: 0.2416 - accuracy: 0.9118 - val_loss: 0.2899 - val_accuracy: 0.8941\n",
      "Epoch 33/1000\n",
      "43/43 [==============================] - 0s 3ms/step - loss: 0.2360 - accuracy: 0.9162 - val_loss: 0.2891 - val_accuracy: 0.8941\n",
      "Epoch 34/1000\n",
      "43/43 [==============================] - 0s 2ms/step - loss: 0.2326 - accuracy: 0.9147 - val_loss: 0.2900 - val_accuracy: 0.8941\n",
      "Epoch 35/1000\n",
      "43/43 [==============================] - 0s 3ms/step - loss: 0.2285 - accuracy: 0.9162 - val_loss: 0.2899 - val_accuracy: 0.8941\n",
      "Epoch 36/1000\n",
      "43/43 [==============================] - 0s 3ms/step - loss: 0.2256 - accuracy: 0.9176 - val_loss: 0.2880 - val_accuracy: 0.8941\n",
      "Epoch 37/1000\n",
      "43/43 [==============================] - 0s 3ms/step - loss: 0.2213 - accuracy: 0.9250 - val_loss: 0.2916 - val_accuracy: 0.8941\n",
      "Epoch 38/1000\n",
      "43/43 [==============================] - 0s 3ms/step - loss: 0.2173 - accuracy: 0.9279 - val_loss: 0.2878 - val_accuracy: 0.8941\n",
      "Epoch 39/1000\n",
      "43/43 [==============================] - 0s 3ms/step - loss: 0.2151 - accuracy: 0.9235 - val_loss: 0.2872 - val_accuracy: 0.8941\n",
      "Epoch 40/1000\n",
      "43/43 [==============================] - 0s 3ms/step - loss: 0.2111 - accuracy: 0.9250 - val_loss: 0.2897 - val_accuracy: 0.8941\n",
      "Epoch 41/1000\n",
      "43/43 [==============================] - 0s 3ms/step - loss: 0.2087 - accuracy: 0.9265 - val_loss: 0.2879 - val_accuracy: 0.8941\n",
      "Epoch 42/1000\n",
      "43/43 [==============================] - 0s 3ms/step - loss: 0.2055 - accuracy: 0.9294 - val_loss: 0.2912 - val_accuracy: 0.8765\n",
      "Epoch 43/1000\n",
      "43/43 [==============================] - 0s 3ms/step - loss: 0.2013 - accuracy: 0.9309 - val_loss: 0.2858 - val_accuracy: 0.8941\n",
      "Epoch 44/1000\n",
      "43/43 [==============================] - 0s 3ms/step - loss: 0.1981 - accuracy: 0.9324 - val_loss: 0.2867 - val_accuracy: 0.8882\n",
      "Epoch 45/1000\n",
      "43/43 [==============================] - 0s 3ms/step - loss: 0.1962 - accuracy: 0.9338 - val_loss: 0.2871 - val_accuracy: 0.8882\n",
      "Epoch 46/1000\n",
      "43/43 [==============================] - 0s 3ms/step - loss: 0.1934 - accuracy: 0.9382 - val_loss: 0.2889 - val_accuracy: 0.8882\n",
      "Epoch 47/1000\n",
      "43/43 [==============================] - 0s 3ms/step - loss: 0.1898 - accuracy: 0.9338 - val_loss: 0.2880 - val_accuracy: 0.8882\n",
      "Epoch 48/1000\n",
      "43/43 [==============================] - 0s 3ms/step - loss: 0.1865 - accuracy: 0.9382 - val_loss: 0.2845 - val_accuracy: 0.8882\n",
      "Epoch 49/1000\n",
      "43/43 [==============================] - 0s 3ms/step - loss: 0.1849 - accuracy: 0.9456 - val_loss: 0.2853 - val_accuracy: 0.8882\n",
      "Epoch 50/1000\n",
      "43/43 [==============================] - 0s 3ms/step - loss: 0.1803 - accuracy: 0.9471 - val_loss: 0.2836 - val_accuracy: 0.8882\n",
      "Epoch 51/1000\n",
      "43/43 [==============================] - 0s 3ms/step - loss: 0.1779 - accuracy: 0.9471 - val_loss: 0.2847 - val_accuracy: 0.8882\n",
      "Epoch 52/1000\n",
      "43/43 [==============================] - 0s 3ms/step - loss: 0.1758 - accuracy: 0.9485 - val_loss: 0.2819 - val_accuracy: 0.8882\n",
      "Epoch 53/1000\n",
      "43/43 [==============================] - 0s 3ms/step - loss: 0.1720 - accuracy: 0.9485 - val_loss: 0.2866 - val_accuracy: 0.8824\n",
      "Epoch 54/1000\n",
      "43/43 [==============================] - 0s 3ms/step - loss: 0.1691 - accuracy: 0.9500 - val_loss: 0.2853 - val_accuracy: 0.8882\n",
      "Epoch 55/1000\n",
      "43/43 [==============================] - 0s 3ms/step - loss: 0.1663 - accuracy: 0.9529 - val_loss: 0.2849 - val_accuracy: 0.8882\n",
      "Epoch 56/1000\n",
      "43/43 [==============================] - 0s 3ms/step - loss: 0.1647 - accuracy: 0.9515 - val_loss: 0.2849 - val_accuracy: 0.8882\n",
      "Epoch 57/1000\n",
      "43/43 [==============================] - 0s 3ms/step - loss: 0.1608 - accuracy: 0.9515 - val_loss: 0.2830 - val_accuracy: 0.8882\n",
      "Epoch 58/1000\n",
      "43/43 [==============================] - 0s 3ms/step - loss: 0.1589 - accuracy: 0.9544 - val_loss: 0.2855 - val_accuracy: 0.8824\n",
      "Epoch 59/1000\n",
      "43/43 [==============================] - 0s 3ms/step - loss: 0.1561 - accuracy: 0.9588 - val_loss: 0.2876 - val_accuracy: 0.8882\n",
      "Epoch 60/1000\n",
      "43/43 [==============================] - 0s 3ms/step - loss: 0.1548 - accuracy: 0.9574 - val_loss: 0.2833 - val_accuracy: 0.8882\n",
      "Epoch 61/1000\n",
      "43/43 [==============================] - 0s 3ms/step - loss: 0.1506 - accuracy: 0.9588 - val_loss: 0.2838 - val_accuracy: 0.8882\n",
      "Epoch 62/1000\n",
      "43/43 [==============================] - 0s 3ms/step - loss: 0.1492 - accuracy: 0.9618 - val_loss: 0.2864 - val_accuracy: 0.8882\n",
      "Epoch 63/1000\n",
      "43/43 [==============================] - 0s 3ms/step - loss: 0.1469 - accuracy: 0.9662 - val_loss: 0.2859 - val_accuracy: 0.8882\n",
      "Epoch 64/1000\n",
      "43/43 [==============================] - 0s 3ms/step - loss: 0.1458 - accuracy: 0.9559 - val_loss: 0.2832 - val_accuracy: 0.8765\n",
      "Epoch 65/1000\n",
      "43/43 [==============================] - 0s 3ms/step - loss: 0.1429 - accuracy: 0.9588 - val_loss: 0.2855 - val_accuracy: 0.8882\n",
      "Epoch 66/1000\n",
      "43/43 [==============================] - 0s 3ms/step - loss: 0.1388 - accuracy: 0.9632 - val_loss: 0.2837 - val_accuracy: 0.8882\n",
      "Epoch 67/1000\n",
      "43/43 [==============================] - 0s 3ms/step - loss: 0.1363 - accuracy: 0.9647 - val_loss: 0.2871 - val_accuracy: 0.8882\n",
      "Epoch 68/1000\n",
      "43/43 [==============================] - 0s 3ms/step - loss: 0.1347 - accuracy: 0.9632 - val_loss: 0.2875 - val_accuracy: 0.8882\n",
      "Epoch 69/1000\n",
      "43/43 [==============================] - 0s 3ms/step - loss: 0.1337 - accuracy: 0.9676 - val_loss: 0.2851 - val_accuracy: 0.8765\n",
      "Epoch 70/1000\n",
      "43/43 [==============================] - 0s 3ms/step - loss: 0.1292 - accuracy: 0.9691 - val_loss: 0.2871 - val_accuracy: 0.8765\n",
      "Epoch 71/1000\n",
      "43/43 [==============================] - 0s 3ms/step - loss: 0.1282 - accuracy: 0.9632 - val_loss: 0.2836 - val_accuracy: 0.8824\n",
      "Epoch 72/1000\n",
      "43/43 [==============================] - 0s 3ms/step - loss: 0.1248 - accuracy: 0.9721 - val_loss: 0.2879 - val_accuracy: 0.8824\n",
      "Epoch 73/1000\n",
      "43/43 [==============================] - 0s 3ms/step - loss: 0.1237 - accuracy: 0.9706 - val_loss: 0.2889 - val_accuracy: 0.8765\n",
      "Epoch 74/1000\n",
      "43/43 [==============================] - 0s 3ms/step - loss: 0.1222 - accuracy: 0.9721 - val_loss: 0.2863 - val_accuracy: 0.8824\n",
      "Epoch 75/1000\n",
      "43/43 [==============================] - 0s 3ms/step - loss: 0.1193 - accuracy: 0.9662 - val_loss: 0.2869 - val_accuracy: 0.8765\n",
      "Epoch 76/1000\n",
      "43/43 [==============================] - 0s 3ms/step - loss: 0.1184 - accuracy: 0.9735 - val_loss: 0.2882 - val_accuracy: 0.8765\n",
      "Epoch 77/1000\n",
      "43/43 [==============================] - 0s 3ms/step - loss: 0.1156 - accuracy: 0.9765 - val_loss: 0.2912 - val_accuracy: 0.8765\n",
      "Epoch 78/1000\n",
      "43/43 [==============================] - 0s 3ms/step - loss: 0.1138 - accuracy: 0.9765 - val_loss: 0.2951 - val_accuracy: 0.8882\n",
      "Epoch 79/1000\n",
      "43/43 [==============================] - 0s 3ms/step - loss: 0.1101 - accuracy: 0.9735 - val_loss: 0.2895 - val_accuracy: 0.8824\n",
      "Epoch 80/1000\n",
      "43/43 [==============================] - 0s 3ms/step - loss: 0.1086 - accuracy: 0.9750 - val_loss: 0.2906 - val_accuracy: 0.8765\n",
      "Epoch 81/1000\n",
      "43/43 [==============================] - 0s 3ms/step - loss: 0.1067 - accuracy: 0.9750 - val_loss: 0.2934 - val_accuracy: 0.8882\n",
      "Epoch 82/1000\n",
      "32/43 [=====================>........] - ETA: 0s - loss: 0.1083 - accuracy: 0.9727Restoring model weights from the end of the best epoch: 52.\n",
      "43/43 [==============================] - 0s 3ms/step - loss: 0.1054 - accuracy: 0.9765 - val_loss: 0.2924 - val_accuracy: 0.8824\n",
      "Epoch 82: early stopping\n"
     ]
    },
    {
     "data": {
      "text/plain": [
       "<keras.callbacks.History at 0x1bfd274ceb0>"
      ]
     },
     "execution_count": 45,
     "metadata": {},
     "output_type": "execute_result"
    }
   ],
   "source": [
    "model_dl_3.fit(x_train_scaled, y_train,\n",
    "              epochs=epochs, batch_size=batch_size,\n",
    "              validation_split=0.2, verbose=1,\n",
    "              callbacks=[es])"
   ]
  },
  {
   "cell_type": "markdown",
   "metadata": {
    "id": "aCwoqa6hMLgx"
   },
   "source": [
    "### 4.3 학습 및 최적화\n",
    "* 다양한 학습조건으로 모델링 수행후 성능을 비교해 봅시다.\n"
   ]
  },
  {
   "cell_type": "code",
   "execution_count": 46,
   "metadata": {},
   "outputs": [
    {
     "name": "stdout",
     "output_type": "stream",
     "text": [
      "              precision    recall  f1-score   support\n",
      "\n",
      "           0       0.91      0.98      0.95       176\n",
      "           1       0.70      0.29      0.41        24\n",
      "\n",
      "    accuracy                           0.90       200\n",
      "   macro avg       0.81      0.64      0.68       200\n",
      "weighted avg       0.89      0.90      0.88       200\n",
      "\n"
     ]
    },
    {
     "data": {
      "image/png": "[encoded data removed]",
      "text/plain": [
       "<Figure size 432x288 with 1 Axes>"
      ]
     },
     "metadata": {
      "needs_background": "light"
     },
     "output_type": "display_data"
    }
   ],
   "source": [
    "y_pred = model_dl_1.predict(x_val_scaled)\n",
    "y_pred = y_pred.round().reshape(-1)\n",
    "print(classification_report(y_val, y_pred))\n",
    "sns.heatmap(confusion_matrix(y_val, y_pred), annot=True, cbar=False, cmap='Blues', fmt='g')\n",
    "plt.title('Confusion Matrix')\n",
    "plt.show()"
   ]
  },
  {
   "cell_type": "code",
   "execution_count": 47,
   "metadata": {},
   "outputs": [
    {
     "name": "stdout",
     "output_type": "stream",
     "text": [
      "              precision    recall  f1-score   support\n",
      "\n",
      "           0       0.93      0.92      0.92       176\n",
      "           1       0.44      0.46      0.45        24\n",
      "\n",
      "    accuracy                           0.86       200\n",
      "   macro avg       0.68      0.69      0.69       200\n",
      "weighted avg       0.87      0.86      0.87       200\n",
      "\n"
     ]
    },
    {
     "data": {
      "image/png": "[encoded data removed]",
      "text/plain": [
       "<Figure size 432x288 with 1 Axes>"
      ]
     },
     "metadata": {
      "needs_background": "light"
     },
     "output_type": "display_data"
    }
   ],
   "source": [
    "y_pred = model_dl_2.predict(x_val_scaled)\n",
    "y_pred = y_pred.round().reshape(-1)\n",
    "print(classification_report(y_val, y_pred))\n",
    "sns.heatmap(confusion_matrix(y_val, y_pred), annot=True, cbar=False, cmap='Blues', fmt='g')\n",
    "plt.title('Confusion Matrix')\n",
    "plt.show()"
   ]
  },
  {
   "cell_type": "code",
   "execution_count": 48,
   "metadata": {},
   "outputs": [
    {
     "name": "stdout",
     "output_type": "stream",
     "text": [
      "              precision    recall  f1-score   support\n",
      "\n",
      "           0       0.92      0.96      0.94       176\n",
      "           1       0.59      0.42      0.49        24\n",
      "\n",
      "    accuracy                           0.90       200\n",
      "   macro avg       0.76      0.69      0.71       200\n",
      "weighted avg       0.88      0.90      0.89       200\n",
      "\n"
     ]
    },
    {
     "data": {
      "image/png": "[encoded data removed]",
      "text/plain": [
       "<Figure size 432x288 with 1 Axes>"
      ]
     },
     "metadata": {
      "needs_background": "light"
     },
     "output_type": "display_data"
    }
   ],
   "source": [
    "y_pred = model_dl_3.predict(x_val_scaled)\n",
    "y_pred = y_pred.round().reshape(-1)\n",
    "print(classification_report(y_val, y_pred))\n",
    "sns.heatmap(confusion_matrix(y_val, y_pred), annot=True, cbar=False, cmap='Blues', fmt='g')\n",
    "plt.title('Confusion Matrix')\n",
    "plt.show()"
   ]
  },
  {
   "cell_type": "markdown",
   "metadata": {
    "id": "U4UL4ynYL6Ly"
   },
   "source": [
    "## 5.성능 비교\n",
    "* 알고리즘별 선정된 모델이 최소 6개 입니다. 이에 대해 성능을 평가합니다.\n",
    "* 평가를 위한 적절한 지표(metric)을 결정하고 비교합니다.\n",
    "    * 평가지표 선정 이유도 주석으로 기술하시오.\n",
    "* 최종 모델을 선정하게 된 근거를 주석으로 기술하시오."
   ]
  },
  {
   "cell_type": "markdown",
   "metadata": {
    "id": "lKA2UyB6HXfF"
   },
   "source": [
    "### 5.1 평가지표 결정\n",
    "\n",
    "* 어떤 지표로 성능을 비교할지 결정합니다.\n",
    "* 결정 이유를 기술합니다."
   ]
  },
  {
   "cell_type": "code",
   "execution_count": 49,
   "metadata": {
    "id": "Ta99Rh0IHarR"
   },
   "outputs": [],
   "source": [
    "# classification_report의 accuracy와 1의 recall값을 성능지표로써 비교할 것입니다."
   ]
  },
  {
   "cell_type": "code",
   "execution_count": 50,
   "metadata": {
    "id": "W_b0QbnbHaXl"
   },
   "outputs": [],
   "source": [
    "# 정확도가 높은 모델일수록 예측을 잘할 수 있으므로 정확도를 선택했습니다.\n",
    "# 0의 데이터 수에 비해 1의 데이터 수가 현저히 적으므로 실제값 1을 1로 예측한 비율인 recall값이 높은 모델을 선택할 것입니다."
   ]
  },
  {
   "cell_type": "markdown",
   "metadata": {
    "id": "-hOx7i2sHi1U"
   },
   "source": [
    "### 5.2 성능 비교"
   ]
  },
  {
   "cell_type": "code",
   "execution_count": 51,
   "metadata": {
    "id": "FXgib3TYOVwH"
   },
   "outputs": [
    {
     "name": "stdout",
     "output_type": "stream",
     "text": [
      "              precision    recall  f1-score   support\n",
      "\n",
      "           0       0.91      0.99      0.95       176\n",
      "           1       0.88      0.29      0.44        24\n",
      "\n",
      "    accuracy                           0.91       200\n",
      "   macro avg       0.89      0.64      0.69       200\n",
      "weighted avg       0.91      0.91      0.89       200\n",
      "\n"
     ]
    },
    {
     "data": {
      "image/png": "[encoded data removed]",
      "text/plain": [
       "<Figure size 432x288 with 1 Axes>"
      ]
     },
     "metadata": {
      "needs_background": "light"
     },
     "output_type": "display_data"
    }
   ],
   "source": [
    "from sklearn.metrics import recall_score, accuracy_score\n",
    "\n",
    "result_rs={}\n",
    "result_acc={}\n",
    "\n",
    "y_pred = model_LR.predict(x_val)\n",
    "result_rs['Logistic Regression'] = recall_score(y_val, y_pred)\n",
    "result_acc['Logistic Regression'] = accuracy_score(y_val, y_pred)\n",
    "print(classification_report(y_val, y_pred))\n",
    "sns.heatmap(confusion_matrix(y_val, y_pred), annot=True, cbar=False, cmap='Blues', fmt='g')\n",
    "plt.title('Confusion Matrix')\n",
    "plt.show()"
   ]
  },
  {
   "cell_type": "code",
   "execution_count": 52,
   "metadata": {
    "id": "KkZqsY3UOVqq"
   },
   "outputs": [
    {
     "name": "stdout",
     "output_type": "stream",
     "text": [
      "              precision    recall  f1-score   support\n",
      "\n",
      "           0       0.90      0.96      0.93       176\n",
      "           1       0.42      0.21      0.28        24\n",
      "\n",
      "    accuracy                           0.87       200\n",
      "   macro avg       0.66      0.58      0.60       200\n",
      "weighted avg       0.84      0.87      0.85       200\n",
      "\n"
     ]
    },
    {
     "data": {
      "image/png": "[encoded data removed]",
      "text/plain": [
       "<Figure size 432x288 with 1 Axes>"
      ]
     },
     "metadata": {
      "needs_background": "light"
     },
     "output_type": "display_data"
    }
   ],
   "source": [
    "y_pred = model_dt.predict(x_val)\n",
    "result_rs['Decision Tree'] = recall_score(y_val, y_pred)\n",
    "result_acc['Decision Tree'] = accuracy_score(y_val, y_pred)\n",
    "print(classification_report(y_val, y_pred))\n",
    "sns.heatmap(confusion_matrix(y_val, y_pred), annot=True, cbar=False, cmap='Blues', fmt='g')\n",
    "plt.title('Confusion Matrix')\n",
    "plt.show()"
   ]
  },
  {
   "cell_type": "code",
   "execution_count": 53,
   "metadata": {
    "id": "Ho_W7XNSOVna"
   },
   "outputs": [
    {
     "name": "stdout",
     "output_type": "stream",
     "text": [
      "              precision    recall  f1-score   support\n",
      "\n",
      "           0       0.90      0.99      0.95       176\n",
      "           1       0.83      0.21      0.33        24\n",
      "\n",
      "    accuracy                           0.90       200\n",
      "   macro avg       0.87      0.60      0.64       200\n",
      "weighted avg       0.89      0.90      0.87       200\n",
      "\n"
     ]
    },
    {
     "data": {
      "image/png": "[encoded data removed]",
      "text/plain": [
       "<Figure size 432x288 with 1 Axes>"
      ]
     },
     "metadata": {
      "needs_background": "light"
     },
     "output_type": "display_data"
    }
   ],
   "source": [
    "y_pred = model_svm_rbf.predict(x_val_scaled)\n",
    "result_rs['SVM rbf'] = recall_score(y_val, y_pred)\n",
    "result_acc['SVM rbf'] = accuracy_score(y_val, y_pred)\n",
    "print(classification_report(y_val, y_pred))\n",
    "sns.heatmap(confusion_matrix(y_val, y_pred), annot=True, cbar=False, cmap='Blues', fmt='g')\n",
    "plt.title('Confusion Matrix')\n",
    "plt.show()"
   ]
  },
  {
   "cell_type": "code",
   "execution_count": 54,
   "metadata": {
    "id": "QBy3aAPBOToC"
   },
   "outputs": [
    {
     "name": "stdout",
     "output_type": "stream",
     "text": [
      "              precision    recall  f1-score   support\n",
      "\n",
      "           0       0.92      0.99      0.95       176\n",
      "           1       0.80      0.33      0.47        24\n",
      "\n",
      "    accuracy                           0.91       200\n",
      "   macro avg       0.86      0.66      0.71       200\n",
      "weighted avg       0.90      0.91      0.89       200\n",
      "\n"
     ]
    },
    {
     "data": {
      "image/png": "[encoded data removed]",
      "text/plain": [
       "<Figure size 432x288 with 1 Axes>"
      ]
     },
     "metadata": {
      "needs_background": "light"
     },
     "output_type": "display_data"
    }
   ],
   "source": [
    "y_pred = model_svm_linear.predict(x_val_scaled)\n",
    "result_rs['SVM linear'] = recall_score(y_val, y_pred)\n",
    "result_acc['SVM linear'] = accuracy_score(y_val, y_pred)\n",
    "print(classification_report(y_val, y_pred))\n",
    "sns.heatmap(confusion_matrix(y_val, y_pred), annot=True, cbar=False, cmap='Blues', fmt='g')\n",
    "plt.title('Confusion Matrix')\n",
    "plt.show()"
   ]
  },
  {
   "cell_type": "code",
   "execution_count": 55,
   "metadata": {},
   "outputs": [
    {
     "name": "stdout",
     "output_type": "stream",
     "text": [
      "              precision    recall  f1-score   support\n",
      "\n",
      "           0       0.91      0.95      0.93       176\n",
      "           1       0.44      0.29      0.35        24\n",
      "\n",
      "    accuracy                           0.87       200\n",
      "   macro avg       0.67      0.62      0.64       200\n",
      "weighted avg       0.85      0.87      0.86       200\n",
      "\n"
     ]
    },
    {
     "data": {
      "image/png": "[encoded data removed]",
      "text/plain": [
       "<Figure size 432x288 with 1 Axes>"
      ]
     },
     "metadata": {
      "needs_background": "light"
     },
     "output_type": "display_data"
    }
   ],
   "source": [
    "y_pred = model_xgb.predict(x_val)\n",
    "result_rs['xgb'] = recall_score(y_val, y_pred)\n",
    "result_acc['xgb'] = accuracy_score(y_val, y_pred)\n",
    "print(classification_report(y_val, y_pred))\n",
    "sns.heatmap(confusion_matrix(y_val, y_pred), annot=True, cbar=False, cmap='Blues', fmt='g')\n",
    "plt.title('Confusion Matrix')\n",
    "plt.show()"
   ]
  },
  {
   "cell_type": "code",
   "execution_count": 56,
   "metadata": {},
   "outputs": [
    {
     "name": "stdout",
     "output_type": "stream",
     "text": [
      "              precision    recall  f1-score   support\n",
      "\n",
      "           0       0.91      0.98      0.95       176\n",
      "           1       0.70      0.29      0.41        24\n",
      "\n",
      "    accuracy                           0.90       200\n",
      "   macro avg       0.81      0.64      0.68       200\n",
      "weighted avg       0.89      0.90      0.88       200\n",
      "\n"
     ]
    },
    {
     "data": {
      "image/png": "[encoded data removed]",
      "text/plain": [
       "<Figure size 432x288 with 1 Axes>"
      ]
     },
     "metadata": {
      "needs_background": "light"
     },
     "output_type": "display_data"
    }
   ],
   "source": [
    "y_pred = model_dl_1.predict(x_val_scaled)\n",
    "y_pred = y_pred.round().reshape(-1)\n",
    "result_rs['DL 1'] = recall_score(y_val, y_pred)\n",
    "result_acc['DL 1'] = accuracy_score(y_val, y_pred)\n",
    "print(classification_report(y_val, y_pred))\n",
    "sns.heatmap(confusion_matrix(y_val, y_pred), annot=True, cbar=False, cmap='Blues', fmt='g')\n",
    "plt.title('Confusion Matrix')\n",
    "plt.show()"
   ]
  },
  {
   "cell_type": "code",
   "execution_count": 57,
   "metadata": {},
   "outputs": [
    {
     "name": "stdout",
     "output_type": "stream",
     "text": [
      "              precision    recall  f1-score   support\n",
      "\n",
      "           0       0.93      0.92      0.92       176\n",
      "           1       0.44      0.46      0.45        24\n",
      "\n",
      "    accuracy                           0.86       200\n",
      "   macro avg       0.68      0.69      0.69       200\n",
      "weighted avg       0.87      0.86      0.87       200\n",
      "\n"
     ]
    },
    {
     "data": {
      "image/png": "[encoded data removed]",
      "text/plain": [
       "<Figure size 432x288 with 1 Axes>"
      ]
     },
     "metadata": {
      "needs_background": "light"
     },
     "output_type": "display_data"
    }
   ],
   "source": [
    "y_pred = model_dl_2.predict(x_val_scaled)\n",
    "y_pred = y_pred.round().reshape(-1)\n",
    "result_rs['DL 2'] = recall_score(y_val, y_pred)\n",
    "result_acc['DL 2'] = accuracy_score(y_val, y_pred)\n",
    "print(classification_report(y_val, y_pred))\n",
    "sns.heatmap(confusion_matrix(y_val, y_pred), annot=True, cbar=False, cmap='Blues', fmt='g')\n",
    "plt.title('Confusion Matrix')\n",
    "plt.show()"
   ]
  },
  {
   "cell_type": "code",
   "execution_count": 58,
   "metadata": {},
   "outputs": [
    {
     "name": "stdout",
     "output_type": "stream",
     "text": [
      "              precision    recall  f1-score   support\n",
      "\n",
      "           0       0.92      0.96      0.94       176\n",
      "           1       0.59      0.42      0.49        24\n",
      "\n",
      "    accuracy                           0.90       200\n",
      "   macro avg       0.76      0.69      0.71       200\n",
      "weighted avg       0.88      0.90      0.89       200\n",
      "\n"
     ]
    },
    {
     "data": {
      "image/png": "[encoded data removed]",
      "text/plain": [
       "<Figure size 432x288 with 1 Axes>"
      ]
     },
     "metadata": {
      "needs_background": "light"
     },
     "output_type": "display_data"
    }
   ],
   "source": [
    "y_pred = model_dl_3.predict(x_val_scaled)\n",
    "y_pred = y_pred.round().reshape(-1)\n",
    "result_rs['DL 3'] = recall_score(y_val, y_pred)\n",
    "result_acc['DL 3'] = accuracy_score(y_val, y_pred)\n",
    "print(classification_report(y_val, y_pred))\n",
    "sns.heatmap(confusion_matrix(y_val, y_pred), annot=True, cbar=False, cmap='Blues', fmt='g')\n",
    "plt.title('Confusion Matrix')\n",
    "plt.show()"
   ]
  },
  {
   "cell_type": "code",
   "execution_count": 59,
   "metadata": {},
   "outputs": [
    {
     "name": "stdout",
     "output_type": "stream",
     "text": [
      "==============================\n",
      "Logistic Regression\n",
      "------------------------------\n",
      "Accuracy:  0.91 Recall:  0.29\n",
      "==============================\n",
      "Decision Tree\n",
      "------------------------------\n",
      "Accuracy:  0.87 Recall:  0.21\n",
      "==============================\n",
      "SVM rbf\n",
      "------------------------------\n",
      "Accuracy:  0.9 Recall:  0.21\n",
      "==============================\n",
      "SVM linear\n",
      "------------------------------\n",
      "Accuracy:  0.91 Recall:  0.33\n",
      "==============================\n",
      "xgb\n",
      "------------------------------\n",
      "Accuracy:  0.87 Recall:  0.29\n",
      "==============================\n",
      "DL 1\n",
      "------------------------------\n",
      "Accuracy:  0.9 Recall:  0.29\n",
      "==============================\n",
      "DL 2\n",
      "------------------------------\n",
      "Accuracy:  0.86 Recall:  0.46\n",
      "==============================\n",
      "DL 3\n",
      "------------------------------\n",
      "Accuracy:  0.9 Recall:  0.42\n"
     ]
    }
   ],
   "source": [
    "for (name, acc), (_, rs) in zip(result_acc.items(), result_rs.items()):\n",
    "    print('='*30)\n",
    "    print(name)\n",
    "    print('-'*30)\n",
    "    print('Accuracy: ', round(acc,2), 'Recall: ', round(rs,2))"
   ]
  },
  {
   "cell_type": "markdown",
   "metadata": {},
   "source": [
    "### 5.3 모델 선택"
   ]
  },
  {
   "cell_type": "code",
   "execution_count": 60,
   "metadata": {},
   "outputs": [],
   "source": [
    "# Recall 값과 Accuracy값 모두 높은 DL 3 모델과 Accuracy는 조금 떨어지지만, recall값이 높은 DL 2모델을 사용할 것이다."
   ]
  },
  {
   "cell_type": "markdown",
   "metadata": {},
   "source": [
    "### 5.4 최종 모델 성능 평가(Test Data)"
   ]
  },
  {
   "cell_type": "code",
   "execution_count": 61,
   "metadata": {
    "id": "-Qo9AvO-OVkQ"
   },
   "outputs": [
    {
     "data": {
      "text/plain": [
       "((200, 53),\n",
       " (200,),\n",
       " 0    169\n",
       " 1     31\n",
       " Name: Attrition, dtype: int64)"
      ]
     },
     "execution_count": 61,
     "metadata": {},
     "output_type": "execute_result"
    }
   ],
   "source": [
    "x_test_scaled = scaler.transform(x_test)\n",
    "x_test.shape, y_test.shape, y_test.value_counts()"
   ]
  },
  {
   "cell_type": "code",
   "execution_count": 62,
   "metadata": {},
   "outputs": [],
   "source": [
    "result_rs_test = {}\n",
    "result_acc_test = {}\n",
    "\n",
    "y_pred = model_LR.predict(x_test)\n",
    "result_rs_test['Logistic Regression'] = recall_score(y_test, y_pred)\n",
    "result_acc_test['Logistic Regression'] = accuracy_score(y_test, y_pred)\n",
    "\n",
    "y_pred = model_dt.predict(x_test)\n",
    "result_rs_test['Decision Tree'] = recall_score(y_test, y_pred)\n",
    "result_acc_test['Decision Tree'] = accuracy_score(y_test, y_pred)\n",
    "\n",
    "y_pred = model_svm_rbf.predict(x_test_scaled)\n",
    "result_rs_test['SVM rbf'] = recall_score(y_test, y_pred)\n",
    "result_acc_test['SVM rbf'] = accuracy_score(y_test, y_pred)\n",
    "\n",
    "y_pred = model_svm_linear.predict(x_test_scaled)\n",
    "result_rs_test['SVM linear'] = recall_score(y_test, y_pred)\n",
    "result_acc_test['SVM linear'] = accuracy_score(y_test, y_pred)\n",
    "\n",
    "y_pred = model_xgb.predict(x_test)\n",
    "result_rs_test['xgb'] = recall_score(y_test, y_pred)\n",
    "result_acc_test['xgb'] = accuracy_score(y_test, y_pred)\n",
    "\n",
    "y_pred = model_dl_1.predict(x_test_scaled)\n",
    "y_pred = y_pred.round().reshape(-1)\n",
    "result_rs_test['DL 1'] = recall_score(y_test, y_pred)\n",
    "result_acc_test['DL 1'] = accuracy_score(y_test, y_pred)\n",
    "\n",
    "y_pred = model_dl_2.predict(x_test_scaled)\n",
    "y_pred = y_pred.round().reshape(-1)\n",
    "result_rs_test['DL 2'] = recall_score(y_test, y_pred)\n",
    "result_acc_test['DL 2'] = accuracy_score(y_test, y_pred)\n",
    "\n",
    "y_pred = model_dl_3.predict(x_test_scaled)\n",
    "y_pred = y_pred.round().reshape(-1)\n",
    "result_rs_test['DL 3'] = recall_score(y_test, y_pred)\n",
    "result_acc_test['DL 3'] = accuracy_score(y_test, y_pred)"
   ]
  },
  {
   "cell_type": "code",
   "execution_count": 63,
   "metadata": {},
   "outputs": [
    {
     "name": "stdout",
     "output_type": "stream",
     "text": [
      "==============================\n",
      "Logistic Regression\n",
      "------------------------------\n",
      "Accuracy:  0.9 Recall:  0.52\n",
      "==============================\n",
      "Decision Tree\n",
      "------------------------------\n",
      "Accuracy:  0.88 Recall:  0.32\n",
      "==============================\n",
      "SVM rbf\n",
      "------------------------------\n",
      "Accuracy:  0.9 Recall:  0.32\n",
      "==============================\n",
      "SVM linear\n",
      "------------------------------\n",
      "Accuracy:  0.91 Recall:  0.48\n",
      "==============================\n",
      "xgb\n",
      "------------------------------\n",
      "Accuracy:  0.87 Recall:  0.52\n",
      "==============================\n",
      "DL 1\n",
      "------------------------------\n",
      "Accuracy:  0.9 Recall:  0.48\n",
      "==============================\n",
      "DL 2\n",
      "------------------------------\n",
      "Accuracy:  0.86 Recall:  0.48\n",
      "==============================\n",
      "DL 3\n",
      "------------------------------\n",
      "Accuracy:  0.92 Recall:  0.55\n"
     ]
    }
   ],
   "source": [
    "for (name, acc), (_, rs) in zip(result_acc_test.items(), result_rs_test.items()):\n",
    "    print('='*30)\n",
    "    print(name)\n",
    "    print('-'*30)\n",
    "    print('Accuracy: ', round(acc,2), 'Recall: ', round(rs,2))"
   ]
  },
  {
   "cell_type": "markdown",
   "metadata": {},
   "source": [
    "## 6. 결론"
   ]
  },
  {
   "cell_type": "code",
   "execution_count": 64,
   "metadata": {},
   "outputs": [],
   "source": [
    "# 예상과 같이 test set에 대하여 DL 3이 가장 좋은 성능을 보이고 있었다.\n",
    "# 하지만, 두번째로 성능이 뛰어났던 것은 DL 2가 아닌 Logistic Regression모델이었다.\n",
    "# target데이터의 불균형 때문에 대체적으로 recall값이 낮은 것 같다.\n",
    "# Input 컬럼을 달리해서 넣거나 추가적인 feature를 생성해야 할 것 같다."
   ]
  }
 ],
 "metadata": {
  "colab": {
   "collapsed_sections": [],
   "name": "과제2. 직원 이직 분석.ipynb",
   "provenance": [],
   "toc_visible": true
  },
  "kernelspec": {
   "display_name": "Python 3",
   "language": "python",
   "name": "python3"
  },
  "language_info": {
   "codemirror_mode": {
    "name": "ipython",
    "version": 3
   },
   "file_extension": ".py",
   "mimetype": "text/x-python",
   "name": "python",
   "nbconvert_exporter": "python",
   "pygments_lexer": "ipython3",
   "version": "3.8.8"
  }
 },
 "nbformat": 4,
 "nbformat_minor": 4
}
